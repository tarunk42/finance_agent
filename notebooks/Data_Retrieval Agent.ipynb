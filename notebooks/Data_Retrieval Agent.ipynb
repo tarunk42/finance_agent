{
 "cells": [
  {
   "cell_type": "code",
   "execution_count": 1,
   "id": "9f1ac150-24db-40c4-90e2-f29a393d9c9d",
   "metadata": {},
   "outputs": [],
   "source": [
    "import yfinance as yf\n",
    "import ccxt\n",
    "import aiohttp\n",
    "import asyncio\n",
    "import pandas as pd\n",
    "from datetime import datetime, timedelta"
   ]
  },
  {
   "cell_type": "markdown",
   "id": "69eb1f44-46a2-451a-86b2-0988f8de1728",
   "metadata": {},
   "source": [
    "# Data Retrieval Tools"
   ]
  },
  {
   "cell_type": "code",
   "execution_count": 2,
   "id": "398f30fa-054b-4589-b3b5-bf54e219989c",
   "metadata": {},
   "outputs": [],
   "source": [
    "class DataRetrievalAgent:\n",
    "    def __init__(self):\n",
    "        self.crypto_exchange = ccxt.binance()  # Using Binance for crypto data\n",
    "\n",
    "    async def fetch_stock_data(self, ticker, period=\"1d\", interval=\"1h\"):\n",
    "        \"\"\"\n",
    "        Fetches stock data from Yahoo Finance.\n",
    "        \"\"\"\n",
    "        try:\n",
    "            stock = yf.Ticker(ticker)\n",
    "            data = stock.history(period=period, interval=interval)\n",
    "            return {\n",
    "                \"ticker\": ticker,\n",
    "                \"latest_price\": data[\"Close\"].iloc[-1] if not data.empty else None,\n",
    "                \"high\": data[\"High\"].iloc[-1] if not data.empty else None,\n",
    "                \"low\": data[\"Low\"].iloc[-1] if not data.empty else None,\n",
    "                \"volume\": data[\"Volume\"].iloc[-1] if not data.empty else None,\n",
    "                \"timestamp\": str(datetime.now())\n",
    "            }\n",
    "        except Exception as e:\n",
    "            return {\"error\": f\"Stock data retrieval failed: {str(e)}\"}\n",
    "\n",
    "    async def fetch_crypto_data(self, symbol=\"BTC/USDT\"):\n",
    "        \"\"\"\n",
    "        Fetches real-time crypto data from Binance.\n",
    "        \"\"\"\n",
    "        try:\n",
    "            ticker = self.crypto_exchange.fetch_ticker(symbol)\n",
    "            return {\n",
    "                \"symbol\": symbol,\n",
    "                \"latest_price\": ticker[\"last\"],\n",
    "                \"high\": ticker[\"high\"],\n",
    "                \"low\": ticker[\"low\"],\n",
    "                \"volume\": ticker[\"quoteVolume\"],\n",
    "                \"timestamp\": ticker[\"timestamp\"]\n",
    "            }\n",
    "        except Exception as e:\n",
    "            return {\"error\": f\"Crypto data retrieval failed: {str(e)}\"}\n",
    "\n",
    "    async def fetch_historical_stock(self, ticker, days=30):\n",
    "        \"\"\"\n",
    "        Fetches historical stock data for trend analysis.\n",
    "        \"\"\"\n",
    "        try:\n",
    "            end_date = datetime.today().strftime(\"%Y-%m-%d\")\n",
    "            start_date = (datetime.today() - timedelta(days=days)).strftime(\"%Y-%m-%d\")\n",
    "            stock = yf.Ticker(ticker)\n",
    "            data = stock.history(start=start_date, end=end_date)\n",
    "            return data.to_dict(orient=\"records\") if not data.empty else {\"error\": \"No historical data available\"}\n",
    "        except Exception as e:\n",
    "            return {\"error\": f\"Historical stock data retrieval failed: {str(e)}\"}\n",
    "\n",
    "    async def fetch_historical_crypto(self, symbol=\"BTC/USDT\", days=30):\n",
    "        \"\"\"\n",
    "        Fetches historical crypto data using Binance.\n",
    "        \"\"\"\n",
    "        try:\n",
    "            since = self.crypto_exchange.parse8601((datetime.utcnow() - timedelta(days=days)).isoformat())\n",
    "            candles = self.crypto_exchange.fetch_ohlcv(symbol, timeframe=\"1d\", since=since, limit=days)\n",
    "            return [{\"timestamp\": c[0], \"open\": c[1], \"high\": c[2], \"low\": c[3], \"close\": c[4], \"volume\": c[5]} for c in candles]\n",
    "        except Exception as e:\n",
    "            return {\"error\": f\"Historical crypto data retrieval failed: {str(e)}\"}\n",
    "\n",
    "    async def run(self, stock_ticker=\"TSLA\", crypto_symbol=\"BTC/USDT\"):\n",
    "        \"\"\"\n",
    "        Runs the agent to fetch real-time and historical data.\n",
    "        \"\"\"\n",
    "        tasks = [\n",
    "            self.fetch_stock_data(stock_ticker),\n",
    "            self.fetch_crypto_data(crypto_symbol),\n",
    "            self.fetch_historical_stock(stock_ticker, days=30),\n",
    "            self.fetch_historical_crypto(crypto_symbol, days=30),\n",
    "        ]\n",
    "        stock, crypto, stock_hist, crypto_hist = await asyncio.gather(*tasks)\n",
    "        return {\n",
    "            \"stock_data\": stock,\n",
    "            \"crypto_data\": crypto,\n",
    "            \"historical_stock\": stock_hist,\n",
    "            \"historical_crypto\": crypto_hist\n",
    "        }"
   ]
  },
  {
   "cell_type": "code",
   "execution_count": 3,
   "id": "9bcfb853-56c6-4c19-bb8f-165e5bf38bce",
   "metadata": {},
   "outputs": [
    {
     "name": "stderr",
     "output_type": "stream",
     "text": [
      "/var/folders/dd/1frb69z52qjck_t8hrk9lt2w0000gn/T/ipykernel_42323/59532301.py:58: DeprecationWarning: datetime.datetime.utcnow() is deprecated and scheduled for removal in a future version. Use timezone-aware objects to represent datetimes in UTC: datetime.datetime.now(datetime.UTC).\n",
      "  since = self.crypto_exchange.parse8601((datetime.utcnow() - timedelta(days=days)).isoformat())\n"
     ]
    },
    {
     "name": "stdout",
     "output_type": "stream",
     "text": [
      "{'stock_data': {'ticker': 'AAPL', 'latest_price': np.float64(227.63999938964844), 'high': np.float64(227.8800048828125), 'low': np.float64(227.1999969482422), 'volume': np.int64(3507517), 'timestamp': '2025-02-10 21:59:01.756084'}, 'crypto_data': {'symbol': 'ETH/USDT', 'latest_price': 2664.82, 'high': 2693.79, 'low': 2527.2, 'volume': 1217004049.62438, 'timestamp': 1739224744052}, 'historical_stock': [{'Open': 233.52999877929688, 'High': 234.6699981689453, 'Low': 229.72000122070312, 'Close': 234.39999389648438, 'Volume': 49630700, 'Dividends': 0.0, 'Stock Splits': 0.0}, {'Open': 234.75, 'High': 236.1199951171875, 'Low': 232.47000122070312, 'Close': 233.27999877929688, 'Volume': 39435300, 'Dividends': 0.0, 'Stock Splits': 0.0}, {'Open': 234.63999938964844, 'High': 238.9600067138672, 'Low': 234.42999267578125, 'Close': 237.8699951171875, 'Volume': 39832000, 'Dividends': 0.0, 'Stock Splits': 0.0}, {'Open': 237.35000610351562, 'High': 238.00999450683594, 'Low': 228.02999877929688, 'Close': 228.25999450683594, 'Volume': 71759100, 'Dividends': 0.0, 'Stock Splits': 0.0}, {'Open': 232.1199951171875, 'High': 232.2899932861328, 'Low': 228.47999572753906, 'Close': 229.97999572753906, 'Volume': 68488300, 'Dividends': 0.0, 'Stock Splits': 0.0}, {'Open': 224.0, 'High': 224.4199981689453, 'Low': 219.3800048828125, 'Close': 222.63999938964844, 'Volume': 98070400, 'Dividends': 0.0, 'Stock Splits': 0.0}, {'Open': 219.7899932861328, 'High': 224.1199951171875, 'Low': 219.7899932861328, 'Close': 223.8300018310547, 'Volume': 64126500, 'Dividends': 0.0, 'Stock Splits': 0.0}, {'Open': 224.74000549316406, 'High': 227.02999877929688, 'Low': 222.3000030517578, 'Close': 223.66000366210938, 'Volume': 60234800, 'Dividends': 0.0, 'Stock Splits': 0.0}, {'Open': 224.77999877929688, 'High': 225.6300048828125, 'Low': 221.41000366210938, 'Close': 222.77999877929688, 'Volume': 54697900, 'Dividends': 0.0, 'Stock Splits': 0.0}, {'Open': 224.02000427246094, 'High': 232.14999389648438, 'Low': 223.97999572753906, 'Close': 229.86000061035156, 'Volume': 94863400, 'Dividends': 0.0, 'Stock Splits': 0.0}, {'Open': 230.85000610351562, 'High': 240.19000244140625, 'Low': 230.80999755859375, 'Close': 238.25999450683594, 'Volume': 75707600, 'Dividends': 0.0, 'Stock Splits': 0.0}, {'Open': 234.1199951171875, 'High': 239.86000061035156, 'Low': 234.00999450683594, 'Close': 239.36000061035156, 'Volume': 45486100, 'Dividends': 0.0, 'Stock Splits': 0.0}, {'Open': 238.6699981689453, 'High': 240.7899932861328, 'Low': 237.2100067138672, 'Close': 237.58999633789062, 'Volume': 55658300, 'Dividends': 0.0, 'Stock Splits': 0.0}, {'Open': 247.19000244140625, 'High': 247.19000244140625, 'Low': 233.44000244140625, 'Close': 236.0, 'Volume': 101075100, 'Dividends': 0.0, 'Stock Splits': 0.0}, {'Open': 229.99000549316406, 'High': 231.8300018310547, 'Low': 225.6999969482422, 'Close': 228.00999450683594, 'Volume': 73063300, 'Dividends': 0.0, 'Stock Splits': 0.0}, {'Open': 227.25, 'High': 233.1300048828125, 'Low': 226.64999389648438, 'Close': 232.8000030517578, 'Volume': 45067300, 'Dividends': 0.0, 'Stock Splits': 0.0}, {'Open': 228.52999877929688, 'High': 232.6699981689453, 'Low': 228.27000427246094, 'Close': 232.47000122070312, 'Volume': 39620300, 'Dividends': 0.0, 'Stock Splits': 0.0}, {'Open': 231.2899932861328, 'High': 233.8000030517578, 'Low': 230.42999267578125, 'Close': 233.22000122070312, 'Volume': 29925300, 'Dividends': 0.0, 'Stock Splits': 0.0}, {'Open': 232.60000610351562, 'High': 234.0, 'Low': 227.25999450683594, 'Close': 227.6300048828125, 'Volume': 39666100, 'Dividends': 0.0, 'Stock Splits': 0.0}], 'historical_crypto': [{'timestamp': 1736640000000, 'open': 3282.83, 'high': 3300.0, 'low': 3224.49, 'close': 3267.3, 'volume': 164879.9709}, {'timestamp': 1736726400000, 'open': 3267.3, 'high': 3339.0, 'low': 2920.0, 'close': 3137.51, 'volume': 845907.5669}, {'timestamp': 1736812800000, 'open': 3137.51, 'high': 3256.67, 'low': 3125.65, 'close': 3225.63, 'volume': 374308.4517}, {'timestamp': 1736899200000, 'open': 3225.63, 'high': 3473.75, 'low': 3186.36, 'close': 3451.52, 'volume': 464188.034}, {'timestamp': 1736985600000, 'open': 3451.51, 'high': 3460.79, 'low': 3265.44, 'close': 3308.05, 'volume': 471282.6787}, {'timestamp': 1737072000000, 'open': 3308.04, 'high': 3525.72, 'low': 3307.5, 'close': 3473.63, 'volume': 518550.1813}, {'timestamp': 1737158400000, 'open': 3473.64, 'high': 3494.39, 'low': 3227.0, 'close': 3307.71, 'volume': 634197.1281}, {'timestamp': 1737244800000, 'open': 3307.71, 'high': 3448.99, 'low': 3130.48, 'close': 3215.12, 'volume': 1342301.5217}, {'timestamp': 1737331200000, 'open': 3215.2, 'high': 3453.69, 'low': 3142.78, 'close': 3284.0, 'volume': 1158354.7814}, {'timestamp': 1737417600000, 'open': 3283.99, 'high': 3368.0, 'low': 3204.6, 'close': 3327.54, 'volume': 548706.0513}, {'timestamp': 1737504000000, 'open': 3327.55, 'high': 3365.99, 'low': 3222.85, 'close': 3242.6, 'volume': 349240.7498}, {'timestamp': 1737590400000, 'open': 3242.61, 'high': 3347.97, 'low': 3185.0, 'close': 3338.21, 'volume': 605592.7225}, {'timestamp': 1737676800000, 'open': 3338.22, 'high': 3428.0, 'low': 3275.9, 'close': 3310.09, 'volume': 451524.2752}, {'timestamp': 1737763200000, 'open': 3310.1, 'high': 3350.68, 'low': 3268.66, 'close': 3318.77, 'volume': 208559.0415}, {'timestamp': 1737849600000, 'open': 3318.76, 'high': 3362.0, 'low': 3230.0, 'close': 3232.61, 'volume': 272165.469}, {'timestamp': 1737936000000, 'open': 3232.61, 'high': 3253.91, 'low': 3020.01, 'close': 3182.44, 'volume': 753004.7529}, {'timestamp': 1738022400000, 'open': 3182.44, 'high': 3223.01, 'low': 3040.03, 'close': 3077.72, 'volume': 350959.7173}, {'timestamp': 1738108800000, 'open': 3077.72, 'high': 3182.52, 'low': 3054.06, 'close': 3113.9, 'volume': 409737.2576}, {'timestamp': 1738195200000, 'open': 3113.9, 'high': 3283.43, 'low': 3091.06, 'close': 3247.39, 'volume': 350639.4823}, {'timestamp': 1738281600000, 'open': 3247.38, 'high': 3437.31, 'low': 3213.8, 'close': 3300.99, 'volume': 648681.6561}, {'timestamp': 1738368000000, 'open': 3300.99, 'high': 3331.98, 'low': 3101.7, 'close': 3117.54, 'volume': 354065.2525}, {'timestamp': 1738454400000, 'open': 3117.54, 'high': 3163.2, 'low': 2750.71, 'close': 2869.68, 'volume': 1050805.93}, {'timestamp': 1738540800000, 'open': 2869.68, 'high': 2921.0, 'low': 2125.01, 'close': 2879.9, 'volume': 2807979.021}, {'timestamp': 1738627200000, 'open': 2879.89, 'high': 2888.5, 'low': 2632.6, 'close': 2731.19, 'volume': 1259594.3919}, {'timestamp': 1738713600000, 'open': 2731.19, 'high': 2826.95, 'low': 2699.13, 'close': 2788.25, 'volume': 686593.0429}, {'timestamp': 1738800000000, 'open': 2788.25, 'high': 2857.64, 'low': 2655.28, 'close': 2686.64, 'volume': 719459.9571}, {'timestamp': 1738886400000, 'open': 2686.63, 'high': 2797.5, 'low': 2562.51, 'close': 2622.1, 'volume': 695467.3612}, {'timestamp': 1738972800000, 'open': 2622.11, 'high': 2667.3, 'low': 2588.8, 'close': 2632.46, 'volume': 379685.1509}, {'timestamp': 1739059200000, 'open': 2632.46, 'high': 2698.9, 'low': 2520.02, 'close': 2627.18, 'volume': 387166.7911}, {'timestamp': 1739145600000, 'open': 2627.18, 'high': 2693.79, 'low': 2559.85, 'close': 2664.82, 'volume': 383807.7554}]}\n"
     ]
    }
   ],
   "source": [
    "# Testing in Jupyter Notebook\n",
    "async def main():\n",
    "    agent = DataRetrievalAgent()\n",
    "    result = await agent.run(stock_ticker=\"AAPL\", crypto_symbol=\"ETH/USDT\")\n",
    "    print(result)\n",
    "\n",
    "# Run in async mode\n",
    "await main()"
   ]
  },
  {
   "cell_type": "markdown",
   "id": "f573df34-c89b-4480-ba63-adde411870ac",
   "metadata": {},
   "source": [
    "## Test"
   ]
  },
  {
   "cell_type": "code",
   "execution_count": 4,
   "id": "91802fa2-8d3e-4a6a-828e-7879ee57b9bf",
   "metadata": {},
   "outputs": [
    {
     "name": "stdout",
     "output_type": "stream",
     "text": [
      "Stock Data [AAPL]: {'ticker': 'AAPL', 'latest_price': np.float64(227.63999938964844), 'high': np.float64(227.8800048828125), 'low': np.float64(227.1999969482422), 'volume': np.int64(3507517), 'timestamp': '2025-02-10 22:02:31.607483'}\n",
      "Stock Data [TSLA]: {'ticker': 'TSLA', 'latest_price': np.float64(350.6400146484375), 'high': np.float64(355.0), 'low': np.float64(350.510009765625), 'volume': np.int64(8336029), 'timestamp': '2025-02-10 22:02:31.675644'}\n",
      "Stock Data [NVDA]: {'ticker': 'NVDA', 'latest_price': np.float64(133.50999450683594), 'high': np.float64(134.6699981689453), 'low': np.float64(133.38999938964844), 'volume': np.int64(17439170), 'timestamp': '2025-02-10 22:02:31.744475'}\n",
      "Stock Data [AMZN]: {'ticker': 'AMZN', 'latest_price': np.float64(233.1300048828125), 'high': np.float64(233.9149932861328), 'low': np.float64(232.97999572753906), 'volume': np.int64(2887593), 'timestamp': '2025-02-10 22:02:31.857721'}\n",
      "Crypto Data [BTC/USDT]: {'symbol': 'BTC/USDT', 'latest_price': 97339.63, 'high': 98345.0, 'low': 94882.04, 'volume': 2120227163.3759785, 'timestamp': 1739224953717}\n",
      "Crypto Data [ETH/USDT]: {'symbol': 'ETH/USDT', 'latest_price': 2662.25, 'high': 2693.79, 'low': 2537.69, 'volume': 1194974158.235936, 'timestamp': 1739224953927}\n",
      "Crypto Data [SOL/USDT]: {'symbol': 'SOL/USDT', 'latest_price': 199.62, 'high': 209.05, 'low': 194.42, 'volume': 853289939.11104, 'timestamp': 1739224954152}\n"
     ]
    }
   ],
   "source": [
    "import asyncio\n",
    "\n",
    "async def test_versatility():\n",
    "    agent = DataRetrievalAgent()\n",
    "\n",
    "    # Multiple stock symbols\n",
    "    stock_symbols = [\"AAPL\", \"TSLA\", \"NVDA\", \"AMZN\"]\n",
    "    crypto_symbols = [\"BTC/USDT\", \"ETH/USDT\", \"SOL/USDT\"]\n",
    "\n",
    "    # Run tests\n",
    "    tasks = []\n",
    "    for stock in stock_symbols:\n",
    "        tasks.append(agent.fetch_stock_data(stock, period=\"5d\", interval=\"1h\"))\n",
    "\n",
    "    for crypto in crypto_symbols:\n",
    "        tasks.append(agent.fetch_crypto_data(crypto))\n",
    "\n",
    "    results = await asyncio.gather(*tasks)\n",
    "\n",
    "    # Print results\n",
    "    for i, stock in enumerate(stock_symbols):\n",
    "        print(f\"Stock Data [{stock}]:\", results[i])\n",
    "\n",
    "    for j, crypto in enumerate(crypto_symbols):\n",
    "        print(f\"Crypto Data [{crypto}]:\", results[len(stock_symbols) + j])\n",
    "\n",
    "# Run tests\n",
    "await test_versatility()"
   ]
  },
  {
   "cell_type": "code",
   "execution_count": 5,
   "id": "844bf893-7ce9-4c63-aa46-78a3fef555d7",
   "metadata": {},
   "outputs": [
    {
     "name": "stderr",
     "output_type": "stream",
     "text": [
      "$INVALID: possibly delisted; no price data found  (period=1d) (Yahoo error = \"No data found, symbol may be delisted\")\n"
     ]
    },
    {
     "name": "stdout",
     "output_type": "stream",
     "text": [
      "Invalid Stock Test: {'ticker': 'INVALID', 'latest_price': None, 'high': None, 'low': None, 'volume': None, 'timestamp': '2025-02-10 22:03:04.094932'}\n",
      "Invalid Crypto Test: {'error': 'Crypto data retrieval failed: binance does not have market symbol FAKE/USDT'}\n"
     ]
    }
   ],
   "source": [
    "async def test_invalid_inputs():\n",
    "    agent = DataRetrievalAgent()\n",
    "    \n",
    "    # Invalid stock and crypto symbols\n",
    "    stock_invalid = await agent.fetch_stock_data(\"INVALID\")\n",
    "    crypto_invalid = await agent.fetch_crypto_data(\"FAKE/USDT\")\n",
    "\n",
    "    print(\"Invalid Stock Test:\", stock_invalid)\n",
    "    print(\"Invalid Crypto Test:\", crypto_invalid)\n",
    "\n",
    "await test_invalid_inputs()"
   ]
  },
  {
   "cell_type": "code",
   "execution_count": null,
   "id": "17c9d275-9081-445a-bcdd-762b9dcaa157",
   "metadata": {},
   "outputs": [],
   "source": []
  }
 ],
 "metadata": {
  "kernelspec": {
   "display_name": "Python 3 (ipykernel)",
   "language": "python",
   "name": "python3"
  },
  "language_info": {
   "codemirror_mode": {
    "name": "ipython",
    "version": 3
   },
   "file_extension": ".py",
   "mimetype": "text/x-python",
   "name": "python",
   "nbconvert_exporter": "python",
   "pygments_lexer": "ipython3",
   "version": "3.13.1"
  }
 },
 "nbformat": 4,
 "nbformat_minor": 5
}
