{
 "cells": [
  {
   "cell_type": "code",
   "execution_count": 1,
   "id": "95047a52-76c4-4c66-b279-cb7bd882f8e3",
   "metadata": {},
   "outputs": [
    {
     "name": "stdout",
     "output_type": "stream",
     "text": [
      "Setup successful!\n"
     ]
    }
   ],
   "source": [
    "import pandas as pd\n",
    "import yfinance as yf\n",
    "import requests\n",
    "import torch\n",
    "print(\"Setup successful!\")"
   ]
  },
  {
   "cell_type": "markdown",
   "id": "8cd4a088-074a-406f-8d7d-f6d678a2967b",
   "metadata": {},
   "source": [
    "## setup project environemnt"
   ]
  },
  {
   "cell_type": "code",
   "execution_count": 2,
   "id": "eecda3df-3c6b-441c-9ce3-9164066908bc",
   "metadata": {},
   "outputs": [
    {
     "name": "stdout",
     "output_type": "stream",
     "text": [
      "Updated sys.path: ['/opt/homebrew/Cellar/python@3.13/3.13.2/Frameworks/Python.framework/Versions/3.13/lib/python313.zip', '/opt/homebrew/Cellar/python@3.13/3.13.2/Frameworks/Python.framework/Versions/3.13/lib/python3.13', '/opt/homebrew/Cellar/python@3.13/3.13.2/Frameworks/Python.framework/Versions/3.13/lib/python3.13/lib-dynload', '', '/Users/tarunkashyap/Desktop/super_agent/agenv/lib/python3.13/site-packages', '/Users/tarunkashyap/Desktop/super_agent/finance_agents']\n"
     ]
    }
   ],
   "source": [
    "import os\n",
    "import sys\n",
    "\n",
    "# Move up two levels to reach 'finance_agent' root\n",
    "project_root = os.path.abspath(os.path.join(os.getcwd(), \"..\"))  # Go up one level\n",
    "if project_root not in sys.path:\n",
    "    sys.path.append(project_root)\n",
    "\n",
    "# Verify the path added\n",
    "print(\"Updated sys.path:\", sys.path)"
   ]
  },
  {
   "cell_type": "markdown",
   "id": "c8aa977f-1f21-445e-819d-fcc173d5f9e6",
   "metadata": {},
   "source": [
    "### test stock tools"
   ]
  },
  {
   "cell_type": "code",
   "execution_count": 3,
   "id": "fe783bed-4ac2-439c-aca8-b5e00f161416",
   "metadata": {},
   "outputs": [],
   "source": [
    "from tools.stock_market_tool import StockMarketTool, HistoricalStockMarketTool\n",
    "\n",
    "\n",
    "# Initialize the tools (API key is fetched from config)\n",
    "stock_tool = StockMarketTool()\n",
    "historical_stock_tool = HistoricalStockMarketTool()"
   ]
  },
  {
   "cell_type": "code",
   "execution_count": 4,
   "id": "1b13a000-8035-4ea3-af30-0dd28c9926b1",
   "metadata": {},
   "outputs": [
    {
     "name": "stdout",
     "output_type": "stream",
     "text": [
      "Fetching real-time stock price for: AAPL\n",
      "{'ticker': 'AAPL', 'latest_price': 248.96, 'high': 249.92, 'low': 244.91, 'volume': 23555858, 'timestamp': '2025-02-25 17:22:59.189178'}\n",
      "\n",
      "Fetching 30 days of historical data for: AAPL\n",
      "{'ticker': 'AAPL', 'historical_data': [{'date': '2025-02-25', 'open': 248, 'high': 249.92, 'low': 244.91, 'close': 249.25, 'volume': 23285881}, {'date': '2025-02-24', 'open': 244.93, 'high': 248.86, 'low': 244.42, 'close': 247.1, 'volume': 51013562}, {'date': '2025-02-21', 'open': 245.95, 'high': 248.69, 'low': 245.22, 'close': 245.55, 'volume': 53197431}, {'date': '2025-02-20', 'open': 244.94, 'high': 246.78, 'low': 244.29, 'close': 245.83, 'volume': 32316907}, {'date': '2025-02-19', 'open': 244.66, 'high': 246.01, 'low': 243.16, 'close': 244.87, 'volume': 32204215}, {'date': '2025-02-18', 'open': 244.15, 'high': 245.18, 'low': 241.84, 'close': 244.47, 'volume': 48822500}, {'date': '2025-02-14', 'open': 241.25, 'high': 245.55, 'low': 240.99, 'close': 244.6, 'volume': 40896227}, {'date': '2025-02-13', 'open': 236.91, 'high': 242.34, 'low': 235.57, 'close': 241.53, 'volume': 53614100}, {'date': '2025-02-12', 'open': 231.2, 'high': 236.96, 'low': 230.68, 'close': 236.87, 'volume': 45243300}, {'date': '2025-02-11', 'open': 228.2, 'high': 235.23, 'low': 228.13, 'close': 232.62, 'volume': 53718400}, {'date': '2025-02-10', 'open': 229.57, 'high': 230.59, 'low': 227.2, 'close': 227.65, 'volume': 33115645}, {'date': '2025-02-07', 'open': 232.6, 'high': 234, 'low': 227.26, 'close': 227.63, 'volume': 39707224}, {'date': '2025-02-06', 'open': 231.29, 'high': 233.8, 'low': 230.43, 'close': 233.22, 'volume': 29925349}, {'date': '2025-02-05', 'open': 228.53, 'high': 232.67, 'low': 228.27, 'close': 232.47, 'volume': 39664989}, {'date': '2025-02-04', 'open': 227.25, 'high': 233.13, 'low': 226.65, 'close': 232.8, 'volume': 45067301}, {'date': '2025-02-03', 'open': 229.99, 'high': 231.83, 'low': 225.7, 'close': 228.01, 'volume': 73063301}, {'date': '2025-01-31', 'open': 247.19, 'high': 247.19, 'low': 233.44, 'close': 236, 'volume': 101075128}, {'date': '2025-01-30', 'open': 238.67, 'high': 240.79, 'low': 237.21, 'close': 237.59, 'volume': 55658300}, {'date': '2025-01-29', 'open': 234.12, 'high': 239.86, 'low': 234.01, 'close': 239.36, 'volume': 45486100}, {'date': '2025-01-28', 'open': 230.85, 'high': 240.19, 'low': 230.81, 'close': 238.26, 'volume': 75707600}, {'date': '2025-01-27', 'open': 224.02, 'high': 232.15, 'low': 223.98, 'close': 229.86, 'volume': 94863418}, {'date': '2025-01-24', 'open': 224.78, 'high': 225.63, 'low': 221.41, 'close': 222.78, 'volume': 54697907}, {'date': '2025-01-23', 'open': 224.74, 'high': 227.03, 'low': 222.3, 'close': 223.66, 'volume': 60234800}, {'date': '2025-01-22', 'open': 219.79, 'high': 224.12, 'low': 219.79, 'close': 223.83, 'volume': 64126500}, {'date': '2025-01-21', 'open': 224, 'high': 224.42, 'low': 219.38, 'close': 222.64, 'volume': 98070429}, {'date': '2025-01-17', 'open': 232.12, 'high': 232.29, 'low': 228.48, 'close': 229.98, 'volume': 68488301}, {'date': '2025-01-16', 'open': 237.35, 'high': 238.01, 'low': 228.03, 'close': 228.26, 'volume': 71759100}, {'date': '2025-01-15', 'open': 234.64, 'high': 238.96, 'low': 234.43, 'close': 237.87, 'volume': 39832000}, {'date': '2025-01-14', 'open': 234.75, 'high': 236.12, 'low': 232.47, 'close': 233.28, 'volume': 39435300}, {'date': '2025-01-13', 'open': 233.53, 'high': 234.67, 'low': 229.72, 'close': 234.4, 'volume': 49630725}]}\n"
     ]
    }
   ],
   "source": [
    "# Test fetching real-time stock price\n",
    "ticker = \"AAPL\"\n",
    "print(\"Fetching real-time stock price for:\", ticker)\n",
    "stock_price_result = stock_tool._run(ticker)\n",
    "print(stock_price_result)\n",
    "\n",
    "# Test fetching historical stock data\n",
    "days = 30\n",
    "print(f\"\\nFetching {days} days of historical data for:\", ticker)\n",
    "historical_data_result = historical_stock_tool._run(ticker, days)\n",
    "print(historical_data_result)"
   ]
  },
  {
   "cell_type": "markdown",
   "id": "cd443c1f-bfb6-402d-9b9b-269c20d7965e",
   "metadata": {},
   "source": [
    "### test crypto tools"
   ]
  },
  {
   "cell_type": "code",
   "execution_count": 5,
   "id": "40f9106a-4766-4883-8784-7794f27cc999",
   "metadata": {},
   "outputs": [],
   "source": [
    "from tools.crypto_market_tool import CryptoMarketTool, HistoricalCryptoMarketTool"
   ]
  },
  {
   "cell_type": "code",
   "execution_count": 6,
   "id": "fe27467e-7d9b-4287-9c5d-b1f6de160b09",
   "metadata": {},
   "outputs": [
    {
     "name": "stdout",
     "output_type": "stream",
     "text": [
      "Live Crypto Data: {'symbol': 'BTC/USDT', 'latest_price': 86958.95, 'high': 95167.4, 'low': 86050.99, 'volume': 6926393053.53, 'timestamp': '2025-02-25 17:23:11'}\n",
      "Historical Crypto Data: [{'timestamp': '2025-01-27', 'open': 102620.01, 'high': 103260.0, 'low': 97777.77, 'close': 102082.83, 'volume': 50758.1341}, {'timestamp': '2025-01-28', 'open': 102082.83, 'high': 103800.0, 'low': 100272.68, 'close': 101335.52, 'volume': 22022.05765}, {'timestamp': '2025-01-29', 'open': 101335.52, 'high': 104782.68, 'low': 101328.01, 'close': 103733.24, 'volume': 23155.35802}, {'timestamp': '2025-01-30', 'open': 103733.25, 'high': 106457.44, 'low': 103278.54, 'close': 104722.94, 'volume': 19374.07472}, {'timestamp': '2025-01-31', 'open': 104722.94, 'high': 106012.0, 'low': 101560.0, 'close': 102429.56, 'volume': 21983.18193}, {'timestamp': '2025-02-01', 'open': 102429.56, 'high': 102783.71, 'low': 100279.51, 'close': 100635.65, 'volume': 12290.95747}, {'timestamp': '2025-02-02', 'open': 100635.66, 'high': 101456.6, 'low': 96150.0, 'close': 97700.59, 'volume': 34619.49939}, {'timestamp': '2025-02-03', 'open': 97700.59, 'high': 102500.01, 'low': 91231.0, 'close': 101328.52, 'volume': 75164.7385}, {'timestamp': '2025-02-04', 'open': 101328.51, 'high': 101732.31, 'low': 96150.0, 'close': 97763.13, 'volume': 40267.98697}, {'timestamp': '2025-02-05', 'open': 97763.14, 'high': 99149.0, 'low': 96155.0, 'close': 96612.43, 'volume': 26233.30444}, {'timestamp': '2025-02-06', 'open': 96612.44, 'high': 99120.0, 'low': 95676.64, 'close': 96554.35, 'volume': 23515.20405}, {'timestamp': '2025-02-07', 'open': 96554.35, 'high': 100137.99, 'low': 95620.34, 'close': 96506.8, 'volume': 31794.22065}, {'timestamp': '2025-02-08', 'open': 96506.8, 'high': 96880.0, 'low': 95688.0, 'close': 96444.74, 'volume': 10147.24294}, {'timestamp': '2025-02-09', 'open': 96444.75, 'high': 97323.09, 'low': 94713.0, 'close': 96462.75, 'volume': 14120.91613}, {'timestamp': '2025-02-10', 'open': 96462.75, 'high': 98345.0, 'low': 95256.0, 'close': 97430.82, 'volume': 20572.87537}, {'timestamp': '2025-02-11', 'open': 97430.82, 'high': 98478.42, 'low': 94876.88, 'close': 95778.2, 'volume': 18647.76379}, {'timestamp': '2025-02-12', 'open': 95778.21, 'high': 98119.99, 'low': 94088.23, 'close': 97869.99, 'volume': 29151.16625}, {'timestamp': '2025-02-13', 'open': 97870.0, 'high': 98083.91, 'low': 95217.36, 'close': 96608.14, 'volume': 19921.77616}, {'timestamp': '2025-02-14', 'open': 96608.13, 'high': 98826.0, 'low': 96252.82, 'close': 97500.48, 'volume': 18173.02646}, {'timestamp': '2025-02-15', 'open': 97500.47, 'high': 97972.26, 'low': 97223.58, 'close': 97569.66, 'volume': 7349.37683}, {'timestamp': '2025-02-16', 'open': 97569.67, 'high': 97704.47, 'low': 96046.18, 'close': 96118.12, 'volume': 8191.4249}, {'timestamp': '2025-02-17', 'open': 96118.12, 'high': 97046.59, 'low': 95205.0, 'close': 95780.0, 'volume': 16492.0451}, {'timestamp': '2025-02-18', 'open': 95780.01, 'high': 96753.91, 'low': 93388.09, 'close': 95671.74, 'volume': 23368.19471}, {'timestamp': '2025-02-19', 'open': 95671.74, 'high': 96899.99, 'low': 95029.99, 'close': 96644.37, 'volume': 16438.50954}, {'timestamp': '2025-02-20', 'open': 96644.37, 'high': 98711.36, 'low': 96415.09, 'close': 98305.0, 'volume': 17057.39177}, {'timestamp': '2025-02-21', 'open': 98305.01, 'high': 99475.0, 'low': 94871.95, 'close': 96181.98, 'volume': 32249.2814}, {'timestamp': '2025-02-22', 'open': 96181.99, 'high': 96980.0, 'low': 95770.49, 'close': 96551.01, 'volume': 11268.17708}, {'timestamp': '2025-02-23', 'open': 96551.01, 'high': 96650.0, 'low': 95227.94, 'close': 96258.0, 'volume': 10884.84913}, {'timestamp': '2025-02-24', 'open': 96258.0, 'high': 96500.0, 'low': 91349.26, 'close': 91552.88, 'volume': 31550.10299}, {'timestamp': '2025-02-25', 'open': 91552.88, 'high': 92540.69, 'low': 86050.99, 'close': 86944.83, 'volume': 64916.72649}]\n"
     ]
    }
   ],
   "source": [
    "crypto_tool = CryptoMarketTool()\n",
    "\n",
    "# Test real-time crypto retrieval\n",
    "crypto_data = crypto_tool._run(\"BTC/USDT\")\n",
    "print(\"Live Crypto Data:\", crypto_data)\n",
    "\n",
    "# Test historical crypto retrieval\n",
    "historical_crypto_tool = HistoricalCryptoMarketTool()\n",
    "historical_crypto_data = historical_crypto_tool._run(\"BTC/USDT\", 30)\n",
    "print(\"Historical Crypto Data:\", historical_crypto_data)"
   ]
  },
  {
   "cell_type": "markdown",
   "id": "1e60c47f-f224-499a-9c30-e17f1ea80e0d",
   "metadata": {},
   "source": [
    "### test news tools"
   ]
  },
  {
   "cell_type": "code",
   "execution_count": 7,
   "id": "ad23a14a-6655-433d-8d87-58fadbb00c66",
   "metadata": {},
   "outputs": [],
   "source": [
    "from tools.news_api_tool import NewsAPITool"
   ]
  },
  {
   "cell_type": "code",
   "execution_count": 8,
   "id": "c65123a8-eb48-4534-bd80-05bce9741660",
   "metadata": {},
   "outputs": [
    {
     "name": "stdout",
     "output_type": "stream",
     "text": [
      "[{'title': 'One Motorsport finally confirms BTCC return with Hondas', 'source': 'autosport.com', 'published_at': '2025-02-24T17:00:13Z', 'url': 'https://www.autosport.com/btcc/news/one-motorsport-finally-confirms-btcc-return-with-hondas/10698174/'}, {'title': 'Bitcoin Stuck In 90-Day Consolidation Range: This Juncture Is Critical, Bitfinex Analysts Say', 'source': 'Biztoc.com', 'published_at': '2025-02-24T16:57:10Z', 'url': 'https://biztoc.com/x/5ae3add159a986c9'}, {'title': 'Strategy Adds $2 Billion Worth of Bitcoin in Biggest 2025 Buy Yet', 'source': 'Decrypt', 'published_at': '2025-02-24T16:54:11Z', 'url': 'https://decrypt.co/307507/strategy-adds-2-billion-worth-bitcoin'}, {'title': 'Samson Mow Predicts $1 Million Price for Bitcoin In 2025, Says ‘Omega Candle’ Is Coming', 'source': 'ZyCrypto', 'published_at': '2025-02-24T16:45:52Z', 'url': 'https://zycrypto.com/samson-mow-predicts-1-million-price-for-bitcoin-in-2025-says-omega-candle-is-coming/'}, {'title': 'Billionaire Novogratz Rejects Calls For Ethereum Hard Fork After Crypto’s Biggest Hack, Says World Leaders Should Go After Lazarus', 'source': 'ZyCrypto', 'published_at': '2025-02-24T16:38:36Z', 'url': 'https://zycrypto.com/billionaire-novogratz-rejects-calls-for-ethereum-hard-fork-after-cryptos-biggest-hack-says-world-leaders-should-go-after-lazarus/'}]\n"
     ]
    }
   ],
   "source": [
    "news_tool = NewsAPITool()\n",
    "general_news = news_tool._run(query=\"BTC\", max_results=5)\n",
    "print(general_news)"
   ]
  },
  {
   "cell_type": "markdown",
   "id": "150167ba-b7a2-4954-9677-1d810fa5506d",
   "metadata": {},
   "source": [
    "### test sentiment analysis tool"
   ]
  },
  {
   "cell_type": "code",
   "execution_count": 10,
   "id": "6b178c1a-f1c4-43b1-a1e1-7123e108b07a",
   "metadata": {},
   "outputs": [
    {
     "name": "stderr",
     "output_type": "stream",
     "text": [
      "Device set to use mps:0\n"
     ]
    },
    {
     "name": "stdout",
     "output_type": "stream",
     "text": [
      "\n",
      "Testing synchronous sentiment analysis...\n",
      "{'text': 'Tesla stock surges after strong quarterly earnings report.', 'sentiment': 'positive', 'confidence': 0.84}\n",
      "{'text': 'Bitcoin crashes amid market uncertainty.', 'sentiment': 'negative', 'confidence': 0.94}\n",
      "{'text': \"Apple's revenue remains stable despite economic slowdown.\", 'sentiment': 'positive', 'confidence': 0.94}\n",
      "{'text': 'Trump vows to take military action against Iran.', 'sentiment': 'neutral', 'confidence': 0.82}\n"
     ]
    }
   ],
   "source": [
    "from tools.sentiment_analysis_tool import SentimentAnalysisTool\n",
    "# Initialize the tool\n",
    "sentiment_tool = SentimentAnalysisTool()\n",
    "\n",
    "# Test sentiment analysis on financial news headlines\n",
    "test_texts = [\n",
    "    \"Tesla stock surges after strong quarterly earnings report.\",\n",
    "    \"Bitcoin crashes amid market uncertainty.\",\n",
    "    \"Apple's revenue remains stable despite economic slowdown.\",\n",
    "    \"Trump vows to take military action against Iran.\",\n",
    "]\n",
    "\n",
    "print(\"\\nTesting synchronous sentiment analysis...\")\n",
    "for text in test_texts:\n",
    "    sentiment_result = sentiment_tool._run(text)\n",
    "    print(sentiment_result)"
   ]
  },
  {
   "cell_type": "markdown",
   "id": "4a31028f-47c1-45df-9279-7e2e4a15b7fd",
   "metadata": {},
   "source": [
    "### trend_analysis_tools"
   ]
  },
  {
   "cell_type": "code",
   "execution_count": null,
   "id": "80010e63-c832-449c-b6a8-d33e88e42c33",
   "metadata": {},
   "outputs": [],
   "source": [
    "# import pandas as pd\n",
    "# import matplotlib.pyplot as plt\n",
    "# from tools.trend_analysis_tool import TrendAnalysisTool\n",
    "# from tools.stock_market_tool import StockMarketTool\n",
    "\n",
    "# # Fetch real stock data (e.g., AAPL for past 90 days)\n",
    "# historical_data = StockMarketTool.get_historical_stock(\"MSFT\", days=90)\n",
    "\n",
    "# # Convert to DataFrame\n",
    "# if isinstance(historical_data, list) and len(historical_data) > 0:\n",
    "#     df = pd.DataFrame(historical_data)\n",
    "\n",
    "#     # Compute Trend Indicators\n",
    "#     df[\"SMA_20\"] = TrendAnalysisTool.calculate_sma(df, period=20)\n",
    "#     df[\"EMA_20\"] = TrendAnalysisTool.calculate_ema(df, period=20)\n",
    "#     df[\"RSI_14\"] = TrendAnalysisTool.calculate_rsi(df, period=14)\n",
    "#     df[\"MACD\"], df[\"Signal\"] = TrendAnalysisTool.calculate_macd(df)\n",
    "\n",
    "#     # Plotting the data\n",
    "#     plt.figure(figsize=(12, 6))\n",
    "\n",
    "#     # Plot price and moving averages\n",
    "#     plt.subplot(3, 1, 1)\n",
    "#     plt.plot(df[\"Close\"], label=\"Close Price\", color=\"blue\")\n",
    "#     plt.plot(df[\"SMA_20\"], label=\"SMA 20\", linestyle=\"dashed\", color=\"red\")\n",
    "#     plt.plot(df[\"EMA_20\"], label=\"EMA 20\", linestyle=\"dashed\", color=\"green\")\n",
    "#     plt.title(\"Stock Price & Moving Averages\")\n",
    "#     plt.legend()\n",
    "\n",
    "#     # Plot RSI\n",
    "#     plt.subplot(3, 1, 2)\n",
    "#     plt.plot(df[\"RSI_14\"], label=\"RSI 14\", color=\"purple\")\n",
    "#     plt.axhline(70, linestyle=\"dashed\", color=\"red\")\n",
    "#     plt.axhline(30, linestyle=\"dashed\", color=\"green\")\n",
    "#     plt.title(\"Relative Strength Index (RSI)\")\n",
    "#     plt.legend()\n",
    "\n",
    "#     # Plot MACD\n",
    "#     plt.subplot(3, 1, 3)\n",
    "#     plt.plot(df[\"MACD\"], label=\"MACD\", color=\"blue\")\n",
    "#     plt.plot(df[\"Signal\"], label=\"Signal Line\", linestyle=\"dashed\", color=\"red\")\n",
    "#     plt.axhline(0, linestyle=\"dashed\", color=\"black\")\n",
    "#     plt.title(\"MACD & Signal Line\")\n",
    "#     plt.legend()\n",
    "\n",
    "#     plt.tight_layout()\n",
    "#     plt.show()\n",
    "\n",
    "# else:\n",
    "#     print(\"Error: No valid historical data retrieved.\")\n"
   ]
  },
  {
   "cell_type": "code",
   "execution_count": 3,
   "id": "798ca771-9a54-4058-95db-c31d15a11d79",
   "metadata": {},
   "outputs": [],
   "source": [
    "from tools.trend_analysis_tool import TrendAnalysisTool"
   ]
  },
  {
   "cell_type": "code",
   "execution_count": 4,
   "id": "06c6d473-8e0b-482a-ab96-b6086b68ff98",
   "metadata": {},
   "outputs": [
    {
     "name": "stdout",
     "output_type": "stream",
     "text": [
      "{'ticker': 'AAPL', 'SMA_20': [238.17175000000003], 'EMA_20': [247.005, 247.0140476190476, 246.87461451247165, 246.7751274160458, 246.59368670975573, 246.39143083263613, 246.22081837238508, 245.77407376549127, 244.92606674020638, 243.75406038399626, 242.22034034742518, 240.83078412386087, 240.105947540636, 239.37871444152782, 238.75217020900135, 237.72910637957264, 237.5644295815181, 237.56686485946878, 237.73763963475747, 237.78738824097104], 'RSI_14': [23.747920901866607, 19.937007874015777, 37.496726891856504, 39.569620253164565, 43.1654676258993, 42.42867593269935], 'MACD': {'macd_line': [0.0, 0.007578347578345301, -0.1102172871973437, -0.1789150946461291, -0.3072804412838366, -0.43625864231015044, -0.5219679605807812, -0.8280710679372021, -1.4301966242086053, -2.2246802181624616, -3.2182536297426907, -3.961614523376852, -4.052947251741216, -4.138145859414237, -4.13141376161488, -4.461165949816348, -4.031300388437842, -3.5217327789425497, -2.941168608780231, -2.5405423374703844], 'signal_line': [-0.42281430784285584, -0.670000998749796, -1.028426774007689, -1.4563598002498563, -1.8868078177048662, -2.3124595308304663, -2.723032321864325, -3.1607209873349436, -3.516635356279459, -3.7490282623610085, -3.8286380835407607, -3.753336828843838]}}\n"
     ]
    }
   ],
   "source": [
    "trend_result = TrendAnalysisTool()._run(\"AAPL\", days=20, indicators=[\"SMA\", \"EMA\", \"RSI\", \"MACD\"])\n",
    "print(trend_result)"
   ]
  },
  {
   "cell_type": "code",
   "execution_count": 5,
   "id": "37d0044e-17ee-49bd-a851-f9d65da26380",
   "metadata": {},
   "outputs": [
    {
     "data": {
      "text/plain": [
       "[238.17175000000003]"
      ]
     },
     "execution_count": 5,
     "metadata": {},
     "output_type": "execute_result"
    }
   ],
   "source": [
    "trend_result['SMA_20']"
   ]
  },
  {
   "cell_type": "markdown",
   "id": "210f53b2-434c-408b-9280-3fd47855b9c2",
   "metadata": {},
   "source": [
    "### test date time tool"
   ]
  },
  {
   "cell_type": "code",
   "execution_count": 15,
   "id": "3a5fa63a-1a8a-4e11-b514-874d519c3bcc",
   "metadata": {},
   "outputs": [],
   "source": [
    "from tools.date_time_tool import DateTimeTool"
   ]
  },
  {
   "cell_type": "code",
   "execution_count": 16,
   "id": "8529da24-9843-4ea8-800e-c0ce29509731",
   "metadata": {},
   "outputs": [],
   "source": [
    "date_time = DateTimeTool()"
   ]
  },
  {
   "cell_type": "code",
   "execution_count": 17,
   "id": "91a99c7e-0158-4cb8-889d-33d16d4494f6",
   "metadata": {},
   "outputs": [
    {
     "name": "stdout",
     "output_type": "stream",
     "text": [
      "{'requested_offset_days': 0, 'datetime': '2025-02-25 17:24:20'}\n"
     ]
    }
   ],
   "source": [
    "print(date_time._run())"
   ]
  },
  {
   "cell_type": "code",
   "execution_count": 18,
   "id": "cf1f0d12-5ef9-4def-9c28-86576ef166bb",
   "metadata": {},
   "outputs": [
    {
     "name": "stdout",
     "output_type": "stream",
     "text": [
      "{'requested_offset_days': -30, 'datetime': '2025-01-26 17:24:23'}\n"
     ]
    }
   ],
   "source": [
    "print(date_time._run(-30))"
   ]
  },
  {
   "cell_type": "markdown",
   "id": "692eca78-193b-467d-828b-575ece6776f2",
   "metadata": {},
   "source": [
    "### test unit conversion tool"
   ]
  },
  {
   "cell_type": "code",
   "execution_count": 6,
   "id": "f70de0d1-d0ee-4a30-abfc-8928721f4a75",
   "metadata": {},
   "outputs": [],
   "source": [
    "from tools.unit_conversion_tool import UnitConversionTool"
   ]
  },
  {
   "cell_type": "code",
   "execution_count": 7,
   "id": "0577cd96-124a-44cd-82c1-91101dc52b30",
   "metadata": {},
   "outputs": [],
   "source": [
    "unit_conversion_tool = UnitConversionTool()"
   ]
  },
  {
   "cell_type": "code",
   "execution_count": 9,
   "id": "e29dbfbb-2b5d-4678-babe-0f2da699f835",
   "metadata": {},
   "outputs": [
    {
     "name": "stdout",
     "output_type": "stream",
     "text": [
      "{'original_value': 1129, 'from_unit': 'meters', 'to_unit': 'feet', 'converted_value': 3704.0682414698163}\n"
     ]
    }
   ],
   "source": [
    "print(unit_conversion_tool._run(value=1129, from_unit=\"meters\", to_unit=\"feet\"))"
   ]
  },
  {
   "cell_type": "markdown",
   "id": "a375f5b0-19e0-4138-80d9-c3a926bf52de",
   "metadata": {},
   "source": [
    "### test time zone tool"
   ]
  },
  {
   "cell_type": "code",
   "execution_count": 10,
   "id": "1ed00c19-856f-47a9-8eb5-7fedfc2913d2",
   "metadata": {},
   "outputs": [],
   "source": [
    "from tools.timezone_conversion_tool import TimeZoneTool"
   ]
  },
  {
   "cell_type": "code",
   "execution_count": 11,
   "id": "f24fe2a3-f529-4e85-a9fa-17a5d919aa23",
   "metadata": {},
   "outputs": [],
   "source": [
    "timezone = TimeZoneTool()"
   ]
  },
  {
   "cell_type": "code",
   "execution_count": 12,
   "id": "a6dd656a-2e0a-4202-84e1-a0893cdaf37d",
   "metadata": {},
   "outputs": [
    {
     "name": "stdout",
     "output_type": "stream",
     "text": [
      "{'timezone': 'America/New_York', 'current_time': '2025-02-25 15:59:00'}\n"
     ]
    }
   ],
   "source": [
    "print(timezone._run(timezone=\"America/New_York\"))"
   ]
  },
  {
   "cell_type": "markdown",
   "id": "a3263373-2cbe-4a2a-8db1-dc54e808a632",
   "metadata": {},
   "source": [
    "### calculator tool"
   ]
  },
  {
   "cell_type": "code",
   "execution_count": 13,
   "id": "e2457758-8b4a-4757-a163-cf1339fa693f",
   "metadata": {},
   "outputs": [],
   "source": [
    "from tools.calculator_tool import CalculatorTool"
   ]
  },
  {
   "cell_type": "code",
   "execution_count": 14,
   "id": "c7e2a37f-585c-4900-9764-5d405a9105ce",
   "metadata": {},
   "outputs": [],
   "source": [
    "calc = CalculatorTool()"
   ]
  },
  {
   "cell_type": "code",
   "execution_count": 15,
   "id": "83e98556-e5f0-4b19-adec-4a23e2f0dec5",
   "metadata": {},
   "outputs": [
    {
     "name": "stdout",
     "output_type": "stream",
     "text": [
      "{'expression': 'log2(28)*sin(45)', 'result': 4.0905952468652576}\n"
     ]
    }
   ],
   "source": [
    "print(calc._run(expression=\"log2(28)*sin(45)\"))"
   ]
  },
  {
   "cell_type": "markdown",
   "id": "233d5ae4-c556-416f-b45d-84e062fd427d",
   "metadata": {},
   "source": [
    "### search tool"
   ]
  },
  {
   "cell_type": "code",
   "execution_count": 16,
   "id": "56b85187-354a-4040-849b-d3dffa289f78",
   "metadata": {},
   "outputs": [],
   "source": [
    "from tools.search_tool import SearchTool"
   ]
  },
  {
   "cell_type": "code",
   "execution_count": 17,
   "id": "295aad08-7dfb-4690-98c9-f747aed5b1fe",
   "metadata": {},
   "outputs": [],
   "source": [
    "search = SearchTool()"
   ]
  },
  {
   "cell_type": "code",
   "execution_count": 19,
   "id": "d2d970a7-c200-4bf1-8939-f8461e4dc8b9",
   "metadata": {},
   "outputs": [
    {
     "name": "stdout",
     "output_type": "stream",
     "text": [
      "{'query': 'Neha Gaonkar LinkedIn', 'results': [{'title': 'Neha Gaonkar, AIA - Co-Founder - CivCheck | LinkedIn', 'link': 'https://www.linkedin.com/in/nehapg', 'snippet': \"I'm a licensed architect and co-founder of CivCheck - an AI plan review software startup dedicated to streamlining the permitting process for cities and ...\"}, {'title': '40+ \"Neha Gaonkar\" profiles - LinkedIn', 'link': 'https://www.linkedin.com/pub/dir/Neha/Gaonkar', 'snippet': '40+Results for \"Neha Gaonkar\" · Neha Gaonkar. Hyderabad · Neha Gaonkar. Software Engineer | Data Scientist | University of Nottingham MSc CS(AI) · Neha Gaonkar.'}, {'title': 'Neha Gaonkar - Implementation Consultant - Open Destinations', 'link': 'https://in.linkedin.com/in/neha-gaonkar-4b66184b', 'snippet': 'Airline & Tourism Professional. IATA Consultant qualified. · Experience: Open Destinations · Education: Mumbai University Mumbai · Location: Panaji · 78 ...'}, {'title': 'Neha Gaonkar - Lloyds Technology Centre India | LinkedIn', 'link': 'https://in.linkedin.com/in/neha-gaonkar-babb40bb', 'snippet': 'A full stack developer having more than 8+ years of experience in developing… · Experience: Lloyds Technology Centre India · Education: Birmingham City ...'}, {'title': \"Neha Gaonkar, AIA's Post - LinkedIn\", 'link': 'https://www.linkedin.com/posts/nehapg_when-we-started-civcheck-less-than-two-years-activity-7298395634900865024-4mQD', 'snippet': 'Co-founder, COO at CivCheck: Streamlined permitting with AI plan reviews. ... Congrats, Neha! Looking forward to where CivCheck will be two years ...'}]}\n"
     ]
    }
   ],
   "source": [
    "print(search._run(query=\"Neha Gaonkar LinkedIn\", num_results=5))"
   ]
  },
  {
   "cell_type": "markdown",
   "id": "96a5c197-fce9-411a-bb0b-2439842d4cff",
   "metadata": {},
   "source": [
    "### currency exchange tool"
   ]
  },
  {
   "cell_type": "code",
   "execution_count": 20,
   "id": "d5dc441b-114a-4f5d-b5a9-05e9a1b48df3",
   "metadata": {},
   "outputs": [],
   "source": [
    "from tools.currency_exchange_tool import CurrencyExchangeTool"
   ]
  },
  {
   "cell_type": "code",
   "execution_count": 21,
   "id": "261d9a47-fd69-4808-83f2-00164b8d2bb2",
   "metadata": {},
   "outputs": [],
   "source": [
    "currency_exchange_tool = CurrencyExchangeTool()"
   ]
  },
  {
   "cell_type": "code",
   "execution_count": 22,
   "id": "1293a0f9-4731-47e4-9435-af903e6672e9",
   "metadata": {},
   "outputs": [
    {
     "name": "stdout",
     "output_type": "stream",
     "text": [
      "{'from_currency': 'USD', 'to_currency': 'GBP', 'amount': 700, 'converted_amount': 554.26, 'exchange_rate': 0.7918}\n"
     ]
    }
   ],
   "source": [
    "print(currency_exchange_tool._run(from_currency=\"USD\", to_currency=\"GBP\", amount=700))"
   ]
  },
  {
   "cell_type": "markdown",
   "id": "43ef89be-6a3f-4c0c-b2c2-5b48458e3acf",
   "metadata": {},
   "source": [
    "### weather tool"
   ]
  },
  {
   "cell_type": "code",
   "execution_count": 23,
   "id": "ca4ef7a9-a3c7-4497-b246-16710dab8119",
   "metadata": {},
   "outputs": [],
   "source": [
    "from tools.weather_tool import WeatherTool"
   ]
  },
  {
   "cell_type": "code",
   "execution_count": 25,
   "id": "70264e67-f03f-457b-b1ed-12972366d83e",
   "metadata": {},
   "outputs": [
    {
     "name": "stdout",
     "output_type": "stream",
     "text": [
      "{'location': 'Oldham, GB', 'temperature': 5.01, 'feels_like': 2.65, 'humidity': 86, 'pressure': 1015, 'weather': 'few clouds', 'wind_speed': 2.83, 'visibility': 10000, 'sunrise': '2025-02-25 07:05:33', 'sunset': '2025-02-25 17:37:51'}\n"
     ]
    }
   ],
   "source": [
    "weather_tool = WeatherTool()\n",
    "print(weather_tool._run(\"Oldham\"))  # Example usage"
   ]
  },
  {
   "cell_type": "markdown",
   "id": "3e8d7812-e905-499f-befb-4355b50fdbaf",
   "metadata": {},
   "source": [
    "### calender reminder tool"
   ]
  },
  {
   "cell_type": "code",
   "execution_count": 26,
   "id": "9664ab5f-8170-4ed9-9a65-534a584a777e",
   "metadata": {},
   "outputs": [],
   "source": [
    "from tools.calender_reminder_tool import CalendarReminderTool"
   ]
  },
  {
   "cell_type": "code",
   "execution_count": 27,
   "id": "328ed228-4c54-4f6f-bb0c-f84c823c3460",
   "metadata": {},
   "outputs": [],
   "source": [
    "calender_reminder = CalendarReminderTool()"
   ]
  },
  {
   "cell_type": "code",
   "execution_count": 6,
   "id": "b81283a2-4e56-4c05-8639-5e26fbb3efe2",
   "metadata": {},
   "outputs": [
    {
     "data": {
      "text/plain": [
       "{'message': 'Reminder added successfully.'}"
      ]
     },
     "execution_count": 6,
     "metadata": {},
     "output_type": "execute_result"
    }
   ],
   "source": [
    "calender_reminder._run(\"add\", event=\"Meeting\", date=\"2025-02-28\", time=\"14:28\", description=\"Team Eating\")"
   ]
  },
  {
   "cell_type": "code",
   "execution_count": 7,
   "id": "f2356c1d-8024-4f26-9ee7-12d7b64d812b",
   "metadata": {},
   "outputs": [
    {
     "data": {
      "text/plain": [
       "{'message': 'Reminder added successfully.'}"
      ]
     },
     "execution_count": 7,
     "metadata": {},
     "output_type": "execute_result"
    }
   ],
   "source": [
    "calender_reminder._run(\"add\", event=\"Running\", date=\"2025-03-01\", time=\"07:38\", description=\"Running my Ass off\")"
   ]
  },
  {
   "cell_type": "code",
   "execution_count": 28,
   "id": "3412df6d-9119-491b-9054-80567a737311",
   "metadata": {},
   "outputs": [
    {
     "name": "stdout",
     "output_type": "stream",
     "text": [
      "[{'event': 'Running', 'date': '2025-03-01', 'time': '07:38', 'description': 'Running my Ass off'}, {'event': 'Walking with the guest', 'date': '2025-02-28', 'time': '10:00', 'description': ''}, {'event': 'Lunch with Adam', 'date': '2023-10-05', 'time': '11:00', 'description': ''}, {'event': 'Meeting with Anna', 'date': '2025-02-27', 'time': '19:00', 'description': 'Discuss project updates with Anna.'}]\n"
     ]
    }
   ],
   "source": [
    "print(calender_reminder._run(\"get\"))"
   ]
  },
  {
   "cell_type": "markdown",
   "id": "2d8b22c3-54d5-46d5-bee2-947b473e9aba",
   "metadata": {},
   "source": [
    "### test data retrieval agent"
   ]
  },
  {
   "cell_type": "code",
   "execution_count": 3,
   "id": "0b54fe37-4131-41d9-88e6-0d648ef4fb0f",
   "metadata": {},
   "outputs": [
    {
     "name": "stderr",
     "output_type": "stream",
     "text": [
      "Device set to use mps:0\n"
     ]
    },
    {
     "name": "stdout",
     "output_type": "stream",
     "text": [
      "🔧 Loaded Tools: ['stock_market', 'historical_stock_market', 'trend_analysis', 'news_api', 'sentiment_analysis', 'crypto_market', 'datetime_tool', 'unit_conversion_tool', 'timezone_tool', 'calculator_tool', 'wikipedia_tool', 'search_tool', 'currency_exchange_tool', 'weather_tool', 'calendar_reminder_tool']\n"
     ]
    }
   ],
   "source": [
    "from agents.agent_manager import AgentManager\n",
    "agent = AgentManager()"
   ]
  },
  {
   "cell_type": "code",
   "execution_count": 4,
   "id": "c868c5c0-8184-4593-b505-3a55b0d4405a",
   "metadata": {},
   "outputs": [
    {
     "name": "stdin",
     "output_type": "stream",
     "text": [
      "Ask your financial assistant:  create a table for tesla stock price for last 10 days, include close, open, prev close, also provide latest news on Microsoft.\n"
     ]
    },
    {
     "name": "stdout",
     "output_type": "stream",
     "text": [
      "🔍 Processing Query: create a table for tesla stock price for last 10 days, include close, open, prev close, also provide latest news on Microsoft.\n",
      "🛠️ Debug: {'agent': {'messages': [AIMessage(content='', additional_kwargs={'tool_calls': [{'id': 'call_X61dr2feC7sdSb27yqUBeJuy', 'function': {'arguments': '{\"ticker\": \"TSLA\", \"days\": 10}', 'name': 'historical_stock_market'}, 'type': 'function'}, {'id': 'call_rIV4pLTd1SIyD286tJVQCt8t', 'function': {'arguments': '{\"query\": \"Microsoft\", \"max_results\": 5}', 'name': 'news_api'}, 'type': 'function'}], 'refusal': None}, response_metadata={'token_usage': {'completion_tokens': 57, 'prompt_tokens': 836, 'total_tokens': 893, 'completion_tokens_details': {'accepted_prediction_tokens': 0, 'audio_tokens': 0, 'reasoning_tokens': 0, 'rejected_prediction_tokens': 0}, 'prompt_tokens_details': {'audio_tokens': 0, 'cached_tokens': 0}}, 'model_name': 'gpt-4o-mini-2024-07-18', 'system_fingerprint': 'fp_b8bc95a0ac', 'finish_reason': 'tool_calls', 'logprobs': None}, id='run-6df9d7e4-e959-4f3b-ac6a-1d4e4829eac6-0', tool_calls=[{'name': 'historical_stock_market', 'args': {'ticker': 'TSLA', 'days': 10}, 'id': 'call_X61dr2feC7sdSb27yqUBeJuy', 'type': 'tool_call'}, {'name': 'news_api', 'args': {'query': 'Microsoft', 'max_results': 5}, 'id': 'call_rIV4pLTd1SIyD286tJVQCt8t', 'type': 'tool_call'}], usage_metadata={'input_tokens': 836, 'output_tokens': 57, 'total_tokens': 893, 'input_token_details': {'audio': 0, 'cache_read': 0}, 'output_token_details': {'audio': 0, 'reasoning': 0}})]}}\n",
      "🛠️ Debug: {'tools': {'messages': [ToolMessage(content='{\"ticker\": \"TSLA\", \"historical_data\": [{\"date\": \"2025-03-18\", \"open\": 228.16, \"high\": 230.1, \"low\": 222.28, \"close\": 225.31, \"volume\": 108186640}, {\"date\": \"2025-03-17\", \"open\": 245.06, \"high\": 245.4, \"low\": 232.8, \"close\": 238.01, \"volume\": 111900600}, {\"date\": \"2025-03-14\", \"open\": 247.31, \"high\": 251.58, \"low\": 240.73, \"close\": 249.98, \"volume\": 100242300}, {\"date\": \"2025-03-13\", \"open\": 248.13, \"high\": 248.29, \"low\": 232.6, \"close\": 240.68, \"volume\": 114813525}, {\"date\": \"2025-03-12\", \"open\": 247.22, \"high\": 251.84, \"low\": 241.1, \"close\": 248.09, \"volume\": 142215700}, {\"date\": \"2025-03-11\", \"open\": 225.31, \"high\": 237.06, \"low\": 217.02, \"close\": 230.58, \"volume\": 174896415}, {\"date\": \"2025-03-10\", \"open\": 252.54, \"high\": 253.37, \"low\": 220, \"close\": 222.15, \"volume\": 189076948}, {\"date\": \"2025-03-07\", \"open\": 259.32, \"high\": 266.25, \"low\": 250.73, \"close\": 262.67, \"volume\": 102369640}, {\"date\": \"2025-03-06\", \"open\": 272.06, \"high\": 272.65, \"low\": 260.02, \"close\": 263.45, \"volume\": 98451600}, {\"date\": \"2025-03-05\", \"open\": 272.92, \"high\": 279.55, \"low\": 267.71, \"close\": 279.1, \"volume\": 94042913}]}', name='historical_stock_market', id='bd6d4684-0e80-4163-8fdf-fe58a5bb1884', tool_call_id='call_X61dr2feC7sdSb27yqUBeJuy'), ToolMessage(content='[{\"title\": \"Big AI platforms can generate Chrome malware with this technique\", \"source\": \"Android Headlines\", \"published_at\": \"2025-03-18T12:44:04Z\", \"url\": \"https://www.androidheadlines.com/2025/03/big-ai-platforms-can-generate-chrome-malware-with-this-technique.html\"}, {\"title\": \"Bill Gates warns White House he can\\'t fill shortfalls in US global health funding\", \"source\": \"The Times of India\", \"published_at\": \"2025-03-18T12:38:55Z\", \"url\": \"https://economictimes.indiatimes.com/news/international/global-trends/bill-gates-warns-white-house-he-cant-fill-shortfalls-in-us-global-health-funding/articleshow/119163860.cms\"}, {\"title\": \"Google acquires cybersecurity firm Wiz for $32 billion\", \"source\": \"The Verge\", \"published_at\": \"2025-03-18T12:36:49Z\", \"url\": \"https://www.theverge.com/google/24198766/google-acquires-wiz-cloud-cybersecurity-32-billion\"}, {\"title\": \"Virtual Reality Growth Trends Report 2025: Global Market to Grow by $339.29 Billion by 2033, Driven by Rising Applications in Surgery, Immersive Entertainment, Simulation Developments, Pain Management\", \"source\": \"GlobeNewswire\", \"published_at\": \"2025-03-18T12:32:00Z\", \"url\": \"https://www.globenewswire.com/news-release/2025/03/18/3044525/28124/en/Virtual-Reality-Growth-Trends-Report-2025-Global-Market-to-Grow-by-339-29-Billion-by-2033-Driven-by-Rising-Applications-in-Surgery-Immersive-Entertainment-Simulation-Developments-P.html\"}, {\"title\": \"Google announces agreement to acquire Wiz\", \"source\": \"Blog.google\", \"published_at\": \"2025-03-18T12:30:00Z\", \"url\": \"https://blog.google/inside-google/company-announcements/google-agreement-acquire-wiz/\"}]', name='news_api', id='ccc8b7ff-5e03-4e4a-8a84-1113af1978e2', tool_call_id='call_rIV4pLTd1SIyD286tJVQCt8t')]}}\n",
      "🛠️ Debug: {'agent': {'messages': [AIMessage(content=\"### Tesla Stock Price for the Last 10 Days\\n\\n| Date       | Open    | Close   | Previous Close |\\n|------------|---------|---------|-----------------|\\n| 2025-03-18 | 228.16  | 225.31  | 238.01          |\\n| 2025-03-17 | 245.06  | 238.01  | 249.98          |\\n| 2025-03-14 | 247.31  | 249.98  | 240.68          |\\n| 2025-03-13 | 248.13  | 240.68  | 248.09          |\\n| 2025-03-12 | 247.22  | 248.09  | 230.58          |\\n| 2025-03-11 | 225.31  | 230.58  | 222.15          |\\n| 2025-03-10 | 252.54  | 222.15  | 262.67          |\\n| 2025-03-07 | 259.32  | 262.67  | 263.45          |\\n| 2025-03-06 | 272.06  | 263.45  | 279.10          |\\n| 2025-03-05 | 272.92  | 279.10  | N/A             |\\n\\n### Latest News on Microsoft\\n\\n1. **[Big AI platforms can generate Chrome malware with this technique](https://www.androidheadlines.com/2025/03/big-ai-platforms-can-generate-chrome-malware-with-this-technique.html)**  \\n   - *Published by Android Headlines on March 18, 2025*\\n\\n2. **[Bill Gates warns White House he can't fill shortfalls in US global health funding](https://economictimes.indiatimes.com/news/international/global-trends/bill-gates-warns-white-house-he-cant-fill-shortfalls-in-us-global-health-funding/articleshow/119163860.cms)**  \\n   - *Published by The Times of India on March 18, 2025*\\n\\n3. **[Google acquires cybersecurity firm Wiz for $32 billion](https://www.theverge.com/google/24198766/google-acquires-wiz-cloud-cybersecurity-32-billion)**  \\n   - *Published by The Verge on March 18, 2025*\\n\\n4. **[Virtual Reality Growth Trends Report 2025: Global Market to Grow by $339.29 Billion by 2033, Driven by Rising Applications in Surgery, Immersive Entertainment, Simulation Developments, Pain Management](https://www.globenewswire.com/news-release/2025/03/18/3044525/28124/en/Virtual-Reality-Growth-Trends-Report-2025-Global-Market-to-Grow-by-339-29-Billion-by-2033-Driven-by-Rising-Applications-in-Surgery-Immersive-Entertainment-Simulation-Developments-P.html)**  \\n   - *Published by GlobeNewswire on March 18, 2025*\\n\\n5. **[Google announces agreement to acquire Wiz](https://blog.google/inside-google/company-announcements/google-agreement-acquire-wiz/)**  \\n   - *Published by Blog.google on March 18, 2025*\\n\\nIf you need any more details or further assistance, feel free to ask!\", additional_kwargs={'refusal': None}, response_metadata={'token_usage': {'completion_tokens': 720, 'prompt_tokens': 1886, 'total_tokens': 2606, 'completion_tokens_details': {'accepted_prediction_tokens': 0, 'audio_tokens': 0, 'reasoning_tokens': 0, 'rejected_prediction_tokens': 0}, 'prompt_tokens_details': {'audio_tokens': 0, 'cached_tokens': 0}}, 'model_name': 'gpt-4o-mini-2024-07-18', 'system_fingerprint': 'fp_b8bc95a0ac', 'finish_reason': 'stop', 'logprobs': None}, id='run-9113eb62-73ac-4099-a0a8-7a6bbc36a375-0', usage_metadata={'input_tokens': 1886, 'output_tokens': 720, 'total_tokens': 2606, 'input_token_details': {'audio': 0, 'cache_read': 0}, 'output_token_details': {'audio': 0, 'reasoning': 0}})]}}\n",
      "\n",
      "### Tesla Stock Price for the Last 10 Days\n",
      "\n",
      "| Date       | Open    | Close   | Previous Close |\n",
      "|------------|---------|---------|-----------------|\n",
      "| 2025-03-18 | 228.16  | 225.31  | 238.01          |\n",
      "| 2025-03-17 | 245.06  | 238.01  | 249.98          |\n",
      "| 2025-03-14 | 247.31  | 249.98  | 240.68          |\n",
      "| 2025-03-13 | 248.13  | 240.68  | 248.09          |\n",
      "| 2025-03-12 | 247.22  | 248.09  | 230.58          |\n",
      "| 2025-03-11 | 225.31  | 230.58  | 222.15          |\n",
      "| 2025-03-10 | 252.54  | 222.15  | 262.67          |\n",
      "| 2025-03-07 | 259.32  | 262.67  | 263.45          |\n",
      "| 2025-03-06 | 272.06  | 263.45  | 279.10          |\n",
      "| 2025-03-05 | 272.92  | 279.10  | N/A             |\n",
      "\n",
      "### Latest News on Microsoft\n",
      "\n",
      "1. **[Big AI platforms can generate Chrome malware with this technique](https://www.androidheadlines.com/2025/03/big-ai-platforms-can-generate-chrome-malware-with-this-technique.html)**  \n",
      "   - *Published by Android Headlines on March 18, 2025*\n",
      "\n",
      "2. **[Bill Gates warns White House he can't fill shortfalls in US global health funding](https://economictimes.indiatimes.com/news/international/global-trends/bill-gates-warns-white-house-he-cant-fill-shortfalls-in-us-global-health-funding/articleshow/119163860.cms)**  \n",
      "   - *Published by The Times of India on March 18, 2025*\n",
      "\n",
      "3. **[Google acquires cybersecurity firm Wiz for $32 billion](https://www.theverge.com/google/24198766/google-acquires-wiz-cloud-cybersecurity-32-billion)**  \n",
      "   - *Published by The Verge on March 18, 2025*\n",
      "\n",
      "4. **[Virtual Reality Growth Trends Report 2025: Global Market to Grow by $339.29 Billion by 2033, Driven by Rising Applications in Surgery, Immersive Entertainment, Simulation Developments, Pain Management](https://www.globenewswire.com/news-release/2025/03/18/3044525/28124/en/Virtual-Reality-Growth-Trends-Report-2025-Global-Market-to-Grow-by-339-29-Billion-by-2033-Driven-by-Rising-Applications-in-Surgery-Immersive-Entertainment-Simulation-Developments-P.html)**  \n",
      "   - *Published by GlobeNewswire on March 18, 2025*\n",
      "\n",
      "5. **[Google announces agreement to acquire Wiz](https://blog.google/inside-google/company-announcements/google-agreement-acquire-wiz/)**  \n",
      "   - *Published by Blog.google on March 18, 2025*\n",
      "\n",
      "If you need any more details or further assistance, feel free to ask!\n"
     ]
    }
   ],
   "source": [
    "query = input(\"Ask your financial assistant: \")\n",
    "response = agent.process_query(query)\n",
    "# create a table for tesla stock price for last 10 days, include close, open, prev close, also provide latest news on Microsoft.\n",
    "# What's on my schedule?\n",
    "print(response)"
   ]
  },
  {
   "cell_type": "code",
   "execution_count": 31,
   "id": "15072c11-8847-44e5-bd84-ad6e6aa66d5d",
   "metadata": {},
   "outputs": [
    {
     "name": "stdout",
     "output_type": "stream",
     "text": [
      "🔍 Processing Query: Get Tesla's stock price today.\n",
      "🛠️ Debug: {'agent': {'messages': [AIMessage(content='', additional_kwargs={'tool_calls': [{'id': 'call_sQUxNyeGDm7ujauCJQM63X0R', 'function': {'arguments': '{\"ticker\":\"TSLA\"}', 'name': 'stock_market'}, 'type': 'function'}], 'refusal': None}, response_metadata={'token_usage': {'completion_tokens': 16, 'prompt_tokens': 814, 'total_tokens': 830, 'completion_tokens_details': {'accepted_prediction_tokens': 0, 'audio_tokens': 0, 'reasoning_tokens': 0, 'rejected_prediction_tokens': 0}, 'prompt_tokens_details': {'audio_tokens': 0, 'cached_tokens': 0}}, 'model_name': 'gpt-4o-mini-2024-07-18', 'system_fingerprint': 'fp_06737a9306', 'finish_reason': 'tool_calls', 'logprobs': None}, id='run-a215d205-6f08-456b-925a-cee42692bfb3-0', tool_calls=[{'name': 'stock_market', 'args': {'ticker': 'TSLA'}, 'id': 'call_sQUxNyeGDm7ujauCJQM63X0R', 'type': 'tool_call'}], usage_metadata={'input_tokens': 814, 'output_tokens': 16, 'total_tokens': 830, 'input_token_details': {'audio': 0, 'cache_read': 0}, 'output_token_details': {'audio': 0, 'reasoning': 0}})]}}\n",
      "🛠️ Debug: {'tools': {'messages': [ToolMessage(content='{\"ticker\": \"TSLA\", \"latest_price\": 302.8, \"high\": 327.45, \"low\": 297.25, \"volume\": 131916371, \"timestamp\": \"2025-02-25 21:03:27.279941\"}', name='stock_market', id='b444443e-9c76-4e54-9cd7-69f46ac0e97b', tool_call_id='call_sQUxNyeGDm7ujauCJQM63X0R')]}}\n",
      "🛠️ Debug: {'agent': {'messages': [AIMessage(content=\"Tesla's stock price today is $302.80. The day's high was $327.45, and the low was $297.25. The trading volume is 131,916,371 shares.\", additional_kwargs={'refusal': None}, response_metadata={'token_usage': {'completion_tokens': 43, 'prompt_tokens': 897, 'total_tokens': 940, 'completion_tokens_details': {'accepted_prediction_tokens': 0, 'audio_tokens': 0, 'reasoning_tokens': 0, 'rejected_prediction_tokens': 0}, 'prompt_tokens_details': {'audio_tokens': 0, 'cached_tokens': 0}}, 'model_name': 'gpt-4o-mini-2024-07-18', 'system_fingerprint': 'fp_06737a9306', 'finish_reason': 'stop', 'logprobs': None}, id='run-a6ac35a1-e852-4da0-a986-cf198e1c56bb-0', usage_metadata={'input_tokens': 897, 'output_tokens': 43, 'total_tokens': 940, 'input_token_details': {'audio': 0, 'cache_read': 0}, 'output_token_details': {'audio': 0, 'reasoning': 0}})]}}\n"
     ]
    },
    {
     "data": {
      "text/plain": [
       "\"\\nTesla's stock price today is $302.80. The day's high was $327.45, and the low was $297.25. The trading volume is 131,916,371 shares.\""
      ]
     },
     "execution_count": 31,
     "metadata": {},
     "output_type": "execute_result"
    }
   ],
   "source": [
    "# basic stock price \n",
    "query = \"Get Tesla's stock price today.\"\n",
    "agent.process_query(query)"
   ]
  },
  {
   "cell_type": "code",
   "execution_count": 32,
   "id": "306e764a-6df4-421f-8526-0ed0643dc63a",
   "metadata": {},
   "outputs": [
    {
     "name": "stdout",
     "output_type": "stream",
     "text": [
      "🔍 Processing Query: Get Bitcoin price for today. The symbol is BTC/USDT\n",
      "🛠️ Debug: {'agent': {'messages': [AIMessage(content='', additional_kwargs={'tool_calls': [{'id': 'call_1UIwwe5Z3bC4WIRrWGztKpTl', 'function': {'arguments': '{\"symbol\":\"BTC/USDT\"}', 'name': 'crypto_market'}, 'type': 'function'}], 'refusal': None}, response_metadata={'token_usage': {'completion_tokens': 18, 'prompt_tokens': 820, 'total_tokens': 838, 'completion_tokens_details': {'accepted_prediction_tokens': 0, 'audio_tokens': 0, 'reasoning_tokens': 0, 'rejected_prediction_tokens': 0}, 'prompt_tokens_details': {'audio_tokens': 0, 'cached_tokens': 0}}, 'model_name': 'gpt-4o-mini-2024-07-18', 'system_fingerprint': 'fp_06737a9306', 'finish_reason': 'tool_calls', 'logprobs': None}, id='run-494046ae-1b30-44a0-9cac-f999f359909d-0', tool_calls=[{'name': 'crypto_market', 'args': {'symbol': 'BTC/USDT'}, 'id': 'call_1UIwwe5Z3bC4WIRrWGztKpTl', 'type': 'tool_call'}], usage_metadata={'input_tokens': 820, 'output_tokens': 18, 'total_tokens': 838, 'input_token_details': {'audio': 0, 'cache_read': 0}, 'output_token_details': {'audio': 0, 'reasoning': 0}})]}}\n",
      "🛠️ Debug: {'tools': {'messages': [ToolMessage(content='{\"symbol\": \"BTC/USDT\", \"latest_price\": 88361.79, \"high\": 94349.22, \"low\": 86050.99, \"volume\": 7320306990.99, \"timestamp\": \"2025-02-25 21:03:36\"}', name='crypto_market', id='405bcdd4-e96d-4c39-a172-97d2085b0c03', tool_call_id='call_1UIwwe5Z3bC4WIRrWGztKpTl')]}}\n",
      "🛠️ Debug: {'agent': {'messages': [AIMessage(content='The current price of Bitcoin (BTC/USDT) is $88,361.79.', additional_kwargs={'refusal': None}, response_metadata={'token_usage': {'completion_tokens': 21, 'prompt_tokens': 910, 'total_tokens': 931, 'completion_tokens_details': {'accepted_prediction_tokens': 0, 'audio_tokens': 0, 'reasoning_tokens': 0, 'rejected_prediction_tokens': 0}, 'prompt_tokens_details': {'audio_tokens': 0, 'cached_tokens': 0}}, 'model_name': 'gpt-4o-mini-2024-07-18', 'system_fingerprint': 'fp_06737a9306', 'finish_reason': 'stop', 'logprobs': None}, id='run-ebf4ad9f-b90c-4872-b247-ddd38db3d42f-0', usage_metadata={'input_tokens': 910, 'output_tokens': 21, 'total_tokens': 931, 'input_token_details': {'audio': 0, 'cache_read': 0}, 'output_token_details': {'audio': 0, 'reasoning': 0}})]}}\n"
     ]
    },
    {
     "data": {
      "text/plain": [
       "'\\nThe current price of Bitcoin (BTC/USDT) is $88,361.79.'"
      ]
     },
     "execution_count": 32,
     "metadata": {},
     "output_type": "execute_result"
    }
   ],
   "source": [
    "# crypto price retrieval\n",
    "query = \"Get Bitcoin price for today. The symbol is BTC/USDT\"\n",
    "agent.process_query(query)"
   ]
  },
  {
   "cell_type": "code",
   "execution_count": 33,
   "id": "6a8a5d42-50e3-424f-848d-3b227cbb3adf",
   "metadata": {},
   "outputs": [
    {
     "name": "stdout",
     "output_type": "stream",
     "text": [
      "🔍 Processing Query: Analyze sentiment on Tesla stock based on recent news.\n",
      "🛠️ Debug: {'agent': {'messages': [AIMessage(content='', additional_kwargs={'tool_calls': [{'id': 'call_IXNQayvbkRcgN6wHwGYDMgw6', 'function': {'arguments': '{\"query\":\"Tesla\",\"language\":\"en\",\"sort_by\":\"publishedAt\",\"max_results\":5}', 'name': 'news_api'}, 'type': 'function'}], 'refusal': None}, response_metadata={'token_usage': {'completion_tokens': 30, 'prompt_tokens': 817, 'total_tokens': 847, 'completion_tokens_details': {'accepted_prediction_tokens': 0, 'audio_tokens': 0, 'reasoning_tokens': 0, 'rejected_prediction_tokens': 0}, 'prompt_tokens_details': {'audio_tokens': 0, 'cached_tokens': 0}}, 'model_name': 'gpt-4o-mini-2024-07-18', 'system_fingerprint': 'fp_06737a9306', 'finish_reason': 'tool_calls', 'logprobs': None}, id='run-800070d5-5fae-441b-b812-8eae6d329a62-0', tool_calls=[{'name': 'news_api', 'args': {'query': 'Tesla', 'language': 'en', 'sort_by': 'publishedAt', 'max_results': 5}, 'id': 'call_IXNQayvbkRcgN6wHwGYDMgw6', 'type': 'tool_call'}], usage_metadata={'input_tokens': 817, 'output_tokens': 30, 'total_tokens': 847, 'input_token_details': {'audio': 0, 'cache_read': 0}, 'output_token_details': {'audio': 0, 'reasoning': 0}})]}}\n",
      "🛠️ Debug: {'tools': {'messages': [ToolMessage(content='[{\"title\": \"Elon Musk and Ashley St. Clair’s private paradise: Inside the luxe hideaway where the pair allegedly conceived their child\", \"source\": \"The Times of India\", \"published_at\": \"2025-02-24T21:02:57Z\", \"url\": \"https://economictimes.indiatimes.com/news/international/us/elon-musk-and-ashley-st-clairs-private-paradise-inside-the-luxe-hideaway-where-the-pair-allegedly-conceived-their-child/articleshow/118540268.cms\"}, {\"title\": \"An OpenAI Engineer Wrote a Wild Reply When Elon Musk\\'s AI Company Tried to Recruit Him\", \"source\": \"Futurism\", \"published_at\": \"2025-02-24T21:01:31Z\", \"url\": \"https://futurism.com/openai-engineer-elon-musk-recruiting-rejection\"}, {\"title\": \"Here’s Where Trump’s Government Layoffs Are—Highway Safety, FEMA, TSA And More\", \"source\": \"Forbes\", \"published_at\": \"2025-02-24T20:57:09Z\", \"url\": \"https://www.forbes.com/sites/saradorn/2025/02/24/heres-where-trumps-government-layoffs-are-highway-safety-fema-tsa-and-more/\"}, {\"title\": \"More than 200k people are calling for Canada to revoke Elon Musk\\'s citizenship\", \"source\": \"Daily Hive\", \"published_at\": \"2025-02-24T20:55:32Z\", \"url\": \"https://dailyhive.com/canada/elon-musk-canadian-citizenship-revoked\"}, {\"title\": \"A new document undercuts Trump admin\\'s denials about $400 million Tesla deal - NPR\", \"source\": \"Slashdot.org\", \"published_at\": \"2025-02-24T20:53:29Z\", \"url\": \"https://slashdot.org/firehose.pl?op=view&amp;id=176391485\"}]', name='news_api', id='63d20dd5-f204-4a8c-8889-83b651a69579', tool_call_id='call_IXNQayvbkRcgN6wHwGYDMgw6')]}}\n",
      "🛠️ Debug: {'agent': {'messages': [AIMessage(content='', additional_kwargs={'tool_calls': [{'id': 'call_ff8KG1ibwThcwhtIA2HxAPib', 'function': {'arguments': '{\"text\": \"Elon Musk and Ashley St. Clair’s private paradise: Inside the luxe hideaway where the pair allegedly conceived their child.\"}', 'name': 'sentiment_analysis'}, 'type': 'function'}, {'id': 'call_Mlytjqjubry7ICI7NUcEpCE7', 'function': {'arguments': '{\"text\": \"An OpenAI Engineer Wrote a Wild Reply When Elon Musk\\'s AI Company Tried to Recruit Him.\"}', 'name': 'sentiment_analysis'}, 'type': 'function'}, {'id': 'call_iIWtTAjl2N8mnmKtA0Vsqygx', 'function': {'arguments': '{\"text\": \"Here’s Where Trump’s Government Layoffs Are—Highway Safety, FEMA, TSA And More.\"}', 'name': 'sentiment_analysis'}, 'type': 'function'}, {'id': 'call_x3SInh8NmbFoWbZ52J8tY3Mb', 'function': {'arguments': '{\"text\": \"More than 200k people are calling for Canada to revoke Elon Musk\\'s citizenship.\"}', 'name': 'sentiment_analysis'}, 'type': 'function'}, {'id': 'call_HXjIhXDCIzODH1RdX0ViRzk3', 'function': {'arguments': '{\"text\": \"A new document undercuts Trump admin\\'s denials about $400 million Tesla deal.\"}', 'name': 'sentiment_analysis'}, 'type': 'function'}], 'refusal': None}, response_metadata={'token_usage': {'completion_tokens': 186, 'prompt_tokens': 1291, 'total_tokens': 1477, 'completion_tokens_details': {'accepted_prediction_tokens': 0, 'audio_tokens': 0, 'reasoning_tokens': 0, 'rejected_prediction_tokens': 0}, 'prompt_tokens_details': {'audio_tokens': 0, 'cached_tokens': 0}}, 'model_name': 'gpt-4o-mini-2024-07-18', 'system_fingerprint': 'fp_06737a9306', 'finish_reason': 'tool_calls', 'logprobs': None}, id='run-d6bb3b7a-3876-4707-a52f-663f532556cb-0', tool_calls=[{'name': 'sentiment_analysis', 'args': {'text': 'Elon Musk and Ashley St. Clair’s private paradise: Inside the luxe hideaway where the pair allegedly conceived their child.'}, 'id': 'call_ff8KG1ibwThcwhtIA2HxAPib', 'type': 'tool_call'}, {'name': 'sentiment_analysis', 'args': {'text': \"An OpenAI Engineer Wrote a Wild Reply When Elon Musk's AI Company Tried to Recruit Him.\"}, 'id': 'call_Mlytjqjubry7ICI7NUcEpCE7', 'type': 'tool_call'}, {'name': 'sentiment_analysis', 'args': {'text': 'Here’s Where Trump’s Government Layoffs Are—Highway Safety, FEMA, TSA And More.'}, 'id': 'call_iIWtTAjl2N8mnmKtA0Vsqygx', 'type': 'tool_call'}, {'name': 'sentiment_analysis', 'args': {'text': \"More than 200k people are calling for Canada to revoke Elon Musk's citizenship.\"}, 'id': 'call_x3SInh8NmbFoWbZ52J8tY3Mb', 'type': 'tool_call'}, {'name': 'sentiment_analysis', 'args': {'text': \"A new document undercuts Trump admin's denials about $400 million Tesla deal.\"}, 'id': 'call_HXjIhXDCIzODH1RdX0ViRzk3', 'type': 'tool_call'}], usage_metadata={'input_tokens': 1291, 'output_tokens': 186, 'total_tokens': 1477, 'input_token_details': {'audio': 0, 'cache_read': 0}, 'output_token_details': {'audio': 0, 'reasoning': 0}})]}}\n",
      "🛠️ Debug: {'tools': {'messages': [ToolMessage(content='{\"text\": \"Elon Musk and Ashley St. Clair’s private paradise: Inside the luxe hideaway where the pair allegedly conceived their child.\", \"sentiment\": \"neutral\", \"confidence\": 0.92}', name='sentiment_analysis', id='439e54d8-c3a8-4bb6-9b65-91f70d275746', tool_call_id='call_ff8KG1ibwThcwhtIA2HxAPib'), ToolMessage(content='{\"text\": \"An OpenAI Engineer Wrote a Wild Reply When Elon Musk\\'s AI Company Tried to Recruit Him.\", \"sentiment\": \"neutral\", \"confidence\": 0.52}', name='sentiment_analysis', id='d6fafcb8-89fd-45b0-85d9-b9cebddf4f78', tool_call_id='call_Mlytjqjubry7ICI7NUcEpCE7'), ToolMessage(content='{\"text\": \"Here’s Where Trump’s Government Layoffs Are—Highway Safety, FEMA, TSA And More.\", \"sentiment\": \"negative\", \"confidence\": 0.59}', name='sentiment_analysis', id='1dbd13d5-7c87-4825-8705-5dc593d7790e', tool_call_id='call_iIWtTAjl2N8mnmKtA0Vsqygx'), ToolMessage(content='{\"text\": \"More than 200k people are calling for Canada to revoke Elon Musk\\'s citizenship.\", \"sentiment\": \"neutral\", \"confidence\": 0.57}', name='sentiment_analysis', id='99d19bc5-5d3f-4bff-acb0-dda737aed90e', tool_call_id='call_x3SInh8NmbFoWbZ52J8tY3Mb'), ToolMessage(content='{\"text\": \"A new document undercuts Trump admin\\'s denials about $400 million Tesla deal.\", \"sentiment\": \"negative\", \"confidence\": 0.48}', name='sentiment_analysis', id='f55fddb4-ff5a-429c-ba56-6591d3c371b5', tool_call_id='call_HXjIhXDCIzODH1RdX0ViRzk3')]}}\n",
      "🛠️ Debug: {'agent': {'messages': [AIMessage(content=\"Here's the sentiment analysis for recent news about Tesla and Elon Musk:\\n\\n1. **Elon Musk and Ashley St. Clair’s private paradise**:  \\n   - **Sentiment**: Neutral  \\n   - **Confidence**: 92%\\n\\n2. **An OpenAI Engineer Wrote a Wild Reply When Elon Musk's AI Company Tried to Recruit Him**:  \\n   - **Sentiment**: Neutral  \\n   - **Confidence**: 52%\\n\\n3. **Here’s Where Trump’s Government Layoffs Are—Highway Safety, FEMA, TSA And More**:  \\n   - **Sentiment**: Negative  \\n   - **Confidence**: 59%\\n\\n4. **More than 200k people are calling for Canada to revoke Elon Musk's citizenship**:  \\n   - **Sentiment**: Neutral  \\n   - **Confidence**: 57%\\n\\n5. **A new document undercuts Trump admin's denials about $400 million Tesla deal**:  \\n   - **Sentiment**: Negative  \\n   - **Confidence**: 48%\\n\\n### Summary:\\nThe overall sentiment in recent news is predominantly neutral. However, there are negative sentiments present regarding government layoffs and Musk's citizenship issues. The negative angles may have implications for Tesla given Musk's association with the brand.\", additional_kwargs={'refusal': None}, response_metadata={'token_usage': {'completion_tokens': 261, 'prompt_tokens': 1692, 'total_tokens': 1953, 'completion_tokens_details': {'accepted_prediction_tokens': 0, 'audio_tokens': 0, 'reasoning_tokens': 0, 'rejected_prediction_tokens': 0}, 'prompt_tokens_details': {'audio_tokens': 0, 'cached_tokens': 0}}, 'model_name': 'gpt-4o-mini-2024-07-18', 'system_fingerprint': 'fp_06737a9306', 'finish_reason': 'stop', 'logprobs': None}, id='run-e4c223dc-42e3-48cd-b510-1908b54c7ae3-0', usage_metadata={'input_tokens': 1692, 'output_tokens': 261, 'total_tokens': 1953, 'input_token_details': {'audio': 0, 'cache_read': 0}, 'output_token_details': {'audio': 0, 'reasoning': 0}})]}}\n",
      "\n",
      "\n",
      "Here's the sentiment analysis for recent news about Tesla and Elon Musk:\n",
      "\n",
      "1. **Elon Musk and Ashley St. Clair’s private paradise**:  \n",
      "   - **Sentiment**: Neutral  \n",
      "   - **Confidence**: 92%\n",
      "\n",
      "2. **An OpenAI Engineer Wrote a Wild Reply When Elon Musk's AI Company Tried to Recruit Him**:  \n",
      "   - **Sentiment**: Neutral  \n",
      "   - **Confidence**: 52%\n",
      "\n",
      "3. **Here’s Where Trump’s Government Layoffs Are—Highway Safety, FEMA, TSA And More**:  \n",
      "   - **Sentiment**: Negative  \n",
      "   - **Confidence**: 59%\n",
      "\n",
      "4. **More than 200k people are calling for Canada to revoke Elon Musk's citizenship**:  \n",
      "   - **Sentiment**: Neutral  \n",
      "   - **Confidence**: 57%\n",
      "\n",
      "5. **A new document undercuts Trump admin's denials about $400 million Tesla deal**:  \n",
      "   - **Sentiment**: Negative  \n",
      "   - **Confidence**: 48%\n",
      "\n",
      "### Summary:\n",
      "The overall sentiment in recent news is predominantly neutral. However, there are negative sentiments present regarding government layoffs and Musk's citizenship issues. The negative angles may have implications for Tesla given Musk's association with the brand.\n"
     ]
    }
   ],
   "source": [
    "# sentiment analysis fo financial news\n",
    "query = \"Analyze sentiment on Tesla stock based on recent news.\"\n",
    "print(agent.process_query(query))"
   ]
  },
  {
   "cell_type": "code",
   "execution_count": 34,
   "id": "c33f0322-20c2-4a7d-81ce-3b4aaa335e0a",
   "metadata": {},
   "outputs": [
    {
     "name": "stdout",
     "output_type": "stream",
     "text": [
      "🔍 Processing Query: Analyze trend of Apple stock using SMA, EMA, and RSI. Create a table for replresentation of output\n",
      "🛠️ Debug: {'agent': {'messages': [AIMessage(content='', additional_kwargs={'tool_calls': [{'id': 'call_YNouLUkaQjBMQEVvA1rhUJAU', 'function': {'arguments': '{\"ticker\":\"AAPL\",\"indicators\":[\"SMA\",\"EMA\",\"RSI\"]}', 'name': 'trend_analysis'}, 'type': 'function'}], 'refusal': None}, response_metadata={'token_usage': {'completion_tokens': 29, 'prompt_tokens': 828, 'total_tokens': 857, 'completion_tokens_details': {'accepted_prediction_tokens': 0, 'audio_tokens': 0, 'reasoning_tokens': 0, 'rejected_prediction_tokens': 0}, 'prompt_tokens_details': {'audio_tokens': 0, 'cached_tokens': 0}}, 'model_name': 'gpt-4o-mini-2024-07-18', 'system_fingerprint': 'fp_06737a9306', 'finish_reason': 'tool_calls', 'logprobs': None}, id='run-50ec685e-3d2c-4060-b8b1-a9397dd2bcf0-0', tool_calls=[{'name': 'trend_analysis', 'args': {'ticker': 'AAPL', 'indicators': ['SMA', 'EMA', 'RSI']}, 'id': 'call_YNouLUkaQjBMQEVvA1rhUJAU', 'type': 'tool_call'}], usage_metadata={'input_tokens': 828, 'output_tokens': 29, 'total_tokens': 857, 'input_token_details': {'audio': 0, 'cache_read': 0}, 'output_token_details': {'audio': 0, 'reasoning': 0}})]}}\n",
      "🛠️ Debug: {'tools': {'messages': [ToolMessage(content='{\"ticker\": \"AAPL\", \"SMA_20\": [238.17400000000004, 237.3145, 236.09850000000003, 235.00400000000002, 233.904, 232.79250000000002, 232.06800000000004, 231.25100000000003, 231.06800000000004, 230.88850000000002, 230.97750000000002, 231.4375, 232.19100000000003, 232.64050000000003, 233.26700000000002, 233.79500000000002, 234.58700000000002, 235.30800000000002, 236.0385, 236.85, 237.888, 239.305, 240.92950000000002, 242.47100000000003, 243.769, 245.03950000000003, 246.21450000000002, 247.35350000000003, 247.86650000000003, 248.6005, 249.205, 249.75100000000003, 249.95350000000002, 249.985, 249.887, 249.86950000000002, 249.8095, 249.26800000000003, 248.5245, 247.4915, 246.29350000000002, 245.02700000000002, 243.757, 242.45850000000002, 241.419, 240.4305, 239.15750000000003, 237.8555, 236.86, 235.71800000000002, 234.60500000000002, 233.428, 232.4385, 231.6705, 230.6545, 229.6765, 228.6445, 227.81050000000002, 227.23950000000002, 226.99800000000002, 226.92850000000004, 226.955, 227.03199999999998, 227.1345, 227.22250000000003, 227.6015, 228.0245, 228.5245, 228.721, 229.05400000000003, 229.53500000000003], \"EMA_20\": [247.05, 247.0547619047619, 246.91145124716553, 246.80845589029263, 246.6238410435981, 246.41871332516018, 246.2455025322878, 245.79640705302228, 244.94627304797254, 243.77234228149896, 242.2368811118324, 240.84574957737217, 240.11948771286055, 239.39096507354049, 238.76325411415567, 237.73913467471226, 237.57350280093013, 237.5750739627463, 237.74506691867524, 237.79410816451568, 237.0384788155142, 235.68052845213188, 234.53571621859552, 233.51612419777692, 232.4803028456077, 232.24217876507362, 231.8629236445904, 232.4350261546294, 232.5154998541885, 232.6949760585515, 233.09069262440374, 234.00586475541292, 234.78721096918312, 235.75985754354664, 236.48368063463744, 237.18523485991005, 238.44568868277577, 239.75562309394, 241.2636589897552, 242.954739085969, 244.40666869682912, 245.4412716780835, 246.30305532778982, 246.63514529657175, 246.7698933635649, 247.4089511384635, 247.75476531575268, 247.79050195234765, 247.80664462355264, 247.6812498975, 247.6897022882143, 247.6002068321939, 247.14685380055639, 246.75572486717007, 246.39898916553483, 246.04194257834104, 245.42747185659428, 244.65628406072815, 243.72997129303977, 242.90425974132168, 241.9486159564339, 240.7982715796307, 239.62891238157061, 238.61663501189722, 237.6321935821927, 236.71674657436483, 235.60086594823485, 234.89792633411724, 233.96669525467752, 233.03939094470823, 232.2004013309265, 231.70131548988587, 231.29928544323008, 230.48221063911294, 229.81247629253076, 229.06938331228974, 228.48277537778597, 228.23774915133015, 228.41510637501298, 228.91557243453556, 229.3426607741036, 229.53955022418896, 229.63768829807572, 229.7445751268304, 230.32699654332274, 230.9129968725301, 231.30223526562247, 231.38297476413462, 231.4207866913599, 231.6521403398018], \"RSI_14\": [23.62088115512772, 19.937007874015777, 37.496726891856504, 39.569620253164565, 43.1654676258993, 42.42867593269935, 35.044642857142904, 32.40758115969227, 36.65926075540296, 40.325775918996285, 43.98559423769507, 52.399428221360004, 44.50110864745011, 55.003706449221646, 50.41222947440741, 55.857011915673695, 50.8671699653132, 54.79632063074899, 52.74091171379111, 56.277943368107316, 64.38618925831202, 76.12199355318621, 79.07431551499349, 79.7816502204493, 83.0624122014851, 81.62020905923349, 83.25188804975572, 72.69170579029742, 80.71242397914867, 70.19155077407508, 64.97326203208561, 64.57544618712822, 61.34086822501927, 54.0076824583867, 56.12027674294839, 53.42323651452284, 46.017433122933596, 41.61796370347586, 30.69936421435054, 23.187919463087198, 23.819372630127475, 26.13464447806348, 24.05988857938712, 26.293759512937555, 25.649591685226355, 7.43992606284651, 7.526881720430069, 7.49534450651764, 7.105030891438602, 9.64467005076132, 3.837044054950141, 3.9803439803438607, 4.162384378211584, 17.037366548042655, 14.990215264187839, 14.685582822085834, 16.637706342310977, 27.926777352064704, 32.76260990282272, 26.486280487804848, 30.99273607748178, 33.074935400516736, 37.68115942028981, 43.89086595492288, 53.16411682892906, 58.808855628313026, 64.32469304229198, 55.67817728729085, 60.54974835462639, 62.99243931555911, 69.23585841878933, 66.92745376955904, 62.929848693260006, 67.35369893264634, 65.5352480417755, 71.57434402332365]}', name='trend_analysis', id='c3c18d67-d49b-4ad5-b9aa-9d7ecca07a88', tool_call_id='call_YNouLUkaQjBMQEVvA1rhUJAU')]}}\n",
      "🛠️ Debug: {'agent': {'messages': [AIMessage(content='Here\\'s the trend analysis of Apple Inc. (AAPL) stock using Simple Moving Average (SMA), Exponential Moving Average (EMA), and Relative Strength Index (RSI). \\n\\n| Indicator | Value (Latest) | Value (Previous) | Trend Direction |\\n|-----------|----------------|------------------|------------------|\\n| **SMA (20 days)** | 229.535 | 228.721 | Upward |\\n| **EMA (20 days)** | 231.652 | 231.420 | Upward |\\n| **RSI (14 days)** | 71.574 | 65.535 | Overbought |\\n\\n### Explanation:\\n- **SMA (20 days)**: The latest value indicates a slight upward trend, as the current average is higher than the previous.\\n- **EMA (20 days)**: This shows similar upward momentum, suggesting a bullish trend.\\n- **RSI (14 days)**: The RSI indicates an \"overbought\" condition, as it is above 70, which could suggest a possible pullback soon.\\n\\nLet me know if you need further insights or information!', additional_kwargs={'refusal': None}, response_metadata={'token_usage': {'completion_tokens': 229, 'prompt_tokens': 2905, 'total_tokens': 3134, 'completion_tokens_details': {'accepted_prediction_tokens': 0, 'audio_tokens': 0, 'reasoning_tokens': 0, 'rejected_prediction_tokens': 0}, 'prompt_tokens_details': {'audio_tokens': 0, 'cached_tokens': 0}}, 'model_name': 'gpt-4o-mini-2024-07-18', 'system_fingerprint': 'fp_06737a9306', 'finish_reason': 'stop', 'logprobs': None}, id='run-9381c56e-90f4-42e1-8264-7ba9eacb2ff0-0', usage_metadata={'input_tokens': 2905, 'output_tokens': 229, 'total_tokens': 3134, 'input_token_details': {'audio': 0, 'cache_read': 0}, 'output_token_details': {'audio': 0, 'reasoning': 0}})]}}\n",
      "\n",
      "Here's the trend analysis of Apple Inc. (AAPL) stock using Simple Moving Average (SMA), Exponential Moving Average (EMA), and Relative Strength Index (RSI). \n",
      "\n",
      "| Indicator | Value (Latest) | Value (Previous) | Trend Direction |\n",
      "|-----------|----------------|------------------|------------------|\n",
      "| **SMA (20 days)** | 229.535 | 228.721 | Upward |\n",
      "| **EMA (20 days)** | 231.652 | 231.420 | Upward |\n",
      "| **RSI (14 days)** | 71.574 | 65.535 | Overbought |\n",
      "\n",
      "### Explanation:\n",
      "- **SMA (20 days)**: The latest value indicates a slight upward trend, as the current average is higher than the previous.\n",
      "- **EMA (20 days)**: This shows similar upward momentum, suggesting a bullish trend.\n",
      "- **RSI (14 days)**: The RSI indicates an \"overbought\" condition, as it is above 70, which could suggest a possible pullback soon.\n",
      "\n",
      "Let me know if you need further insights or information!\n"
     ]
    }
   ],
   "source": [
    "# trend analysis on stock\n",
    "query = \"Analyze trend of Apple stock using SMA, EMA, and RSI. Create a table for replresentation of output\"\n",
    "print(agent.process_query(query))"
   ]
  },
  {
   "cell_type": "code",
   "execution_count": 35,
   "id": "b7eb30aa-eb5a-4d26-a7ba-74206fddc6d6",
   "metadata": {},
   "outputs": [
    {
     "name": "stdout",
     "output_type": "stream",
     "text": [
      "🔍 Processing Query: My financial query is to write me a song on latest microdoft news.\n",
      "🛠️ Debug: {'agent': {'messages': [AIMessage(content='', additional_kwargs={'tool_calls': [{'id': 'call_Ozpc06wuqNXp6PwRpA7G1YCJ', 'function': {'arguments': '{\"query\":\"Microsoft\",\"language\":\"en\",\"sort_by\":\"publishedAt\",\"max_results\":5}', 'name': 'news_api'}, 'type': 'function'}], 'refusal': None}, response_metadata={'token_usage': {'completion_tokens': 30, 'prompt_tokens': 823, 'total_tokens': 853, 'completion_tokens_details': {'accepted_prediction_tokens': 0, 'audio_tokens': 0, 'reasoning_tokens': 0, 'rejected_prediction_tokens': 0}, 'prompt_tokens_details': {'audio_tokens': 0, 'cached_tokens': 0}}, 'model_name': 'gpt-4o-mini-2024-07-18', 'system_fingerprint': 'fp_06737a9306', 'finish_reason': 'tool_calls', 'logprobs': None}, id='run-7f8e24b2-6a07-4275-aac0-0385d4bb2182-0', tool_calls=[{'name': 'news_api', 'args': {'query': 'Microsoft', 'language': 'en', 'sort_by': 'publishedAt', 'max_results': 5}, 'id': 'call_Ozpc06wuqNXp6PwRpA7G1YCJ', 'type': 'tool_call'}], usage_metadata={'input_tokens': 823, 'output_tokens': 30, 'total_tokens': 853, 'input_token_details': {'audio': 0, 'cache_read': 0}, 'output_token_details': {'audio': 0, 'reasoning': 0}})]}}\n",
      "🛠️ Debug: {'tools': {'messages': [ToolMessage(content='[{\"title\": \"Microsoft shelves AI data-center deals in sign of potential oversupply, brokerage says\", \"source\": \"Fci Academy\", \"published_at\": \"2025-02-24T21:02:49Z\", \"url\": \"https://www.dispatch.com/story/business/2025/02/24/microsoft-shelves-ai-data-center-deals-brokerage-says-tech-news/80055352007/\"}, {\"title\": \"Microsoft Quietly Launches Ad-Supported Version of Office Apps for Windows\", \"source\": \"Slashdot.org\", \"published_at\": \"2025-02-24T20:58:00Z\", \"url\": \"https://it.slashdot.org/story/25/02/24/2058254/microsoft-quietly-launches-ad-supported-version-of-office-apps-for-windows\"}, {\"title\": \"Chicago-Area Youth Hockey Coach Accused of Possessing Child Porn\", \"source\": \"Breitbart News\", \"published_at\": \"2025-02-24T20:57:27Z\", \"url\": \"https://www.breitbart.com/crime/2025/02/24/chicago-area-youth-hockey-coach-accused-of-possessing-child-porn/\"}, {\"title\": \"How Ne-Yo Explained His Polyamorous Relationship to His 7 Kids\", \"source\": \"Newsweek\", \"published_at\": \"2025-02-24T20:57:14Z\", \"url\": \"https://www.newsweek.com/entertainment/celebrity-news/ne-yo-transparent-polyamorous-relationship-kids-2035545\"}, {\"title\": \"You Can Now Use Word, Excel, and PowerPoint for Free on Windows\", \"source\": \"Thurrott.com\", \"published_at\": \"2025-02-24T20:56:27Z\", \"url\": \"https://www.thurrott.com/?p=317667\"}]', name='news_api', id='8fb5fc94-3146-4137-a7ab-3fe29a086717', tool_call_id='call_Ozpc06wuqNXp6PwRpA7G1YCJ')]}}\n",
      "🛠️ Debug: {'agent': {'messages': [AIMessage(content=\"Here's a fun song inspired by the latest Microsoft news!\\n\\n---\\n\\n**(Verse 1)**  \\nMicrosoft's in the news again,  \\nDeals slipping away, they say it's the end,  \\nAI data centers hit a snag,  \\nOversupply whispers, it’s a sad drag.\\n\\n**(Chorus)**  \\nOh, Microsoft, what did you do?  \\nSaved by innovation, it’s all coming through,  \\nQuietly launching apps for the crowd,  \\nAd-supported Office, standing proud!\\n\\n**(Verse 2)**  \\nFree on Windows, Word and Excel,  \\nPowerPoint joins in, ringing the bell,  \\nNo more fees, just clicks away,  \\nEmpowering users, making our day.\\n\\n**(Chorus)**  \\nOh, Microsoft, what did you do?  \\nSaved by innovation, it’s all coming through,  \\nQuietly launching apps for the crowd,  \\nAd-supported Office, standing proud!\\n\\n**(Bridge)**  \\nIn the world of tech, it's a winding road,  \\nThrough challenges they stride, bearing the load,  \\nStay tuned for more, the future’s bright,  \\nWith Microsoft leading, we’re taking flight!\\n\\n**(Outro)**  \\nSo here's to you, MS, keep setting the pace,  \\nNavigating the market, winning the race,  \\nFrom AI dreams to a free app delight,  \\nTogether we’ll thrive, shining so bright!\\n\\n[Learn more about the news here!](https://www.dispatch.com/story/business/2025/02/24/microsoft-shelves-ai-data-center-deals-brokerage-says-tech-news/80055352007/)  \\n[Check out the ad-supported apps](https://it.slashdot.org/story/25/02/24/2058254/microsoft-quietly-launches-ad-supported-version-of-office-apps-for-windows)  \\n[See free Office apps on Windows](https://www.thurrott.com/?p=317667)\\n\\n---\\n\\nFeel free to sing along!\", additional_kwargs={'refusal': None}, response_metadata={'token_usage': {'completion_tokens': 400, 'prompt_tokens': 1269, 'total_tokens': 1669, 'completion_tokens_details': {'accepted_prediction_tokens': 0, 'audio_tokens': 0, 'reasoning_tokens': 0, 'rejected_prediction_tokens': 0}, 'prompt_tokens_details': {'audio_tokens': 0, 'cached_tokens': 0}}, 'model_name': 'gpt-4o-mini-2024-07-18', 'system_fingerprint': 'fp_06737a9306', 'finish_reason': 'stop', 'logprobs': None}, id='run-ab68cbe2-7bb0-4053-bb4e-0df4144ad488-0', usage_metadata={'input_tokens': 1269, 'output_tokens': 400, 'total_tokens': 1669, 'input_token_details': {'audio': 0, 'cache_read': 0}, 'output_token_details': {'audio': 0, 'reasoning': 0}})]}}\n",
      "\n",
      "Here's a fun song inspired by the latest Microsoft news!\n",
      "\n",
      "---\n",
      "\n",
      "**(Verse 1)**  \n",
      "Microsoft's in the news again,  \n",
      "Deals slipping away, they say it's the end,  \n",
      "AI data centers hit a snag,  \n",
      "Oversupply whispers, it’s a sad drag.\n",
      "\n",
      "**(Chorus)**  \n",
      "Oh, Microsoft, what did you do?  \n",
      "Saved by innovation, it’s all coming through,  \n",
      "Quietly launching apps for the crowd,  \n",
      "Ad-supported Office, standing proud!\n",
      "\n",
      "**(Verse 2)**  \n",
      "Free on Windows, Word and Excel,  \n",
      "PowerPoint joins in, ringing the bell,  \n",
      "No more fees, just clicks away,  \n",
      "Empowering users, making our day.\n",
      "\n",
      "**(Chorus)**  \n",
      "Oh, Microsoft, what did you do?  \n",
      "Saved by innovation, it’s all coming through,  \n",
      "Quietly launching apps for the crowd,  \n",
      "Ad-supported Office, standing proud!\n",
      "\n",
      "**(Bridge)**  \n",
      "In the world of tech, it's a winding road,  \n",
      "Through challenges they stride, bearing the load,  \n",
      "Stay tuned for more, the future’s bright,  \n",
      "With Microsoft leading, we’re taking flight!\n",
      "\n",
      "**(Outro)**  \n",
      "So here's to you, MS, keep setting the pace,  \n",
      "Navigating the market, winning the race,  \n",
      "From AI dreams to a free app delight,  \n",
      "Together we’ll thrive, shining so bright!\n",
      "\n",
      "[Learn more about the news here!](https://www.dispatch.com/story/business/2025/02/24/microsoft-shelves-ai-data-center-deals-brokerage-says-tech-news/80055352007/)  \n",
      "[Check out the ad-supported apps](https://it.slashdot.org/story/25/02/24/2058254/microsoft-quietly-launches-ad-supported-version-of-office-apps-for-windows)  \n",
      "[See free Office apps on Windows](https://www.thurrott.com/?p=317667)\n",
      "\n",
      "---\n",
      "\n",
      "Feel free to sing along!\n"
     ]
    }
   ],
   "source": [
    "# multiple tool calls\n",
    "query = \"My financial query is to write me a song on latest microdoft news.\"\n",
    "response = agent.process_query(query)\n",
    "print(response)"
   ]
  },
  {
   "cell_type": "code",
   "execution_count": 7,
   "id": "62e6c429-79ab-486b-90e1-a04af5bc580f",
   "metadata": {},
   "outputs": [
    {
     "name": "stdout",
     "output_type": "stream",
     "text": [
      "{'response': \"\\nTesla's stock price today is $360.56. The day's high was $367.34, and the low was $353.74, with a trading volume of 66,494,369 shares.\"}\n"
     ]
    }
   ],
   "source": [
    "# import requests\n",
    "\n",
    "# url = \"http://localhost:8000/query\"\n",
    "# data = {\"query\": \"What is Tesla's stock price today?\"}\n",
    "# response = requests.post(url, json=data)\n",
    "\n",
    "# print(response.json())  # Output: {'response': 'Tesla's stock price is $360.56'}"
   ]
  },
  {
   "cell_type": "code",
   "execution_count": null,
   "id": "ca74439a-ddf9-49bd-ac9d-b3fda1c1a7b4",
   "metadata": {},
   "outputs": [],
   "source": []
  },
  {
   "cell_type": "code",
   "execution_count": null,
   "id": "65967bb1-31c3-4fd4-98ba-732c4bfb61a4",
   "metadata": {},
   "outputs": [],
   "source": []
  },
  {
   "cell_type": "code",
   "execution_count": null,
   "id": "fd3d9697-86b0-4b86-b89c-c79139be81a3",
   "metadata": {},
   "outputs": [],
   "source": []
  },
  {
   "cell_type": "code",
   "execution_count": null,
   "id": "fc637ec3-5a96-4afe-85cc-0cc060633e3d",
   "metadata": {},
   "outputs": [],
   "source": []
  },
  {
   "cell_type": "code",
   "execution_count": null,
   "id": "6cc8c84c-bb08-44ef-bf6a-90392c57ad26",
   "metadata": {},
   "outputs": [],
   "source": []
  },
  {
   "cell_type": "code",
   "execution_count": null,
   "id": "2b28591d-9259-4785-b7f0-fc96ce18ccb6",
   "metadata": {},
   "outputs": [],
   "source": []
  },
  {
   "cell_type": "code",
   "execution_count": null,
   "id": "17acae60-178f-48d7-98fe-8f7bc8fd05fa",
   "metadata": {},
   "outputs": [],
   "source": []
  },
  {
   "cell_type": "code",
   "execution_count": null,
   "id": "18256e35-d007-4a76-9e67-de6dab9639aa",
   "metadata": {},
   "outputs": [],
   "source": []
  },
  {
   "cell_type": "code",
   "execution_count": null,
   "id": "bca227d3-4d10-4155-bf09-7fd3a7e86e65",
   "metadata": {},
   "outputs": [],
   "source": []
  }
 ],
 "metadata": {
  "kernelspec": {
   "display_name": "Python 3 (ipykernel)",
   "language": "python",
   "name": "python3"
  },
  "language_info": {
   "codemirror_mode": {
    "name": "ipython",
    "version": 3
   },
   "file_extension": ".py",
   "mimetype": "text/x-python",
   "name": "python",
   "nbconvert_exporter": "python",
   "pygments_lexer": "ipython3",
   "version": "3.13.2"
  }
 },
 "nbformat": 4,
 "nbformat_minor": 5
}
