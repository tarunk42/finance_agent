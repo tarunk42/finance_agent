{
 "cells": [
  {
   "cell_type": "code",
   "execution_count": 1,
   "id": "95047a52-76c4-4c66-b279-cb7bd882f8e3",
   "metadata": {},
   "outputs": [
    {
     "name": "stdout",
     "output_type": "stream",
     "text": [
      "Setup successful!\n"
     ]
    }
   ],
   "source": [
    "import pandas as pd\n",
    "import yfinance as yf\n",
    "import requests\n",
    "import torch\n",
    "print(\"Setup successful!\")"
   ]
  },
  {
   "cell_type": "markdown",
   "id": "8cd4a088-074a-406f-8d7d-f6d678a2967b",
   "metadata": {},
   "source": [
    "## setup project environemnt"
   ]
  },
  {
   "cell_type": "code",
   "execution_count": 2,
   "id": "eecda3df-3c6b-441c-9ce3-9164066908bc",
   "metadata": {},
   "outputs": [
    {
     "name": "stdout",
     "output_type": "stream",
     "text": [
      "Updated sys.path: ['/opt/homebrew/Cellar/python@3.13/3.13.2/Frameworks/Python.framework/Versions/3.13/lib/python313.zip', '/opt/homebrew/Cellar/python@3.13/3.13.2/Frameworks/Python.framework/Versions/3.13/lib/python3.13', '/opt/homebrew/Cellar/python@3.13/3.13.2/Frameworks/Python.framework/Versions/3.13/lib/python3.13/lib-dynload', '', '/Users/tarunkashyap/Desktop/super_agent/agenv/lib/python3.13/site-packages', '/Users/tarunkashyap/Desktop/super_agent/finance_agents']\n"
     ]
    }
   ],
   "source": [
    "import os\n",
    "import sys\n",
    "\n",
    "# Move up two levels to reach 'finance_agent' root\n",
    "project_root = os.path.abspath(os.path.join(os.getcwd(), \"..\"))  # Go up one level\n",
    "if project_root not in sys.path:\n",
    "    sys.path.append(project_root)\n",
    "\n",
    "# Verify the path added\n",
    "print(\"Updated sys.path:\", sys.path)"
   ]
  },
  {
   "cell_type": "markdown",
   "id": "c8aa977f-1f21-445e-819d-fcc173d5f9e6",
   "metadata": {},
   "source": [
    "### test stock tools"
   ]
  },
  {
   "cell_type": "code",
   "execution_count": null,
   "id": "8cecdd7d-2d49-4147-847c-11db8b5ec4c2",
   "metadata": {},
   "outputs": [],
   "source": [
    "# from tools.stock_market_tool import StockMarketTool\n",
    "\n",
    "# # Test real-time stock retrieval\n",
    "# stock_data = StockMarketTool.get_stock_price(\"AAPL\")\n",
    "# print(\"Live Stock Data:\", stock_data)\n",
    "\n",
    "# # # Test historical stock retrieval\n",
    "# historical_data = StockMarketTool.get_historical_stock(\"AAPL\", days=15)\n",
    "# print(historical_data)"
   ]
  },
  {
   "cell_type": "code",
   "execution_count": null,
   "id": "fe783bed-4ac2-439c-aca8-b5e00f161416",
   "metadata": {},
   "outputs": [],
   "source": [
    "from tools.stock_market_tool import StockMarketTool, HistoricalStockMarketTool\n",
    "\n",
    "\n",
    "# Initialize the tools (API key is fetched from config)\n",
    "stock_tool = StockMarketTool()\n",
    "historical_stock_tool = HistoricalStockMarketTool()"
   ]
  },
  {
   "cell_type": "code",
   "execution_count": null,
   "id": "1b13a000-8035-4ea3-af30-0dd28c9926b1",
   "metadata": {},
   "outputs": [],
   "source": [
    "# Test fetching real-time stock price\n",
    "ticker = \"AAPL\"\n",
    "print(\"Fetching real-time stock price for:\", ticker)\n",
    "stock_price_result = stock_tool._run(ticker)\n",
    "print(stock_price_result)\n",
    "\n",
    "# Test fetching historical stock data\n",
    "days = 30\n",
    "print(f\"\\nFetching {days} days of historical data for:\", ticker)\n",
    "historical_data_result = historical_stock_tool._run(ticker, days)\n",
    "print(historical_data_result)"
   ]
  },
  {
   "cell_type": "markdown",
   "id": "cd443c1f-bfb6-402d-9b9b-269c20d7965e",
   "metadata": {},
   "source": [
    "### test crypto tools"
   ]
  },
  {
   "cell_type": "code",
   "execution_count": null,
   "id": "40f9106a-4766-4883-8784-7794f27cc999",
   "metadata": {},
   "outputs": [],
   "source": [
    "from tools.crypto_market_tool import CryptoMarketTool, HistoricalCryptoMarketTool"
   ]
  },
  {
   "cell_type": "code",
   "execution_count": null,
   "id": "fe27467e-7d9b-4287-9c5d-b1f6de160b09",
   "metadata": {},
   "outputs": [],
   "source": [
    "crypto_tool = CryptoMarketTool()\n",
    "\n",
    "# Test real-time crypto retrieval\n",
    "crypto_data = crypto_tool._run(\"BTC/USDT\")\n",
    "print(\"Live Crypto Data:\", crypto_data)\n",
    "\n",
    "# Test historical crypto retrieval\n",
    "historical_crypto_tool = HistoricalCryptoMarketTool()\n",
    "historical_crypto_data = historical_crypto_tool._run(\"BTC/USDT\", 30)\n",
    "print(\"Historical Crypto Data:\", historical_crypto_data)"
   ]
  },
  {
   "cell_type": "code",
   "execution_count": null,
   "id": "404d99da-9821-447c-84e0-7bdb97b4f93b",
   "metadata": {},
   "outputs": [],
   "source": [
    "# from tools.crypto_market_tool import CryptoMarketTool\n",
    "\n",
    "# # Initialize tool\n",
    "# crypto_tool = CryptoMarketTool()\n",
    "\n",
    "# # Test real-time crypto retrieval\n",
    "# crypto_data = crypto_tool.get_crypto_price(\"BTC/USDT\")\n",
    "# print(\"Live Crypto Data:\", crypto_data)\n",
    "\n",
    "# # Test historical crypto retrieval\n",
    "# historical_crypto = crypto_tool.get_historical_crypto(\"BTC/USDT\", days=15)\n",
    "# print(\"Historical Crypto Data:\", historical_crypto[:5])  # Print first 5 records for readability"
   ]
  },
  {
   "cell_type": "markdown",
   "id": "1e60c47f-f224-499a-9c30-e17f1ea80e0d",
   "metadata": {},
   "source": [
    "### test news tools"
   ]
  },
  {
   "cell_type": "code",
   "execution_count": null,
   "id": "ad23a14a-6655-433d-8d87-58fadbb00c66",
   "metadata": {},
   "outputs": [],
   "source": [
    "from tools.news_api_tool import NewsAPITool"
   ]
  },
  {
   "cell_type": "code",
   "execution_count": null,
   "id": "c65123a8-eb48-4534-bd80-05bce9741660",
   "metadata": {},
   "outputs": [],
   "source": [
    "news_tool = NewsAPITool()\n",
    "general_news = news_tool._run(query=\"BTC\", max_results=5)\n",
    "print(general_news)"
   ]
  },
  {
   "cell_type": "code",
   "execution_count": null,
   "id": "78f6711d-bdde-4224-a9c8-0175b80655a5",
   "metadata": {},
   "outputs": [],
   "source": [
    "# from tools.news_api_tool import NewsAPITool\n",
    "\n",
    "# # Test general stock market news\n",
    "# stock_news = NewsAPITool.fetch_news(query=\"stock market\", max_results=3)\n",
    "# print(\"Stock Market News:\", stock_news)\n",
    "\n",
    "# # Test fetching Tesla-related news\n",
    "# tesla_news = NewsAPITool.fetch_stock_news(\"TSLA\", max_results=3)\n",
    "# print(\"Tesla News:\", tesla_news)\n",
    "\n",
    "# # Test fetching Bitcoin-related news\n",
    "# crypto_news = NewsAPITool.fetch_crypto_news(\"Bitcoin\", max_results=3)\n",
    "# print(\"Bitcoin News:\", crypto_news)"
   ]
  },
  {
   "cell_type": "code",
   "execution_count": null,
   "id": "40bf12fa-43d1-4d5a-bab2-71c3a42d72ea",
   "metadata": {},
   "outputs": [],
   "source": [
    "NewsAPITool.fetch_news(query=\"hamas\", max_results=2)"
   ]
  },
  {
   "cell_type": "markdown",
   "id": "150167ba-b7a2-4954-9677-1d810fa5506d",
   "metadata": {},
   "source": [
    "### test sentiment analysis tool"
   ]
  },
  {
   "cell_type": "code",
   "execution_count": null,
   "id": "6b178c1a-f1c4-43b1-a1e1-7123e108b07a",
   "metadata": {},
   "outputs": [],
   "source": [
    "from tools.sentiment_analysis_tool import SentimentAnalysisTool\n",
    "# Initialize the tool\n",
    "sentiment_tool = SentimentAnalysisTool()\n",
    "\n",
    "# Test sentiment analysis on financial news headlines\n",
    "test_texts = [\n",
    "    \"Tesla stock surges after strong quarterly earnings report.\",\n",
    "    \"Bitcoin crashes amid market uncertainty.\",\n",
    "    \"Apple's revenue remains stable despite economic slowdown.\",\n",
    "    \"Trump vows to take military action against Iran.\",\n",
    "]\n",
    "\n",
    "print(\"\\nTesting synchronous sentiment analysis...\")\n",
    "for text in test_texts:\n",
    "    sentiment_result = sentiment_tool._run(text)\n",
    "    print(sentiment_result)"
   ]
  },
  {
   "cell_type": "code",
   "execution_count": null,
   "id": "4bd63197-da2d-432f-8ea8-9b6630f49f31",
   "metadata": {},
   "outputs": [],
   "source": [
    "# from tools.sentiment_analysis_tool import SentimentAnalysisTool\n",
    "\n",
    "# # Initialize tool\n",
    "# sentiment_tool = SentimentAnalysisTool()\n",
    "\n",
    "# # Test sentiment on a financial news headline\n",
    "# news_sentiment = sentiment_tool.analyze_sentiment(\"Tesla stock surges after record-breaking Q1 earnings.\")\n",
    "# print(\"News Sentiment:\", news_sentiment)\n",
    "\n",
    "# # Test sentiment on a crypto-related tweet\n",
    "# tweet_sentiment = sentiment_tool.analyze_sentiment(\"Bitcoin is crashing! Sell everything now!\")\n",
    "# print(\"Tweet Sentiment:\", tweet_sentiment)"
   ]
  },
  {
   "cell_type": "markdown",
   "id": "4a31028f-47c1-45df-9279-7e2e4a15b7fd",
   "metadata": {},
   "source": [
    "### trend_analysis_tools"
   ]
  },
  {
   "cell_type": "code",
   "execution_count": null,
   "id": "80010e63-c832-449c-b6a8-d33e88e42c33",
   "metadata": {},
   "outputs": [],
   "source": [
    "# import pandas as pd\n",
    "# import matplotlib.pyplot as plt\n",
    "# from tools.trend_analysis_tool import TrendAnalysisTool\n",
    "# from tools.stock_market_tool import StockMarketTool\n",
    "\n",
    "# # Fetch real stock data (e.g., AAPL for past 90 days)\n",
    "# historical_data = StockMarketTool.get_historical_stock(\"MSFT\", days=90)\n",
    "\n",
    "# # Convert to DataFrame\n",
    "# if isinstance(historical_data, list) and len(historical_data) > 0:\n",
    "#     df = pd.DataFrame(historical_data)\n",
    "\n",
    "#     # Compute Trend Indicators\n",
    "#     df[\"SMA_20\"] = TrendAnalysisTool.calculate_sma(df, period=20)\n",
    "#     df[\"EMA_20\"] = TrendAnalysisTool.calculate_ema(df, period=20)\n",
    "#     df[\"RSI_14\"] = TrendAnalysisTool.calculate_rsi(df, period=14)\n",
    "#     df[\"MACD\"], df[\"Signal\"] = TrendAnalysisTool.calculate_macd(df)\n",
    "\n",
    "#     # Plotting the data\n",
    "#     plt.figure(figsize=(12, 6))\n",
    "\n",
    "#     # Plot price and moving averages\n",
    "#     plt.subplot(3, 1, 1)\n",
    "#     plt.plot(df[\"Close\"], label=\"Close Price\", color=\"blue\")\n",
    "#     plt.plot(df[\"SMA_20\"], label=\"SMA 20\", linestyle=\"dashed\", color=\"red\")\n",
    "#     plt.plot(df[\"EMA_20\"], label=\"EMA 20\", linestyle=\"dashed\", color=\"green\")\n",
    "#     plt.title(\"Stock Price & Moving Averages\")\n",
    "#     plt.legend()\n",
    "\n",
    "#     # Plot RSI\n",
    "#     plt.subplot(3, 1, 2)\n",
    "#     plt.plot(df[\"RSI_14\"], label=\"RSI 14\", color=\"purple\")\n",
    "#     plt.axhline(70, linestyle=\"dashed\", color=\"red\")\n",
    "#     plt.axhline(30, linestyle=\"dashed\", color=\"green\")\n",
    "#     plt.title(\"Relative Strength Index (RSI)\")\n",
    "#     plt.legend()\n",
    "\n",
    "#     # Plot MACD\n",
    "#     plt.subplot(3, 1, 3)\n",
    "#     plt.plot(df[\"MACD\"], label=\"MACD\", color=\"blue\")\n",
    "#     plt.plot(df[\"Signal\"], label=\"Signal Line\", linestyle=\"dashed\", color=\"red\")\n",
    "#     plt.axhline(0, linestyle=\"dashed\", color=\"black\")\n",
    "#     plt.title(\"MACD & Signal Line\")\n",
    "#     plt.legend()\n",
    "\n",
    "#     plt.tight_layout()\n",
    "#     plt.show()\n",
    "\n",
    "# else:\n",
    "#     print(\"Error: No valid historical data retrieved.\")\n"
   ]
  },
  {
   "cell_type": "code",
   "execution_count": null,
   "id": "798ca771-9a54-4058-95db-c31d15a11d79",
   "metadata": {},
   "outputs": [],
   "source": [
    "from tools.trend_analysis_tool import TrendAnalysisTool"
   ]
  },
  {
   "cell_type": "code",
   "execution_count": null,
   "id": "06c6d473-8e0b-482a-ab96-b6086b68ff98",
   "metadata": {},
   "outputs": [],
   "source": [
    "trend_result = TrendAnalysisTool()._run(\"AAPL\", days=90, indicators=[\"SMA\", \"EMA\", \"RSI\", \"MACD\"])\n",
    "print(trend_result)"
   ]
  },
  {
   "cell_type": "code",
   "execution_count": null,
   "id": "37d0044e-17ee-49bd-a851-f9d65da26380",
   "metadata": {},
   "outputs": [],
   "source": [
    "trend_result['SMA_20']"
   ]
  },
  {
   "cell_type": "markdown",
   "id": "2d8b22c3-54d5-46d5-bee2-947b473e9aba",
   "metadata": {},
   "source": [
    "### test data retrieval agent"
   ]
  },
  {
   "cell_type": "code",
   "execution_count": 3,
   "id": "0b54fe37-4131-41d9-88e6-0d648ef4fb0f",
   "metadata": {},
   "outputs": [
    {
     "name": "stderr",
     "output_type": "stream",
     "text": [
      "Device set to use mps:0\n"
     ]
    },
    {
     "name": "stdout",
     "output_type": "stream",
     "text": [
      "Loaded Tools: ['stock_market', 'historical_stock_market', 'trend_analysis', 'news_api', 'sentiment_analysis', 'crypto_market']\n"
     ]
    }
   ],
   "source": [
    "from agents.agent_manager import AgentManager\n",
    "agent = AgentManager()"
   ]
  },
  {
   "cell_type": "code",
   "execution_count": 20,
   "id": "c868c5c0-8184-4593-b505-3a55b0d4405a",
   "metadata": {},
   "outputs": [
    {
     "name": "stdin",
     "output_type": "stream",
     "text": [
      "Ask your financial assistant:  create a table for tesla stock price for last 10 days, include close, open, prev close\n"
     ]
    },
    {
     "name": "stdout",
     "output_type": "stream",
     "text": [
      "🔍 Processing Query: create a table for tesla stock price for last 10 days, include close, open, prev close\n",
      "🛠️ Debug: {'agent': {'messages': [AIMessage(content='', additional_kwargs={'tool_calls': [{'id': 'call_i0YZyddJqDIl8XsIcrmyEuKt', 'function': {'arguments': '{\"ticker\":\"TSLA\",\"days\":10}', 'name': 'historical_stock_market'}, 'type': 'function'}], 'refusal': None}, response_metadata={'token_usage': {'completion_tokens': 22, 'prompt_tokens': 473, 'total_tokens': 495, 'completion_tokens_details': {'accepted_prediction_tokens': 0, 'audio_tokens': 0, 'reasoning_tokens': 0, 'rejected_prediction_tokens': 0}, 'prompt_tokens_details': {'audio_tokens': 0, 'cached_tokens': 0}}, 'model_name': 'gpt-4o-mini-2024-07-18', 'system_fingerprint': 'fp_00428b782a', 'finish_reason': 'tool_calls', 'logprobs': None}, id='run-e212ce2c-c77f-4197-9994-f3291786fe07-0', tool_calls=[{'name': 'historical_stock_market', 'args': {'ticker': 'TSLA', 'days': 10}, 'id': 'call_i0YZyddJqDIl8XsIcrmyEuKt', 'type': 'tool_call'}], usage_metadata={'input_tokens': 473, 'output_tokens': 22, 'total_tokens': 495, 'input_token_details': {'audio': 0, 'cache_read': 0}, 'output_token_details': {'audio': 0, 'reasoning': 0}})]}}\n",
      "🛠️ Debug: {'tools': {'messages': [ToolMessage(content='{\"ticker\": \"TSLA\", \"historical_data\": [{\"date\": \"2025-02-19\", \"open\": 354, \"high\": 367.34, \"low\": 353.67, \"close\": 360.56, \"volume\": 66494369}, {\"date\": \"2025-02-18\", \"open\": 355.01, \"high\": 359.1, \"low\": 350.02, \"close\": 354.11, \"volume\": 51631702}, {\"date\": \"2025-02-14\", \"open\": 360.62, \"high\": 362, \"low\": 347.5, \"close\": 355.84, \"volume\": 68277300}, {\"date\": \"2025-02-13\", \"open\": 345, \"high\": 358.69, \"low\": 342.85, \"close\": 355.94, \"volume\": 89441519}, {\"date\": \"2025-02-12\", \"open\": 329.94, \"high\": 346.4, \"low\": 329.12, \"close\": 336.51, \"volume\": 105382729}, {\"date\": \"2025-02-11\", \"open\": 345.8, \"high\": 349.37, \"low\": 325.1, \"close\": 328.5, \"volume\": 118543400}, {\"date\": \"2025-02-10\", \"open\": 356.21, \"high\": 362.7, \"low\": 350.51, \"close\": 350.73, \"volume\": 77514903}, {\"date\": \"2025-02-07\", \"open\": 370.19, \"high\": 380.55, \"low\": 360.34, \"close\": 361.62, \"volume\": 70298300}, {\"date\": \"2025-02-06\", \"open\": 373.03, \"high\": 375.4, \"low\": 363.18, \"close\": 374.32, \"volume\": 77918230}, {\"date\": \"2025-02-05\", \"open\": 387.51, \"high\": 388.39, \"low\": 375.53, \"close\": 378.17, \"volume\": 57614721}]}', name='historical_stock_market', id='e3cd1bc5-fde4-439a-9d91-c4fcff21f401', tool_call_id='call_i0YZyddJqDIl8XsIcrmyEuKt')]}}\n",
      "🛠️ Debug: {'agent': {'messages': [AIMessage(content=\"Here's a table of Tesla's stock price for the last 10 days, including the open, close, and previous close prices:\\n\\n| Date       | Open   | Close   | Prev Close |\\n|------------|--------|---------|------------|\\n| 2025-02-19 | 354.00 | 360.56  | 354.11     |\\n| 2025-02-18 | 355.01 | 354.11  | 355.84     |\\n| 2025-02-14 | 360.62 | 355.84  | 355.94     |\\n| 2025-02-13 | 345.00 | 355.94  | 336.51     |\\n| 2025-02-12 | 329.94 | 336.51  | 328.50     |\\n| 2025-02-11 | 345.80 | 328.50  | 350.73     |\\n| 2025-02-10 | 356.21 | 350.73  | 361.62     |\\n| 2025-02-07 | 370.19 | 361.62  | 374.32     |\\n| 2025-02-06 | 373.03 | 374.32  | 378.17     |\\n| 2025-02-05 | 387.51 | 378.17  | N/A        |\\n\\nThis table summarizes the opening, closing, and previous closing prices for each of the last 10 trading days for Tesla (TSLA) stock.\", additional_kwargs={'refusal': None}, response_metadata={'token_usage': {'completion_tokens': 337, 'prompt_tokens': 1021, 'total_tokens': 1358, 'completion_tokens_details': {'accepted_prediction_tokens': 0, 'audio_tokens': 0, 'reasoning_tokens': 0, 'rejected_prediction_tokens': 0}, 'prompt_tokens_details': {'audio_tokens': 0, 'cached_tokens': 0}}, 'model_name': 'gpt-4o-mini-2024-07-18', 'system_fingerprint': 'fp_00428b782a', 'finish_reason': 'stop', 'logprobs': None}, id='run-98ad9843-59ba-43af-b1c2-41fe452877d6-0', usage_metadata={'input_tokens': 1021, 'output_tokens': 337, 'total_tokens': 1358, 'input_token_details': {'audio': 0, 'cache_read': 0}, 'output_token_details': {'audio': 0, 'reasoning': 0}})]}}\n",
      "\n",
      "Here's a table of Tesla's stock price for the last 10 days, including the open, close, and previous close prices:\n",
      "\n",
      "| Date       | Open   | Close   | Prev Close |\n",
      "|------------|--------|---------|------------|\n",
      "| 2025-02-19 | 354.00 | 360.56  | 354.11     |\n",
      "| 2025-02-18 | 355.01 | 354.11  | 355.84     |\n",
      "| 2025-02-14 | 360.62 | 355.84  | 355.94     |\n",
      "| 2025-02-13 | 345.00 | 355.94  | 336.51     |\n",
      "| 2025-02-12 | 329.94 | 336.51  | 328.50     |\n",
      "| 2025-02-11 | 345.80 | 328.50  | 350.73     |\n",
      "| 2025-02-10 | 356.21 | 350.73  | 361.62     |\n",
      "| 2025-02-07 | 370.19 | 361.62  | 374.32     |\n",
      "| 2025-02-06 | 373.03 | 374.32  | 378.17     |\n",
      "| 2025-02-05 | 387.51 | 378.17  | N/A        |\n",
      "\n",
      "This table summarizes the opening, closing, and previous closing prices for each of the last 10 trading days for Tesla (TSLA) stock.\n"
     ]
    }
   ],
   "source": [
    "query = input(\"Ask your financial assistant: \")\n",
    "response = agent.process_query(query)\n",
    "\n",
    "print(response)"
   ]
  },
  {
   "cell_type": "code",
   "execution_count": 8,
   "id": "15072c11-8847-44e5-bd84-ad6e6aa66d5d",
   "metadata": {},
   "outputs": [
    {
     "name": "stdout",
     "output_type": "stream",
     "text": [
      "🔍 Processing Query: Get Tesla's stock price today.\n",
      "🛠️ Debug: {'agent': {'messages': [AIMessage(content='', additional_kwargs={'tool_calls': [{'id': 'call_aXtCOq5s8C9FSBLbpkJpmHbS', 'function': {'arguments': '{\"ticker\":\"TSLA\"}', 'name': 'stock_market'}, 'type': 'function'}], 'refusal': None}, response_metadata={'token_usage': {'completion_tokens': 16, 'prompt_tokens': 459, 'total_tokens': 475, 'completion_tokens_details': {'accepted_prediction_tokens': 0, 'audio_tokens': 0, 'reasoning_tokens': 0, 'rejected_prediction_tokens': 0}, 'prompt_tokens_details': {'audio_tokens': 0, 'cached_tokens': 0}}, 'model_name': 'gpt-4o-mini-2024-07-18', 'system_fingerprint': 'fp_00428b782a', 'finish_reason': 'tool_calls', 'logprobs': None}, id='run-8f7736ce-770a-43af-b901-3094255cbf80-0', tool_calls=[{'name': 'stock_market', 'args': {'ticker': 'TSLA'}, 'id': 'call_aXtCOq5s8C9FSBLbpkJpmHbS', 'type': 'tool_call'}], usage_metadata={'input_tokens': 459, 'output_tokens': 16, 'total_tokens': 475, 'input_token_details': {'audio': 0, 'cache_read': 0}, 'output_token_details': {'audio': 0, 'reasoning': 0}})]}}\n",
      "🛠️ Debug: {'tools': {'messages': [ToolMessage(content='{\"ticker\": \"TSLA\", \"latest_price\": 360.56, \"high\": 367.34, \"low\": 353.74, \"volume\": 66494369, \"timestamp\": \"2025-02-20 13:24:43.296762\"}', name='stock_market', id='1af1b480-e58c-4f53-98a4-2d570a4f9c87', tool_call_id='call_aXtCOq5s8C9FSBLbpkJpmHbS')]}}\n",
      "🛠️ Debug: {'agent': {'messages': [AIMessage(content=\"Tesla's stock price today is $360.56. The day's high was $367.34, and the low was $353.74, with a trading volume of 66,494,369 shares.\", additional_kwargs={'refusal': None}, response_metadata={'token_usage': {'completion_tokens': 44, 'prompt_tokens': 542, 'total_tokens': 586, 'completion_tokens_details': {'accepted_prediction_tokens': 0, 'audio_tokens': 0, 'reasoning_tokens': 0, 'rejected_prediction_tokens': 0}, 'prompt_tokens_details': {'audio_tokens': 0, 'cached_tokens': 0}}, 'model_name': 'gpt-4o-mini-2024-07-18', 'system_fingerprint': 'fp_00428b782a', 'finish_reason': 'stop', 'logprobs': None}, id='run-af867798-7785-4252-9100-9d30d6e4a326-0', usage_metadata={'input_tokens': 542, 'output_tokens': 44, 'total_tokens': 586, 'input_token_details': {'audio': 0, 'cache_read': 0}, 'output_token_details': {'audio': 0, 'reasoning': 0}})]}}\n"
     ]
    },
    {
     "data": {
      "text/plain": [
       "\"\\nTesla's stock price today is $360.56. The day's high was $367.34, and the low was $353.74, with a trading volume of 66,494,369 shares.\""
      ]
     },
     "execution_count": 8,
     "metadata": {},
     "output_type": "execute_result"
    }
   ],
   "source": [
    "# basic stock price \n",
    "query = \"Get Tesla's stock price today.\"\n",
    "agent.process_query(query)"
   ]
  },
  {
   "cell_type": "code",
   "execution_count": 10,
   "id": "306e764a-6df4-421f-8526-0ed0643dc63a",
   "metadata": {},
   "outputs": [
    {
     "name": "stdout",
     "output_type": "stream",
     "text": [
      "🔍 Processing Query: Get Bitcoin price for today. The symbol is BTC/USDT\n",
      "🛠️ Debug: {'agent': {'messages': [AIMessage(content='', additional_kwargs={'tool_calls': [{'id': 'call_jDkfnntCULIABDY2g59Bh7P0', 'function': {'arguments': '{\"symbol\":\"BTC/USDT\"}', 'name': 'crypto_market'}, 'type': 'function'}], 'refusal': None}, response_metadata={'token_usage': {'completion_tokens': 18, 'prompt_tokens': 465, 'total_tokens': 483, 'completion_tokens_details': {'accepted_prediction_tokens': 0, 'audio_tokens': 0, 'reasoning_tokens': 0, 'rejected_prediction_tokens': 0}, 'prompt_tokens_details': {'audio_tokens': 0, 'cached_tokens': 0}}, 'model_name': 'gpt-4o-mini-2024-07-18', 'system_fingerprint': 'fp_00428b782a', 'finish_reason': 'tool_calls', 'logprobs': None}, id='run-523ba804-c1ca-4ddc-92d8-93c5f261859c-0', tool_calls=[{'name': 'crypto_market', 'args': {'symbol': 'BTC/USDT'}, 'id': 'call_jDkfnntCULIABDY2g59Bh7P0', 'type': 'tool_call'}], usage_metadata={'input_tokens': 465, 'output_tokens': 18, 'total_tokens': 483, 'input_token_details': {'audio': 0, 'cache_read': 0}, 'output_token_details': {'audio': 0, 'reasoning': 0}})]}}\n",
      "🛠️ Debug: {'tools': {'messages': [ToolMessage(content='{\"symbol\": \"BTC/USDT\", \"latest_price\": 97369.98, \"high\": 97549.88, \"low\": 95407.41, \"volume\": 1455601278.41, \"timestamp\": \"2025-02-20 13:25:01\"}', name='crypto_market', id='70d77609-d5fc-4702-95dc-5dfcbaffa66a', tool_call_id='call_jDkfnntCULIABDY2g59Bh7P0')]}}\n",
      "🛠️ Debug: {'agent': {'messages': [AIMessage(content='The current price of Bitcoin (BTC) against USDT is **$97,369.98**. \\n\\n- **High:** $97,549.88\\n- **Low:** $95,407.41\\n- **Volume:** 1,455,601,278.41 USDT\\n\\nPlease let me know if you need any further information!', additional_kwargs={'refusal': None}, response_metadata={'token_usage': {'completion_tokens': 74, 'prompt_tokens': 555, 'total_tokens': 629, 'completion_tokens_details': {'accepted_prediction_tokens': 0, 'audio_tokens': 0, 'reasoning_tokens': 0, 'rejected_prediction_tokens': 0}, 'prompt_tokens_details': {'audio_tokens': 0, 'cached_tokens': 0}}, 'model_name': 'gpt-4o-mini-2024-07-18', 'system_fingerprint': 'fp_00428b782a', 'finish_reason': 'stop', 'logprobs': None}, id='run-6b9cdd6e-6ab0-41de-a41a-a05d5a012df4-0', usage_metadata={'input_tokens': 555, 'output_tokens': 74, 'total_tokens': 629, 'input_token_details': {'audio': 0, 'cache_read': 0}, 'output_token_details': {'audio': 0, 'reasoning': 0}})]}}\n"
     ]
    },
    {
     "data": {
      "text/plain": [
       "'\\nThe current price of Bitcoin (BTC) against USDT is **$97,369.98**. \\n\\n- **High:** $97,549.88\\n- **Low:** $95,407.41\\n- **Volume:** 1,455,601,278.41 USDT\\n\\nPlease let me know if you need any further information!'"
      ]
     },
     "execution_count": 10,
     "metadata": {},
     "output_type": "execute_result"
    }
   ],
   "source": [
    "# crypto price retrieval\n",
    "query = \"Get Bitcoin price for today. The symbol is BTC/USDT\"\n",
    "agent.process_query(query)"
   ]
  },
  {
   "cell_type": "code",
   "execution_count": null,
   "id": "6a8a5d42-50e3-424f-848d-3b227cbb3adf",
   "metadata": {},
   "outputs": [],
   "source": [
    "# sentiment analysis fo financial news\n",
    "query = \"Analyze sentiment on Tesla stock based on recent news.\"\n",
    "agent.query(query)"
   ]
  },
  {
   "cell_type": "code",
   "execution_count": null,
   "id": "c33f0322-20c2-4a7d-81ce-3b4aaa335e0a",
   "metadata": {},
   "outputs": [],
   "source": [
    "# trend analysis on stock\n",
    "query = \"Analyze trend of Apple stock using SMA, EMA, and RSI.\"\n",
    "agent.query(query)"
   ]
  },
  {
   "cell_type": "code",
   "execution_count": null,
   "id": "b7eb30aa-eb5a-4d26-a7ba-74206fddc6d6",
   "metadata": {},
   "outputs": [],
   "source": [
    "# multiple tool calls\n",
    "query = \"Get Microsoft's stock price and analyze its sentiment from news.\"\n",
    "result = agent.process_query(query)\n",
    "print(json.dumps(result, indent=4))"
   ]
  },
  {
   "cell_type": "code",
   "execution_count": 7,
   "id": "62e6c429-79ab-486b-90e1-a04af5bc580f",
   "metadata": {},
   "outputs": [
    {
     "name": "stdout",
     "output_type": "stream",
     "text": [
      "{'response': \"\\nTesla's stock price today is $360.56. The day's high was $367.34, and the low was $353.74, with a trading volume of 66,494,369 shares.\"}\n"
     ]
    }
   ],
   "source": [
    "import requests\n",
    "\n",
    "url = \"http://localhost:8000/query\"\n",
    "data = {\"query\": \"What is Tesla's stock price today?\"}\n",
    "response = requests.post(url, json=data)\n",
    "\n",
    "print(response.json())  # Output: {'response': 'Tesla's stock price is $360.56'}"
   ]
  },
  {
   "cell_type": "code",
   "execution_count": null,
   "id": "ca74439a-ddf9-49bd-ac9d-b3fda1c1a7b4",
   "metadata": {},
   "outputs": [],
   "source": []
  },
  {
   "cell_type": "code",
   "execution_count": null,
   "id": "65967bb1-31c3-4fd4-98ba-732c4bfb61a4",
   "metadata": {},
   "outputs": [],
   "source": []
  },
  {
   "cell_type": "code",
   "execution_count": null,
   "id": "fd3d9697-86b0-4b86-b89c-c79139be81a3",
   "metadata": {},
   "outputs": [],
   "source": []
  },
  {
   "cell_type": "code",
   "execution_count": null,
   "id": "fd018706-85c0-4f4a-bab0-fdef7f689c4d",
   "metadata": {},
   "outputs": [],
   "source": [
    "import json\n",
    "from tools.stock_market_tool import StockMarketTool\n",
    "from tools.news_api_tool import NewsAPITool\n",
    "from tools.sentiment_analysis_tool import SentimentAnalysisTool\n",
    "from llm_wrapper import ChatModel  # OpenAI/Ollama Wrapper\n",
    "\n",
    "class FinancialReActAgent:\n",
    "    def __init__(self):\n",
    "        self.chat_model = ChatModel(system_prompt=\"You are a financial assistant using ReAct reasoning.\")\n",
    "        self.history = []  # Stores previous thoughts, actions, observations\n",
    "\n",
    "    def query(self, user_query):\n",
    "        thought_history = []\n",
    "        observations = []\n",
    "\n",
    "        # ReAct Loop: Thought → Action → Observation → Refinement\n",
    "        for _ in range(5):  # Limit to prevent infinite loops\n",
    "            # LLM generates reasoning + JSON tool calls\n",
    "            input_prompt = f\"Previous Observations: {observations}\\n\\nQuestion: {user_query}\\n\\nThought:\"\n",
    "            response = self.chat_model(input_prompt)  \n",
    "            response_json = json.loads(response)\n",
    "\n",
    "            # Extract Thought & Tool Calls\n",
    "            thought = response_json.get(\"thought\", \"\")\n",
    "            tool_calls = response_json.get(\"tool_calls\", [])\n",
    "\n",
    "            # Store Thought History\n",
    "            thought_history.append(thought)\n",
    "\n",
    "            # Execute Tool Calls\n",
    "            new_observations = []\n",
    "            for tool_call in tool_calls:\n",
    "                tool_name = tool_call[\"tool\"]\n",
    "                function_name = tool_call[\"function\"]\n",
    "                parameters = tool_call[\"parameters\"]\n",
    "\n",
    "                result = self.execute_tool(tool_name, function_name, parameters)\n",
    "                new_observations.append(result)\n",
    "\n",
    "            # Update Observations\n",
    "            observations.append({\"thought\": thought, \"results\": new_observations})\n",
    "\n",
    "            # Check for Final Answer\n",
    "            if response_json.get(\"final_answer\"):\n",
    "                return response_json[\"final_answer\"]\n",
    "\n",
    "        return {\"error\": \"Max reasoning steps reached without finding an answer.\"}\n",
    "\n",
    "    def execute_tool(self, tool_name, function_name, parameters):\n",
    "        \"\"\"Executes the correct tool function dynamically.\"\"\"\n",
    "        tools = {\n",
    "            \"StockMarketTool\": StockMarketTool,\n",
    "            \"NewsAPITool\": NewsAPITool,\n",
    "            \"SentimentAnalysisTool\": SentimentAnalysisTool,\n",
    "        }\n",
    "\n",
    "        if tool_name in tools:\n",
    "            tool_class = tools[tool_name]()\n",
    "            if hasattr(tool_class, function_name):\n",
    "                return getattr(tool_class, function_name)(**parameters)\n",
    "\n",
    "        return {\"error\": f\"Unknown tool: {tool_name}.{function_name}\"}\n"
   ]
  },
  {
   "cell_type": "code",
   "execution_count": null,
   "id": "fc637ec3-5a96-4afe-85cc-0cc060633e3d",
   "metadata": {},
   "outputs": [],
   "source": []
  },
  {
   "cell_type": "code",
   "execution_count": null,
   "id": "6cc8c84c-bb08-44ef-bf6a-90392c57ad26",
   "metadata": {},
   "outputs": [],
   "source": []
  },
  {
   "cell_type": "code",
   "execution_count": null,
   "id": "2b28591d-9259-4785-b7f0-fc96ce18ccb6",
   "metadata": {},
   "outputs": [],
   "source": []
  },
  {
   "cell_type": "code",
   "execution_count": null,
   "id": "17acae60-178f-48d7-98fe-8f7bc8fd05fa",
   "metadata": {},
   "outputs": [],
   "source": []
  },
  {
   "cell_type": "code",
   "execution_count": null,
   "id": "18256e35-d007-4a76-9e67-de6dab9639aa",
   "metadata": {},
   "outputs": [],
   "source": []
  },
  {
   "cell_type": "code",
   "execution_count": null,
   "id": "bca227d3-4d10-4155-bf09-7fd3a7e86e65",
   "metadata": {},
   "outputs": [],
   "source": []
  }
 ],
 "metadata": {
  "kernelspec": {
   "display_name": "Python 3 (ipykernel)",
   "language": "python",
   "name": "python3"
  },
  "language_info": {
   "codemirror_mode": {
    "name": "ipython",
    "version": 3
   },
   "file_extension": ".py",
   "mimetype": "text/x-python",
   "name": "python",
   "nbconvert_exporter": "python",
   "pygments_lexer": "ipython3",
   "version": "3.13.2"
  }
 },
 "nbformat": 4,
 "nbformat_minor": 5
}
