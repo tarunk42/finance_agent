{
 "cells": [
  {
   "cell_type": "code",
   "execution_count": null,
   "id": "95047a52-76c4-4c66-b279-cb7bd882f8e3",
   "metadata": {},
   "outputs": [],
   "source": [
    "import pandas as pd\n",
    "import yfinance as yf\n",
    "import requests\n",
    "import torch\n",
    "print(\"Setup successful!\")"
   ]
  },
  {
   "cell_type": "markdown",
   "id": "8cd4a088-074a-406f-8d7d-f6d678a2967b",
   "metadata": {},
   "source": [
    "## setup project environemnt"
   ]
  },
  {
   "cell_type": "code",
   "execution_count": 1,
   "id": "eecda3df-3c6b-441c-9ce3-9164066908bc",
   "metadata": {},
   "outputs": [
    {
     "name": "stdout",
     "output_type": "stream",
     "text": [
      "Updated sys.path: ['/opt/homebrew/Cellar/python@3.13/3.13.2/Frameworks/Python.framework/Versions/3.13/lib/python313.zip', '/opt/homebrew/Cellar/python@3.13/3.13.2/Frameworks/Python.framework/Versions/3.13/lib/python3.13', '/opt/homebrew/Cellar/python@3.13/3.13.2/Frameworks/Python.framework/Versions/3.13/lib/python3.13/lib-dynload', '', '/Users/tarunkashyap/Desktop/super_agent/agenv/lib/python3.13/site-packages', '/Users/tarunkashyap/Desktop/super_agent/finance_agents']\n"
     ]
    }
   ],
   "source": [
    "import os\n",
    "import sys\n",
    "\n",
    "# Move up two levels to reach 'finance_agent' root\n",
    "project_root = os.path.abspath(os.path.join(os.getcwd(), \"..\"))  # Go up one level\n",
    "if project_root not in sys.path:\n",
    "    sys.path.append(project_root)\n",
    "\n",
    "# Verify the path added\n",
    "print(\"Updated sys.path:\", sys.path)"
   ]
  },
  {
   "cell_type": "markdown",
   "id": "c8aa977f-1f21-445e-819d-fcc173d5f9e6",
   "metadata": {},
   "source": [
    "### test stock tools"
   ]
  },
  {
   "cell_type": "code",
   "execution_count": null,
   "id": "2ea1c4d6-f029-4151-afc1-cf53a416bc1b",
   "metadata": {},
   "outputs": [],
   "source": [
    "from tools.stock_market_tool import StockMarketTool"
   ]
  },
  {
   "cell_type": "code",
   "execution_count": 2,
   "id": "8cecdd7d-2d49-4147-847c-11db8b5ec4c2",
   "metadata": {},
   "outputs": [
    {
     "name": "stdout",
     "output_type": "stream",
     "text": [
      "Live Stock Data: {'ticker': 'AAPL', 'latest_price': 244.47, 'high': 245.18, 'low': 241.84, 'volume': 48158313, 'timestamp': '2025-02-19 13:23:41.282095'}\n",
      "{'ticker': 'AAPL', 'historical_data': [{'date': '2025-02-18', 'open': 244.15, 'high': 245.18, 'low': 241.84, 'close': 244.47, 'volume': 48822491}, {'date': '2025-02-14', 'open': 241.25, 'high': 245.55, 'low': 240.99, 'close': 244.6, 'volume': 40896227}, {'date': '2025-02-13', 'open': 236.91, 'high': 242.34, 'low': 235.57, 'close': 241.53, 'volume': 53614100}, {'date': '2025-02-12', 'open': 231.2, 'high': 236.96, 'low': 230.68, 'close': 236.87, 'volume': 45243300}, {'date': '2025-02-11', 'open': 228.2, 'high': 235.23, 'low': 228.13, 'close': 232.62, 'volume': 53718400}, {'date': '2025-02-10', 'open': 229.57, 'high': 230.59, 'low': 227.2, 'close': 227.65, 'volume': 33115645}, {'date': '2025-02-07', 'open': 232.6, 'high': 234, 'low': 227.26, 'close': 227.63, 'volume': 39707224}, {'date': '2025-02-06', 'open': 231.29, 'high': 233.8, 'low': 230.43, 'close': 233.22, 'volume': 29925349}, {'date': '2025-02-05', 'open': 228.53, 'high': 232.67, 'low': 228.27, 'close': 232.47, 'volume': 39664989}, {'date': '2025-02-04', 'open': 227.25, 'high': 233.13, 'low': 226.65, 'close': 232.8, 'volume': 45067301}, {'date': '2025-02-03', 'open': 229.99, 'high': 231.83, 'low': 225.7, 'close': 228.01, 'volume': 73063301}, {'date': '2025-01-31', 'open': 247.19, 'high': 247.19, 'low': 233.44, 'close': 236, 'volume': 101075128}, {'date': '2025-01-30', 'open': 238.67, 'high': 240.79, 'low': 237.21, 'close': 237.59, 'volume': 55658300}, {'date': '2025-01-29', 'open': 234.12, 'high': 239.86, 'low': 234.01, 'close': 239.36, 'volume': 45486100}, {'date': '2025-01-28', 'open': 230.85, 'high': 240.19, 'low': 230.81, 'close': 238.26, 'volume': 75707600}]}\n"
     ]
    }
   ],
   "source": [
    "from tools.stock_market_tool import StockMarketTool\n",
    "\n",
    "# Test real-time stock retrieval\n",
    "stock_data = StockMarketTool.get_stock_price(\"AAPL\")\n",
    "print(\"Live Stock Data:\", stock_data)\n",
    "\n",
    "# # Test historical stock retrieval\n",
    "historical_data = StockMarketTool.get_historical_stock(\"AAPL\", days=15)\n",
    "print(historical_data)"
   ]
  },
  {
   "cell_type": "markdown",
   "id": "cd443c1f-bfb6-402d-9b9b-269c20d7965e",
   "metadata": {},
   "source": [
    "### test crypto tools"
   ]
  },
  {
   "cell_type": "code",
   "execution_count": null,
   "id": "404d99da-9821-447c-84e0-7bdb97b4f93b",
   "metadata": {},
   "outputs": [],
   "source": [
    "from tools.crypto_market_tool import CryptoMarketTool\n",
    "\n",
    "# Initialize tool\n",
    "crypto_tool = CryptoMarketTool()\n",
    "\n",
    "# Test real-time crypto retrieval\n",
    "crypto_data = crypto_tool.get_crypto_price(\"BTC/USDT\")\n",
    "print(\"Live Crypto Data:\", crypto_data)\n",
    "\n",
    "# Test historical crypto retrieval\n",
    "historical_crypto = crypto_tool.get_historical_crypto(\"BTC/USDT\", days=15)\n",
    "print(\"Historical Crypto Data:\", historical_crypto[:5])  # Print first 5 records for readability"
   ]
  },
  {
   "cell_type": "markdown",
   "id": "1e60c47f-f224-499a-9c30-e17f1ea80e0d",
   "metadata": {},
   "source": [
    "### test news tools"
   ]
  },
  {
   "cell_type": "code",
   "execution_count": null,
   "id": "78f6711d-bdde-4224-a9c8-0175b80655a5",
   "metadata": {},
   "outputs": [],
   "source": [
    "from tools.news_api_tool import NewsAPITool\n",
    "\n",
    "# Test general stock market news\n",
    "stock_news = NewsAPITool.fetch_news(query=\"stock market\", max_results=3)\n",
    "print(\"Stock Market News:\", stock_news)\n",
    "\n",
    "# Test fetching Tesla-related news\n",
    "tesla_news = NewsAPITool.fetch_stock_news(\"TSLA\", max_results=3)\n",
    "print(\"Tesla News:\", tesla_news)\n",
    "\n",
    "# Test fetching Bitcoin-related news\n",
    "crypto_news = NewsAPITool.fetch_crypto_news(\"Bitcoin\", max_results=3)\n",
    "print(\"Bitcoin News:\", crypto_news)"
   ]
  },
  {
   "cell_type": "code",
   "execution_count": null,
   "id": "40bf12fa-43d1-4d5a-bab2-71c3a42d72ea",
   "metadata": {},
   "outputs": [],
   "source": [
    "NewsAPITool.fetch_news(query=\"hamas\", max_results=2)"
   ]
  },
  {
   "cell_type": "markdown",
   "id": "150167ba-b7a2-4954-9677-1d810fa5506d",
   "metadata": {},
   "source": [
    "### test sentiment analysis tool"
   ]
  },
  {
   "cell_type": "code",
   "execution_count": null,
   "id": "4bd63197-da2d-432f-8ea8-9b6630f49f31",
   "metadata": {},
   "outputs": [],
   "source": [
    "from tools.sentiment_analysis_tool import SentimentAnalysisTool\n",
    "\n",
    "# Initialize tool\n",
    "sentiment_tool = SentimentAnalysisTool()\n",
    "\n",
    "# Test sentiment on a financial news headline\n",
    "news_sentiment = sentiment_tool.analyze_sentiment(\"Tesla stock surges after record-breaking Q1 earnings.\")\n",
    "print(\"News Sentiment:\", news_sentiment)\n",
    "\n",
    "# Test sentiment on a crypto-related tweet\n",
    "tweet_sentiment = sentiment_tool.analyze_sentiment(\"Bitcoin is crashing! Sell everything now!\")\n",
    "print(\"Tweet Sentiment:\", tweet_sentiment)"
   ]
  },
  {
   "cell_type": "markdown",
   "id": "4a31028f-47c1-45df-9279-7e2e4a15b7fd",
   "metadata": {},
   "source": [
    "### trend_analysis_tools"
   ]
  },
  {
   "cell_type": "code",
   "execution_count": null,
   "id": "80010e63-c832-449c-b6a8-d33e88e42c33",
   "metadata": {},
   "outputs": [],
   "source": [
    "import pandas as pd\n",
    "import matplotlib.pyplot as plt\n",
    "from tools.trend_analysis_tool import TrendAnalysisTool\n",
    "from tools.stock_market_tool import StockMarketTool\n",
    "\n",
    "# Fetch real stock data (e.g., AAPL for past 90 days)\n",
    "historical_data = StockMarketTool.get_historical_stock(\"MSFT\", days=90)\n",
    "\n",
    "# Convert to DataFrame\n",
    "if isinstance(historical_data, list) and len(historical_data) > 0:\n",
    "    df = pd.DataFrame(historical_data)\n",
    "\n",
    "    # Compute Trend Indicators\n",
    "    df[\"SMA_20\"] = TrendAnalysisTool.calculate_sma(df, period=20)\n",
    "    df[\"EMA_20\"] = TrendAnalysisTool.calculate_ema(df, period=20)\n",
    "    df[\"RSI_14\"] = TrendAnalysisTool.calculate_rsi(df, period=14)\n",
    "    df[\"MACD\"], df[\"Signal\"] = TrendAnalysisTool.calculate_macd(df)\n",
    "\n",
    "    # Plotting the data\n",
    "    plt.figure(figsize=(12, 6))\n",
    "\n",
    "    # Plot price and moving averages\n",
    "    plt.subplot(3, 1, 1)\n",
    "    plt.plot(df[\"Close\"], label=\"Close Price\", color=\"blue\")\n",
    "    plt.plot(df[\"SMA_20\"], label=\"SMA 20\", linestyle=\"dashed\", color=\"red\")\n",
    "    plt.plot(df[\"EMA_20\"], label=\"EMA 20\", linestyle=\"dashed\", color=\"green\")\n",
    "    plt.title(\"Stock Price & Moving Averages\")\n",
    "    plt.legend()\n",
    "\n",
    "    # Plot RSI\n",
    "    plt.subplot(3, 1, 2)\n",
    "    plt.plot(df[\"RSI_14\"], label=\"RSI 14\", color=\"purple\")\n",
    "    plt.axhline(70, linestyle=\"dashed\", color=\"red\")\n",
    "    plt.axhline(30, linestyle=\"dashed\", color=\"green\")\n",
    "    plt.title(\"Relative Strength Index (RSI)\")\n",
    "    plt.legend()\n",
    "\n",
    "    # Plot MACD\n",
    "    plt.subplot(3, 1, 3)\n",
    "    plt.plot(df[\"MACD\"], label=\"MACD\", color=\"blue\")\n",
    "    plt.plot(df[\"Signal\"], label=\"Signal Line\", linestyle=\"dashed\", color=\"red\")\n",
    "    plt.axhline(0, linestyle=\"dashed\", color=\"black\")\n",
    "    plt.title(\"MACD & Signal Line\")\n",
    "    plt.legend()\n",
    "\n",
    "    plt.tight_layout()\n",
    "    plt.show()\n",
    "\n",
    "else:\n",
    "    print(\"Error: No valid historical data retrieved.\")\n"
   ]
  },
  {
   "cell_type": "markdown",
   "id": "2d8b22c3-54d5-46d5-bee2-947b473e9aba",
   "metadata": {},
   "source": [
    "### test data retrieval agent"
   ]
  },
  {
   "cell_type": "code",
   "execution_count": null,
   "id": "0b54fe37-4131-41d9-88e6-0d648ef4fb0f",
   "metadata": {},
   "outputs": [],
   "source": [
    "from agents.data_retrieval_agent import DataRetrievalAgent\n",
    "import json\n",
    "agent = DataRetrievalAgent()"
   ]
  },
  {
   "cell_type": "code",
   "execution_count": null,
   "id": "15072c11-8847-44e5-bd84-ad6e6aa66d5d",
   "metadata": {},
   "outputs": [],
   "source": [
    "# basic stock price \n",
    "query = \"Get Tesla's stock price today.\"\n",
    "agent.query(query)\n",
    "# print(json.dumps(result, indent=4))"
   ]
  },
  {
   "cell_type": "code",
   "execution_count": null,
   "id": "306e764a-6df4-421f-8526-0ed0643dc63a",
   "metadata": {},
   "outputs": [],
   "source": [
    "# crypto price retrieval\n",
    "query = \"Get Bitcoin price for today. The symbol is BTC/USDT\"\n",
    "agent.query(query)\n",
    "# print(json.dumps(result, indent=4))"
   ]
  },
  {
   "cell_type": "code",
   "execution_count": null,
   "id": "6a8a5d42-50e3-424f-848d-3b227cbb3adf",
   "metadata": {},
   "outputs": [],
   "source": [
    "# sentiment analysis fo financial news\n",
    "query = \"Analyze sentiment on Tesla stock based on recent news.\"\n",
    "agent.query(query)"
   ]
  },
  {
   "cell_type": "code",
   "execution_count": null,
   "id": "c33f0322-20c2-4a7d-81ce-3b4aaa335e0a",
   "metadata": {},
   "outputs": [],
   "source": [
    "# trend analysis on stock\n",
    "query = \"Analyze trend of Apple stock using SMA, EMA, and RSI.\"\n",
    "agent.query(query)"
   ]
  },
  {
   "cell_type": "code",
   "execution_count": null,
   "id": "b7eb30aa-eb5a-4d26-a7ba-74206fddc6d6",
   "metadata": {},
   "outputs": [],
   "source": [
    "# multiple tool calls\n",
    "query = \"Get Microsoft's stock price and analyze its sentiment from news.\"\n",
    "result = agent.process_query(query)\n",
    "print(json.dumps(result, indent=4))"
   ]
  },
  {
   "cell_type": "code",
   "execution_count": null,
   "id": "62e6c429-79ab-486b-90e1-a04af5bc580f",
   "metadata": {},
   "outputs": [],
   "source": []
  },
  {
   "cell_type": "code",
   "execution_count": null,
   "id": "ca74439a-ddf9-49bd-ac9d-b3fda1c1a7b4",
   "metadata": {},
   "outputs": [],
   "source": []
  },
  {
   "cell_type": "code",
   "execution_count": null,
   "id": "65967bb1-31c3-4fd4-98ba-732c4bfb61a4",
   "metadata": {},
   "outputs": [],
   "source": []
  },
  {
   "cell_type": "code",
   "execution_count": null,
   "id": "fd3d9697-86b0-4b86-b89c-c79139be81a3",
   "metadata": {},
   "outputs": [],
   "source": []
  },
  {
   "cell_type": "code",
   "execution_count": null,
   "id": "fd018706-85c0-4f4a-bab0-fdef7f689c4d",
   "metadata": {},
   "outputs": [],
   "source": [
    "import json\n",
    "from tools.stock_market_tool import StockMarketTool\n",
    "from tools.news_api_tool import NewsAPITool\n",
    "from tools.sentiment_analysis_tool import SentimentAnalysisTool\n",
    "from llm_wrapper import ChatModel  # OpenAI/Ollama Wrapper\n",
    "\n",
    "class FinancialReActAgent:\n",
    "    def __init__(self):\n",
    "        self.chat_model = ChatModel(system_prompt=\"You are a financial assistant using ReAct reasoning.\")\n",
    "        self.history = []  # Stores previous thoughts, actions, observations\n",
    "\n",
    "    def query(self, user_query):\n",
    "        thought_history = []\n",
    "        observations = []\n",
    "\n",
    "        # ReAct Loop: Thought → Action → Observation → Refinement\n",
    "        for _ in range(5):  # Limit to prevent infinite loops\n",
    "            # LLM generates reasoning + JSON tool calls\n",
    "            input_prompt = f\"Previous Observations: {observations}\\n\\nQuestion: {user_query}\\n\\nThought:\"\n",
    "            response = self.chat_model(input_prompt)  \n",
    "            response_json = json.loads(response)\n",
    "\n",
    "            # Extract Thought & Tool Calls\n",
    "            thought = response_json.get(\"thought\", \"\")\n",
    "            tool_calls = response_json.get(\"tool_calls\", [])\n",
    "\n",
    "            # Store Thought History\n",
    "            thought_history.append(thought)\n",
    "\n",
    "            # Execute Tool Calls\n",
    "            new_observations = []\n",
    "            for tool_call in tool_calls:\n",
    "                tool_name = tool_call[\"tool\"]\n",
    "                function_name = tool_call[\"function\"]\n",
    "                parameters = tool_call[\"parameters\"]\n",
    "\n",
    "                result = self.execute_tool(tool_name, function_name, parameters)\n",
    "                new_observations.append(result)\n",
    "\n",
    "            # Update Observations\n",
    "            observations.append({\"thought\": thought, \"results\": new_observations})\n",
    "\n",
    "            # Check for Final Answer\n",
    "            if response_json.get(\"final_answer\"):\n",
    "                return response_json[\"final_answer\"]\n",
    "\n",
    "        return {\"error\": \"Max reasoning steps reached without finding an answer.\"}\n",
    "\n",
    "    def execute_tool(self, tool_name, function_name, parameters):\n",
    "        \"\"\"Executes the correct tool function dynamically.\"\"\"\n",
    "        tools = {\n",
    "            \"StockMarketTool\": StockMarketTool,\n",
    "            \"NewsAPITool\": NewsAPITool,\n",
    "            \"SentimentAnalysisTool\": SentimentAnalysisTool,\n",
    "        }\n",
    "\n",
    "        if tool_name in tools:\n",
    "            tool_class = tools[tool_name]()\n",
    "            if hasattr(tool_class, function_name):\n",
    "                return getattr(tool_class, function_name)(**parameters)\n",
    "\n",
    "        return {\"error\": f\"Unknown tool: {tool_name}.{function_name}\"}\n"
   ]
  },
  {
   "cell_type": "code",
   "execution_count": null,
   "id": "fc637ec3-5a96-4afe-85cc-0cc060633e3d",
   "metadata": {},
   "outputs": [],
   "source": []
  },
  {
   "cell_type": "code",
   "execution_count": null,
   "id": "6cc8c84c-bb08-44ef-bf6a-90392c57ad26",
   "metadata": {},
   "outputs": [],
   "source": []
  },
  {
   "cell_type": "code",
   "execution_count": null,
   "id": "2b28591d-9259-4785-b7f0-fc96ce18ccb6",
   "metadata": {},
   "outputs": [],
   "source": []
  },
  {
   "cell_type": "code",
   "execution_count": null,
   "id": "17acae60-178f-48d7-98fe-8f7bc8fd05fa",
   "metadata": {},
   "outputs": [],
   "source": []
  },
  {
   "cell_type": "code",
   "execution_count": null,
   "id": "18256e35-d007-4a76-9e67-de6dab9639aa",
   "metadata": {},
   "outputs": [],
   "source": []
  }
 ],
 "metadata": {
  "kernelspec": {
   "display_name": "Python 3 (ipykernel)",
   "language": "python",
   "name": "python3"
  },
  "language_info": {
   "codemirror_mode": {
    "name": "ipython",
    "version": 3
   },
   "file_extension": ".py",
   "mimetype": "text/x-python",
   "name": "python",
   "nbconvert_exporter": "python",
   "pygments_lexer": "ipython3",
   "version": "3.13.2"
  }
 },
 "nbformat": 4,
 "nbformat_minor": 5
}
