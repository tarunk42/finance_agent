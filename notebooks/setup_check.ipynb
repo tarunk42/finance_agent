{
 "cells": [
  {
   "cell_type": "code",
   "execution_count": 1,
   "id": "95047a52-76c4-4c66-b279-cb7bd882f8e3",
   "metadata": {},
   "outputs": [
    {
     "name": "stdout",
     "output_type": "stream",
     "text": [
      "Setup successful!\n"
     ]
    }
   ],
   "source": [
    "import pandas as pd\n",
    "import yfinance as yf\n",
    "import requests\n",
    "import torch\n",
    "print(\"Setup successful!\")"
   ]
  },
  {
   "cell_type": "markdown",
   "id": "8cd4a088-074a-406f-8d7d-f6d678a2967b",
   "metadata": {},
   "source": [
    "## setup project environemnt"
   ]
  },
  {
   "cell_type": "code",
   "execution_count": 2,
   "id": "eecda3df-3c6b-441c-9ce3-9164066908bc",
   "metadata": {},
   "outputs": [
    {
     "name": "stdout",
     "output_type": "stream",
     "text": [
      "Updated sys.path: ['/opt/homebrew/Cellar/python@3.13/3.13.2/Frameworks/Python.framework/Versions/3.13/lib/python313.zip', '/opt/homebrew/Cellar/python@3.13/3.13.2/Frameworks/Python.framework/Versions/3.13/lib/python3.13', '/opt/homebrew/Cellar/python@3.13/3.13.2/Frameworks/Python.framework/Versions/3.13/lib/python3.13/lib-dynload', '', '/Users/tarunkashyap/Desktop/super_agent/agenv/lib/python3.13/site-packages', '/Users/tarunkashyap/Desktop/super_agent/finance_agents']\n"
     ]
    }
   ],
   "source": [
    "import os\n",
    "import sys\n",
    "\n",
    "# Move up two levels to reach 'finance_agent' root\n",
    "project_root = os.path.abspath(os.path.join(os.getcwd(), \"..\"))  # Go up one level\n",
    "if project_root not in sys.path:\n",
    "    sys.path.append(project_root)\n",
    "\n",
    "# Verify the path added\n",
    "print(\"Updated sys.path:\", sys.path)"
   ]
  },
  {
   "cell_type": "markdown",
   "id": "c8aa977f-1f21-445e-819d-fcc173d5f9e6",
   "metadata": {},
   "source": [
    "### test stock tools"
   ]
  },
  {
   "cell_type": "code",
   "execution_count": null,
   "id": "8cecdd7d-2d49-4147-847c-11db8b5ec4c2",
   "metadata": {},
   "outputs": [],
   "source": [
    "# from tools.stock_market_tool import StockMarketTool\n",
    "\n",
    "# # Test real-time stock retrieval\n",
    "# stock_data = StockMarketTool.get_stock_price(\"AAPL\")\n",
    "# print(\"Live Stock Data:\", stock_data)\n",
    "\n",
    "# # # Test historical stock retrieval\n",
    "# historical_data = StockMarketTool.get_historical_stock(\"AAPL\", days=15)\n",
    "# print(historical_data)"
   ]
  },
  {
   "cell_type": "code",
   "execution_count": null,
   "id": "fe783bed-4ac2-439c-aca8-b5e00f161416",
   "metadata": {},
   "outputs": [],
   "source": [
    "from tools.stock_market_tool import StockMarketTool, HistoricalStockMarketTool\n",
    "\n",
    "\n",
    "# Initialize the tools (API key is fetched from config)\n",
    "stock_tool = StockMarketTool()\n",
    "historical_stock_tool = HistoricalStockMarketTool()"
   ]
  },
  {
   "cell_type": "code",
   "execution_count": null,
   "id": "1b13a000-8035-4ea3-af30-0dd28c9926b1",
   "metadata": {},
   "outputs": [],
   "source": [
    "# Test fetching real-time stock price\n",
    "ticker = \"AAPL\"\n",
    "print(\"Fetching real-time stock price for:\", ticker)\n",
    "stock_price_result = stock_tool._run(ticker)\n",
    "print(stock_price_result)\n",
    "\n",
    "# Test fetching historical stock data\n",
    "days = 30\n",
    "print(f\"\\nFetching {days} days of historical data for:\", ticker)\n",
    "historical_data_result = historical_stock_tool._run(ticker, days)\n",
    "print(historical_data_result)"
   ]
  },
  {
   "cell_type": "markdown",
   "id": "cd443c1f-bfb6-402d-9b9b-269c20d7965e",
   "metadata": {},
   "source": [
    "### test crypto tools"
   ]
  },
  {
   "cell_type": "code",
   "execution_count": null,
   "id": "40f9106a-4766-4883-8784-7794f27cc999",
   "metadata": {},
   "outputs": [],
   "source": [
    "from tools.crypto_market_tool import CryptoMarketTool, HistoricalCryptoMarketTool"
   ]
  },
  {
   "cell_type": "code",
   "execution_count": null,
   "id": "fe27467e-7d9b-4287-9c5d-b1f6de160b09",
   "metadata": {},
   "outputs": [],
   "source": [
    "crypto_tool = CryptoMarketTool()\n",
    "\n",
    "# Test real-time crypto retrieval\n",
    "crypto_data = crypto_tool._run(\"BTC/USDT\")\n",
    "print(\"Live Crypto Data:\", crypto_data)\n",
    "\n",
    "# Test historical crypto retrieval\n",
    "historical_crypto_tool = HistoricalCryptoMarketTool()\n",
    "historical_crypto_data = historical_crypto_tool._run(\"BTC/USDT\", 30)\n",
    "print(\"Historical Crypto Data:\", historical_crypto_data)"
   ]
  },
  {
   "cell_type": "code",
   "execution_count": null,
   "id": "404d99da-9821-447c-84e0-7bdb97b4f93b",
   "metadata": {},
   "outputs": [],
   "source": [
    "# from tools.crypto_market_tool import CryptoMarketTool\n",
    "\n",
    "# # Initialize tool\n",
    "# crypto_tool = CryptoMarketTool()\n",
    "\n",
    "# # Test real-time crypto retrieval\n",
    "# crypto_data = crypto_tool.get_crypto_price(\"BTC/USDT\")\n",
    "# print(\"Live Crypto Data:\", crypto_data)\n",
    "\n",
    "# # Test historical crypto retrieval\n",
    "# historical_crypto = crypto_tool.get_historical_crypto(\"BTC/USDT\", days=15)\n",
    "# print(\"Historical Crypto Data:\", historical_crypto[:5])  # Print first 5 records for readability"
   ]
  },
  {
   "cell_type": "markdown",
   "id": "1e60c47f-f224-499a-9c30-e17f1ea80e0d",
   "metadata": {},
   "source": [
    "### test news tools"
   ]
  },
  {
   "cell_type": "code",
   "execution_count": null,
   "id": "ad23a14a-6655-433d-8d87-58fadbb00c66",
   "metadata": {},
   "outputs": [],
   "source": [
    "from tools.news_api_tool import NewsAPITool"
   ]
  },
  {
   "cell_type": "code",
   "execution_count": null,
   "id": "c65123a8-eb48-4534-bd80-05bce9741660",
   "metadata": {},
   "outputs": [],
   "source": [
    "news_tool = NewsAPITool()\n",
    "general_news = news_tool._run(query=\"BTC\", max_results=5)\n",
    "print(general_news)"
   ]
  },
  {
   "cell_type": "code",
   "execution_count": null,
   "id": "78f6711d-bdde-4224-a9c8-0175b80655a5",
   "metadata": {},
   "outputs": [],
   "source": [
    "# from tools.news_api_tool import NewsAPITool\n",
    "\n",
    "# # Test general stock market news\n",
    "# stock_news = NewsAPITool.fetch_news(query=\"stock market\", max_results=3)\n",
    "# print(\"Stock Market News:\", stock_news)\n",
    "\n",
    "# # Test fetching Tesla-related news\n",
    "# tesla_news = NewsAPITool.fetch_stock_news(\"TSLA\", max_results=3)\n",
    "# print(\"Tesla News:\", tesla_news)\n",
    "\n",
    "# # Test fetching Bitcoin-related news\n",
    "# crypto_news = NewsAPITool.fetch_crypto_news(\"Bitcoin\", max_results=3)\n",
    "# print(\"Bitcoin News:\", crypto_news)"
   ]
  },
  {
   "cell_type": "code",
   "execution_count": null,
   "id": "40bf12fa-43d1-4d5a-bab2-71c3a42d72ea",
   "metadata": {},
   "outputs": [],
   "source": [
    "NewsAPITool.fetch_news(query=\"hamas\", max_results=2)"
   ]
  },
  {
   "cell_type": "markdown",
   "id": "150167ba-b7a2-4954-9677-1d810fa5506d",
   "metadata": {},
   "source": [
    "### test sentiment analysis tool"
   ]
  },
  {
   "cell_type": "code",
   "execution_count": null,
   "id": "6b178c1a-f1c4-43b1-a1e1-7123e108b07a",
   "metadata": {},
   "outputs": [],
   "source": [
    "from tools.sentiment_analysis_tool import SentimentAnalysisTool\n",
    "# Initialize the tool\n",
    "sentiment_tool = SentimentAnalysisTool()\n",
    "\n",
    "# Test sentiment analysis on financial news headlines\n",
    "test_texts = [\n",
    "    \"Tesla stock surges after strong quarterly earnings report.\",\n",
    "    \"Bitcoin crashes amid market uncertainty.\",\n",
    "    \"Apple's revenue remains stable despite economic slowdown.\",\n",
    "    \"Trump vows to take military action against Iran.\",\n",
    "]\n",
    "\n",
    "print(\"\\nTesting synchronous sentiment analysis...\")\n",
    "for text in test_texts:\n",
    "    sentiment_result = sentiment_tool._run(text)\n",
    "    print(sentiment_result)"
   ]
  },
  {
   "cell_type": "code",
   "execution_count": null,
   "id": "4bd63197-da2d-432f-8ea8-9b6630f49f31",
   "metadata": {},
   "outputs": [],
   "source": [
    "# from tools.sentiment_analysis_tool import SentimentAnalysisTool\n",
    "\n",
    "# # Initialize tool\n",
    "# sentiment_tool = SentimentAnalysisTool()\n",
    "\n",
    "# # Test sentiment on a financial news headline\n",
    "# news_sentiment = sentiment_tool.analyze_sentiment(\"Tesla stock surges after record-breaking Q1 earnings.\")\n",
    "# print(\"News Sentiment:\", news_sentiment)\n",
    "\n",
    "# # Test sentiment on a crypto-related tweet\n",
    "# tweet_sentiment = sentiment_tool.analyze_sentiment(\"Bitcoin is crashing! Sell everything now!\")\n",
    "# print(\"Tweet Sentiment:\", tweet_sentiment)"
   ]
  },
  {
   "cell_type": "markdown",
   "id": "4a31028f-47c1-45df-9279-7e2e4a15b7fd",
   "metadata": {},
   "source": [
    "### trend_analysis_tools"
   ]
  },
  {
   "cell_type": "code",
   "execution_count": null,
   "id": "80010e63-c832-449c-b6a8-d33e88e42c33",
   "metadata": {},
   "outputs": [],
   "source": [
    "# import pandas as pd\n",
    "# import matplotlib.pyplot as plt\n",
    "# from tools.trend_analysis_tool import TrendAnalysisTool\n",
    "# from tools.stock_market_tool import StockMarketTool\n",
    "\n",
    "# # Fetch real stock data (e.g., AAPL for past 90 days)\n",
    "# historical_data = StockMarketTool.get_historical_stock(\"MSFT\", days=90)\n",
    "\n",
    "# # Convert to DataFrame\n",
    "# if isinstance(historical_data, list) and len(historical_data) > 0:\n",
    "#     df = pd.DataFrame(historical_data)\n",
    "\n",
    "#     # Compute Trend Indicators\n",
    "#     df[\"SMA_20\"] = TrendAnalysisTool.calculate_sma(df, period=20)\n",
    "#     df[\"EMA_20\"] = TrendAnalysisTool.calculate_ema(df, period=20)\n",
    "#     df[\"RSI_14\"] = TrendAnalysisTool.calculate_rsi(df, period=14)\n",
    "#     df[\"MACD\"], df[\"Signal\"] = TrendAnalysisTool.calculate_macd(df)\n",
    "\n",
    "#     # Plotting the data\n",
    "#     plt.figure(figsize=(12, 6))\n",
    "\n",
    "#     # Plot price and moving averages\n",
    "#     plt.subplot(3, 1, 1)\n",
    "#     plt.plot(df[\"Close\"], label=\"Close Price\", color=\"blue\")\n",
    "#     plt.plot(df[\"SMA_20\"], label=\"SMA 20\", linestyle=\"dashed\", color=\"red\")\n",
    "#     plt.plot(df[\"EMA_20\"], label=\"EMA 20\", linestyle=\"dashed\", color=\"green\")\n",
    "#     plt.title(\"Stock Price & Moving Averages\")\n",
    "#     plt.legend()\n",
    "\n",
    "#     # Plot RSI\n",
    "#     plt.subplot(3, 1, 2)\n",
    "#     plt.plot(df[\"RSI_14\"], label=\"RSI 14\", color=\"purple\")\n",
    "#     plt.axhline(70, linestyle=\"dashed\", color=\"red\")\n",
    "#     plt.axhline(30, linestyle=\"dashed\", color=\"green\")\n",
    "#     plt.title(\"Relative Strength Index (RSI)\")\n",
    "#     plt.legend()\n",
    "\n",
    "#     # Plot MACD\n",
    "#     plt.subplot(3, 1, 3)\n",
    "#     plt.plot(df[\"MACD\"], label=\"MACD\", color=\"blue\")\n",
    "#     plt.plot(df[\"Signal\"], label=\"Signal Line\", linestyle=\"dashed\", color=\"red\")\n",
    "#     plt.axhline(0, linestyle=\"dashed\", color=\"black\")\n",
    "#     plt.title(\"MACD & Signal Line\")\n",
    "#     plt.legend()\n",
    "\n",
    "#     plt.tight_layout()\n",
    "#     plt.show()\n",
    "\n",
    "# else:\n",
    "#     print(\"Error: No valid historical data retrieved.\")\n"
   ]
  },
  {
   "cell_type": "code",
   "execution_count": null,
   "id": "798ca771-9a54-4058-95db-c31d15a11d79",
   "metadata": {},
   "outputs": [],
   "source": [
    "from tools.trend_analysis_tool import TrendAnalysisTool"
   ]
  },
  {
   "cell_type": "code",
   "execution_count": null,
   "id": "06c6d473-8e0b-482a-ab96-b6086b68ff98",
   "metadata": {},
   "outputs": [],
   "source": [
    "trend_result = TrendAnalysisTool()._run(\"AAPL\", days=90, indicators=[\"SMA\", \"EMA\", \"RSI\", \"MACD\"])\n",
    "print(trend_result)"
   ]
  },
  {
   "cell_type": "code",
   "execution_count": null,
   "id": "37d0044e-17ee-49bd-a851-f9d65da26380",
   "metadata": {},
   "outputs": [],
   "source": [
    "trend_result['SMA_20']"
   ]
  },
  {
   "cell_type": "markdown",
   "id": "210f53b2-434c-408b-9280-3fd47855b9c2",
   "metadata": {},
   "source": [
    "### test date time tool"
   ]
  },
  {
   "cell_type": "code",
   "execution_count": 5,
   "id": "3a5fa63a-1a8a-4e11-b514-874d519c3bcc",
   "metadata": {},
   "outputs": [],
   "source": [
    "from tools.date_time_tool import DateTimeTool"
   ]
  },
  {
   "cell_type": "code",
   "execution_count": 6,
   "id": "8529da24-9843-4ea8-800e-c0ce29509731",
   "metadata": {},
   "outputs": [],
   "source": [
    "date_time = DateTimeTool()"
   ]
  },
  {
   "cell_type": "code",
   "execution_count": 9,
   "id": "91a99c7e-0158-4cb8-889d-33d16d4494f6",
   "metadata": {},
   "outputs": [
    {
     "name": "stdout",
     "output_type": "stream",
     "text": [
      "{'requested_offset_days': 0, 'datetime': '2025-02-24 16:44:55'}\n"
     ]
    }
   ],
   "source": [
    "print(date_time._run())"
   ]
  },
  {
   "cell_type": "code",
   "execution_count": 10,
   "id": "cf1f0d12-5ef9-4def-9c28-86576ef166bb",
   "metadata": {},
   "outputs": [
    {
     "name": "stdout",
     "output_type": "stream",
     "text": [
      "{'requested_offset_days': -30, 'datetime': '2025-01-25 16:45:20'}\n"
     ]
    }
   ],
   "source": [
    "print(date_time._run(-30))"
   ]
  },
  {
   "cell_type": "markdown",
   "id": "692eca78-193b-467d-828b-575ece6776f2",
   "metadata": {},
   "source": [
    "### test unit conversion tool"
   ]
  },
  {
   "cell_type": "code",
   "execution_count": 11,
   "id": "f70de0d1-d0ee-4a30-abfc-8928721f4a75",
   "metadata": {},
   "outputs": [],
   "source": [
    "from tools.unit_conversion_tool import UnitConversionTool"
   ]
  },
  {
   "cell_type": "code",
   "execution_count": 12,
   "id": "0577cd96-124a-44cd-82c1-91101dc52b30",
   "metadata": {},
   "outputs": [],
   "source": [
    "unit_conversion_tool = UnitConversionTool()"
   ]
  },
  {
   "cell_type": "code",
   "execution_count": 13,
   "id": "e29dbfbb-2b5d-4678-babe-0f2da699f835",
   "metadata": {},
   "outputs": [
    {
     "name": "stdout",
     "output_type": "stream",
     "text": [
      "{'original_value': 100, 'from_unit': 'meters', 'to_unit': 'feet', 'converted_value': 328.0839895013123}\n"
     ]
    }
   ],
   "source": [
    "print(unit_conversion_tool._run(value=100, from_unit=\"meters\", to_unit=\"feet\"))"
   ]
  },
  {
   "cell_type": "markdown",
   "id": "a375f5b0-19e0-4138-80d9-c3a926bf52de",
   "metadata": {},
   "source": [
    "### test time zone tool"
   ]
  },
  {
   "cell_type": "code",
   "execution_count": 7,
   "id": "1ed00c19-856f-47a9-8eb5-7fedfc2913d2",
   "metadata": {},
   "outputs": [],
   "source": [
    "from tools.timezone_conversion_tool import TimeZoneTool"
   ]
  },
  {
   "cell_type": "code",
   "execution_count": 8,
   "id": "f24fe2a3-f529-4e85-a9fa-17a5d919aa23",
   "metadata": {},
   "outputs": [],
   "source": [
    "timezone = TimeZoneTool()"
   ]
  },
  {
   "cell_type": "code",
   "execution_count": 10,
   "id": "a6dd656a-2e0a-4202-84e1-a0893cdaf37d",
   "metadata": {},
   "outputs": [
    {
     "name": "stdout",
     "output_type": "stream",
     "text": [
      "{'timezone': 'America/New_York', 'current_time': '2025-02-24 12:10:39'}\n"
     ]
    }
   ],
   "source": [
    "print(timezone._run(timezone=\"America/New_York\"))"
   ]
  },
  {
   "cell_type": "markdown",
   "id": "a3263373-2cbe-4a2a-8db1-dc54e808a632",
   "metadata": {},
   "source": [
    "### calculator tool"
   ]
  },
  {
   "cell_type": "code",
   "execution_count": 3,
   "id": "e2457758-8b4a-4757-a163-cf1339fa693f",
   "metadata": {},
   "outputs": [],
   "source": [
    "from tools.calculator_tool import CalculatorTool"
   ]
  },
  {
   "cell_type": "code",
   "execution_count": 4,
   "id": "c7e2a37f-585c-4900-9764-5d405a9105ce",
   "metadata": {},
   "outputs": [],
   "source": [
    "calc = CalculatorTool()"
   ]
  },
  {
   "cell_type": "code",
   "execution_count": 6,
   "id": "83e98556-e5f0-4b19-adec-4a23e2f0dec5",
   "metadata": {},
   "outputs": [
    {
     "name": "stdout",
     "output_type": "stream",
     "text": [
      "{'expression': 'log2(28)', 'result': 4.807354922057604}\n"
     ]
    }
   ],
   "source": [
    "print(calc._run(expression=\"log2(28)\"))"
   ]
  },
  {
   "cell_type": "markdown",
   "id": "233d5ae4-c556-416f-b45d-84e062fd427d",
   "metadata": {},
   "source": [
    "### search tool"
   ]
  },
  {
   "cell_type": "code",
   "execution_count": 3,
   "id": "56b85187-354a-4040-849b-d3dffa289f78",
   "metadata": {},
   "outputs": [],
   "source": [
    "from tools.search_tool import SearchTool"
   ]
  },
  {
   "cell_type": "code",
   "execution_count": 4,
   "id": "295aad08-7dfb-4690-98c9-f747aed5b1fe",
   "metadata": {},
   "outputs": [],
   "source": [
    "search = SearchTool()"
   ]
  },
  {
   "cell_type": "code",
   "execution_count": 8,
   "id": "d2d970a7-c200-4bf1-8939-f8461e4dc8b9",
   "metadata": {},
   "outputs": [
    {
     "name": "stdout",
     "output_type": "stream",
     "text": [
      "{'query': 'ESP32 S3 wroom buy', 'results': [{'title': 'ESP32-S3-WROOM-1-N8 Module - Amazon.com', 'link': 'https://www.amazon.com/Espressif-ESP32-S3-WROOM-1-N8-Module/dp/B09D3DXR7X', 'snippet': 'It is an ideal choice for a wide variety of application scenarios related to AI and Artificial Intelligence of Things (AIoT), such as wake word detection and speech commands recognition, face detection and recognition, smart home, smart appliances, smart control panel, smart speaker, etc.'}, {'title': 'ESP32-S3-WROOM-1-N8 Espressif Systems - DigiKey', 'link': 'https://www.digikey.com/en/products/detail/espressif-systems/ESP32-S3-WROOM-1-N8/15200089', 'snippet': 'Order today, ships today. ESP32-S3-WROOM-1-N8 – WiFi 802.11a/b/g/n, Bluetooth v5.0 Transceiver Module 2.4GHz PCB Trace from Espressif Systems.'}, {'title': 'ESP32-S3-WROOM-1-N16 Espressif Systems - Mouser Electronics', 'link': 'https://www.mouser.com/ProductDetail/Espressif-Systems/ESP32-S3-WROOM-1-N16?qs=Li%252BoUPsLEntjPrtJwwS5Pw%3D%3D&srsltid=AfmBOoqLXvh_E5Bay-BM8RnMEwY4X8E0k79eMQ5veWr626K1WC4qy1B-', 'snippet': 'Espressif Systems ESP32-S3-WROOM-1/1U Modules are 2.4GHz Wi-Fi (802.11 b/g/n) and BLUETOOTH 5 (LE) modules built around ESP32S3 series of SoCs, Xtensa® dual-core 32bit LX7 microprocessor.'}]}\n"
     ]
    }
   ],
   "source": [
    "print(search._run(query=\"ESP32 S3 wroom buy\", num_results=3))"
   ]
  },
  {
   "cell_type": "markdown",
   "id": "96a5c197-fce9-411a-bb0b-2439842d4cff",
   "metadata": {},
   "source": [
    "### currency exchange tool"
   ]
  },
  {
   "cell_type": "code",
   "execution_count": 3,
   "id": "d5dc441b-114a-4f5d-b5a9-05e9a1b48df3",
   "metadata": {},
   "outputs": [],
   "source": [
    "from tools.currency_exchange_tool import CurrencyExchangeTool"
   ]
  },
  {
   "cell_type": "code",
   "execution_count": 4,
   "id": "261d9a47-fd69-4808-83f2-00164b8d2bb2",
   "metadata": {},
   "outputs": [],
   "source": [
    "currency_exchange_tool = CurrencyExchangeTool()"
   ]
  },
  {
   "cell_type": "code",
   "execution_count": 8,
   "id": "1293a0f9-4731-47e4-9435-af903e6672e9",
   "metadata": {},
   "outputs": [
    {
     "name": "stdout",
     "output_type": "stream",
     "text": [
      "{'from_currency': 'USD', 'to_currency': 'INR', 'amount': 1028, 'converted_amount': 89168.51, 'exchange_rate': 86.7398}\n"
     ]
    }
   ],
   "source": [
    "print(currency_exchange_tool._run(from_currency=\"USD\", to_currency=\"INR\", amount=1028))"
   ]
  },
  {
   "cell_type": "markdown",
   "id": "43ef89be-6a3f-4c0c-b2c2-5b48458e3acf",
   "metadata": {},
   "source": [
    "### weather tool"
   ]
  },
  {
   "cell_type": "code",
   "execution_count": 3,
   "id": "ca4ef7a9-a3c7-4497-b246-16710dab8119",
   "metadata": {},
   "outputs": [],
   "source": [
    "from tools.weather_tool import WeatherTool"
   ]
  },
  {
   "cell_type": "code",
   "execution_count": 8,
   "id": "70264e67-f03f-457b-b1ed-12972366d83e",
   "metadata": {},
   "outputs": [
    {
     "name": "stdout",
     "output_type": "stream",
     "text": [
      "{'location': 'Patna, IN', 'temperature': 26.96, 'feels_like': 26.56, 'humidity': 34, 'pressure': 1015, 'weather': 'broken clouds', 'wind_speed': 3.09, 'visibility': 6000, 'sunrise': '2025-02-25 00:46:41', 'sunset': '2025-02-25 12:18:54'}\n"
     ]
    }
   ],
   "source": [
    "weather_tool = WeatherTool()\n",
    "print(weather_tool._run(\"Patna\"))  # Example usage"
   ]
  },
  {
   "cell_type": "markdown",
   "id": "3e8d7812-e905-499f-befb-4355b50fdbaf",
   "metadata": {},
   "source": [
    "### calender reminder tool"
   ]
  },
  {
   "cell_type": "code",
   "execution_count": 6,
   "id": "9664ab5f-8170-4ed9-9a65-534a584a777e",
   "metadata": {},
   "outputs": [],
   "source": [
    "from tools.calender_reminder_tool import CalendarReminderTool"
   ]
  },
  {
   "cell_type": "code",
   "execution_count": 7,
   "id": "328ed228-4c54-4f6f-bb0c-f84c823c3460",
   "metadata": {},
   "outputs": [],
   "source": [
    "calender_reminder = CalendarReminderTool()"
   ]
  },
  {
   "cell_type": "code",
   "execution_count": 6,
   "id": "b81283a2-4e56-4c05-8639-5e26fbb3efe2",
   "metadata": {},
   "outputs": [
    {
     "data": {
      "text/plain": [
       "{'message': 'Reminder added successfully.'}"
      ]
     },
     "execution_count": 6,
     "metadata": {},
     "output_type": "execute_result"
    }
   ],
   "source": [
    "calender_reminder._run(\"add\", event=\"Meeting\", date=\"2025-02-28\", time=\"14:28\", description=\"Team Eating\")"
   ]
  },
  {
   "cell_type": "code",
   "execution_count": 7,
   "id": "f2356c1d-8024-4f26-9ee7-12d7b64d812b",
   "metadata": {},
   "outputs": [
    {
     "data": {
      "text/plain": [
       "{'message': 'Reminder added successfully.'}"
      ]
     },
     "execution_count": 7,
     "metadata": {},
     "output_type": "execute_result"
    }
   ],
   "source": [
    "calender_reminder._run(\"add\", event=\"Running\", date=\"2025-03-01\", time=\"07:38\", description=\"Running my Ass off\")"
   ]
  },
  {
   "cell_type": "code",
   "execution_count": 10,
   "id": "3412df6d-9119-491b-9054-80567a737311",
   "metadata": {},
   "outputs": [
    {
     "name": "stdout",
     "output_type": "stream",
     "text": [
      "[{'event': 'Running', 'date': '2025-03-01', 'time': '07:38', 'description': 'Running my Ass off'}, {'event': 'Walking with the guest', 'date': '2025-02-28', 'time': '10:00', 'description': ''}]\n"
     ]
    }
   ],
   "source": [
    "print(calender_reminder._run(\"get\"))"
   ]
  },
  {
   "cell_type": "markdown",
   "id": "2d8b22c3-54d5-46d5-bee2-947b473e9aba",
   "metadata": {},
   "source": [
    "### test data retrieval agent"
   ]
  },
  {
   "cell_type": "code",
   "execution_count": 3,
   "id": "0b54fe37-4131-41d9-88e6-0d648ef4fb0f",
   "metadata": {},
   "outputs": [
    {
     "name": "stderr",
     "output_type": "stream",
     "text": [
      "Device set to use mps:0\n"
     ]
    },
    {
     "name": "stdout",
     "output_type": "stream",
     "text": [
      "🔧 Loaded Tools: ['stock_market', 'historical_stock_market', 'trend_analysis', 'news_api', 'sentiment_analysis', 'crypto_market', 'datetime_tool', 'unit_conversion_tool', 'timezone_tool', 'calculator_tool', 'wikipedia_tool', 'search_tool', 'currency_exchange_tool', 'weather_tool', 'calendar_reminder_tool']\n"
     ]
    }
   ],
   "source": [
    "from agents.agent_manager import AgentManager\n",
    "agent = AgentManager()"
   ]
  },
  {
   "cell_type": "code",
   "execution_count": 4,
   "id": "c868c5c0-8184-4593-b505-3a55b0d4405a",
   "metadata": {},
   "outputs": [
    {
     "name": "stdin",
     "output_type": "stream",
     "text": [
      "Ask your financial assistant:  What's the stock price of tesla?\n"
     ]
    },
    {
     "name": "stdout",
     "output_type": "stream",
     "text": [
      "🔍 Processing Query: What's the stock price of tesla?\n",
      "🛠️ Debug: {'agent': {'messages': [AIMessage(content='', additional_kwargs={'tool_calls': [{'id': 'call_Q1CvnUp91LygN9BdfcMIW7Y7', 'function': {'arguments': '{\"ticker\":\"TSLA\"}', 'name': 'stock_market'}, 'type': 'function'}], 'refusal': None}, response_metadata={'token_usage': {'completion_tokens': 16, 'prompt_tokens': 872, 'total_tokens': 888, 'completion_tokens_details': {'accepted_prediction_tokens': 0, 'audio_tokens': 0, 'reasoning_tokens': 0, 'rejected_prediction_tokens': 0}, 'prompt_tokens_details': {'audio_tokens': 0, 'cached_tokens': 0}}, 'model_name': 'gpt-4o-mini-2024-07-18', 'system_fingerprint': 'fp_06737a9306', 'finish_reason': 'tool_calls', 'logprobs': None}, id='run-86a85f1d-23a5-4bd1-a99b-192a99f325e7-0', tool_calls=[{'name': 'stock_market', 'args': {'ticker': 'TSLA'}, 'id': 'call_Q1CvnUp91LygN9BdfcMIW7Y7', 'type': 'tool_call'}], usage_metadata={'input_tokens': 872, 'output_tokens': 16, 'total_tokens': 888, 'input_token_details': {'audio': 0, 'cache_read': 0}, 'output_token_details': {'audio': 0, 'reasoning': 0}})]}}\n",
      "🛠️ Debug: {'tools': {'messages': [ToolMessage(content='{\"ticker\": \"TSLA\", \"latest_price\": 310.81, \"high\": 327.32, \"low\": 310.49, \"volume\": 23991396, \"timestamp\": \"2025-02-25 15:05:59.862850\"}', name='stock_market', id='50a819d3-6efa-499f-b456-825757865a52', tool_call_id='call_Q1CvnUp91LygN9BdfcMIW7Y7')]}}\n",
      "🛠️ Debug: {'agent': {'messages': [AIMessage(content='The current stock price of Tesla (TSLA) is $310.81.', additional_kwargs={'refusal': None}, response_metadata={'token_usage': {'completion_tokens': 18, 'prompt_tokens': 955, 'total_tokens': 973, 'completion_tokens_details': {'accepted_prediction_tokens': 0, 'audio_tokens': 0, 'reasoning_tokens': 0, 'rejected_prediction_tokens': 0}, 'prompt_tokens_details': {'audio_tokens': 0, 'cached_tokens': 0}}, 'model_name': 'gpt-4o-mini-2024-07-18', 'system_fingerprint': 'fp_06737a9306', 'finish_reason': 'stop', 'logprobs': None}, id='run-5967ae37-d85a-46ef-88cb-000a4aa40f92-0', usage_metadata={'input_tokens': 955, 'output_tokens': 18, 'total_tokens': 973, 'input_token_details': {'audio': 0, 'cache_read': 0}, 'output_token_details': {'audio': 0, 'reasoning': 0}})]}}\n",
      "\n",
      "The current stock price of Tesla (TSLA) is $310.81.\n"
     ]
    }
   ],
   "source": [
    "query = input(\"Ask your financial assistant: \")\n",
    "response = agent.process_query(query)\n",
    "# create a table for tesla stock price for last 10 days, include close, open, prev close, also provide latest news on Microsoft.\n",
    "print(response)"
   ]
  },
  {
   "cell_type": "code",
   "execution_count": 8,
   "id": "15072c11-8847-44e5-bd84-ad6e6aa66d5d",
   "metadata": {},
   "outputs": [
    {
     "name": "stdout",
     "output_type": "stream",
     "text": [
      "🔍 Processing Query: Get Tesla's stock price today.\n",
      "🛠️ Debug: {'agent': {'messages': [AIMessage(content='', additional_kwargs={'tool_calls': [{'id': 'call_aXtCOq5s8C9FSBLbpkJpmHbS', 'function': {'arguments': '{\"ticker\":\"TSLA\"}', 'name': 'stock_market'}, 'type': 'function'}], 'refusal': None}, response_metadata={'token_usage': {'completion_tokens': 16, 'prompt_tokens': 459, 'total_tokens': 475, 'completion_tokens_details': {'accepted_prediction_tokens': 0, 'audio_tokens': 0, 'reasoning_tokens': 0, 'rejected_prediction_tokens': 0}, 'prompt_tokens_details': {'audio_tokens': 0, 'cached_tokens': 0}}, 'model_name': 'gpt-4o-mini-2024-07-18', 'system_fingerprint': 'fp_00428b782a', 'finish_reason': 'tool_calls', 'logprobs': None}, id='run-8f7736ce-770a-43af-b901-3094255cbf80-0', tool_calls=[{'name': 'stock_market', 'args': {'ticker': 'TSLA'}, 'id': 'call_aXtCOq5s8C9FSBLbpkJpmHbS', 'type': 'tool_call'}], usage_metadata={'input_tokens': 459, 'output_tokens': 16, 'total_tokens': 475, 'input_token_details': {'audio': 0, 'cache_read': 0}, 'output_token_details': {'audio': 0, 'reasoning': 0}})]}}\n",
      "🛠️ Debug: {'tools': {'messages': [ToolMessage(content='{\"ticker\": \"TSLA\", \"latest_price\": 360.56, \"high\": 367.34, \"low\": 353.74, \"volume\": 66494369, \"timestamp\": \"2025-02-20 13:24:43.296762\"}', name='stock_market', id='1af1b480-e58c-4f53-98a4-2d570a4f9c87', tool_call_id='call_aXtCOq5s8C9FSBLbpkJpmHbS')]}}\n",
      "🛠️ Debug: {'agent': {'messages': [AIMessage(content=\"Tesla's stock price today is $360.56. The day's high was $367.34, and the low was $353.74, with a trading volume of 66,494,369 shares.\", additional_kwargs={'refusal': None}, response_metadata={'token_usage': {'completion_tokens': 44, 'prompt_tokens': 542, 'total_tokens': 586, 'completion_tokens_details': {'accepted_prediction_tokens': 0, 'audio_tokens': 0, 'reasoning_tokens': 0, 'rejected_prediction_tokens': 0}, 'prompt_tokens_details': {'audio_tokens': 0, 'cached_tokens': 0}}, 'model_name': 'gpt-4o-mini-2024-07-18', 'system_fingerprint': 'fp_00428b782a', 'finish_reason': 'stop', 'logprobs': None}, id='run-af867798-7785-4252-9100-9d30d6e4a326-0', usage_metadata={'input_tokens': 542, 'output_tokens': 44, 'total_tokens': 586, 'input_token_details': {'audio': 0, 'cache_read': 0}, 'output_token_details': {'audio': 0, 'reasoning': 0}})]}}\n"
     ]
    },
    {
     "data": {
      "text/plain": [
       "\"\\nTesla's stock price today is $360.56. The day's high was $367.34, and the low was $353.74, with a trading volume of 66,494,369 shares.\""
      ]
     },
     "execution_count": 8,
     "metadata": {},
     "output_type": "execute_result"
    }
   ],
   "source": [
    "# basic stock price \n",
    "query = \"Get Tesla's stock price today.\"\n",
    "agent.process_query(query)"
   ]
  },
  {
   "cell_type": "code",
   "execution_count": 29,
   "id": "306e764a-6df4-421f-8526-0ed0643dc63a",
   "metadata": {},
   "outputs": [
    {
     "name": "stdout",
     "output_type": "stream",
     "text": [
      "🔍 Processing Query: Get Bitcoin price for today. The symbol is BTC/USDT\n",
      "🛠️ Debug: {'agent': {'messages': [AIMessage(content='', additional_kwargs={'tool_calls': [{'id': 'call_2ixQG0TUl08yAQA7ypw8k5IS', 'function': {'arguments': '{\"symbol\":\"BTC/USDT\"}', 'name': 'crypto_market'}, 'type': 'function'}], 'refusal': None}, response_metadata={'token_usage': {'completion_tokens': 18, 'prompt_tokens': 465, 'total_tokens': 483, 'completion_tokens_details': {'accepted_prediction_tokens': 0, 'audio_tokens': 0, 'reasoning_tokens': 0, 'rejected_prediction_tokens': 0}, 'prompt_tokens_details': {'audio_tokens': 0, 'cached_tokens': 0}}, 'model_name': 'gpt-4o-mini-2024-07-18', 'system_fingerprint': 'fp_709714d124', 'finish_reason': 'tool_calls', 'logprobs': None}, id='run-6bcdaf59-9f14-4968-9ab3-d82212eb3a27-0', tool_calls=[{'name': 'crypto_market', 'args': {'symbol': 'BTC/USDT'}, 'id': 'call_2ixQG0TUl08yAQA7ypw8k5IS', 'type': 'tool_call'}], usage_metadata={'input_tokens': 465, 'output_tokens': 18, 'total_tokens': 483, 'input_token_details': {'audio': 0, 'cache_read': 0}, 'output_token_details': {'audio': 0, 'reasoning': 0}})]}}\n",
      "🛠️ Debug: {'tools': {'messages': [ToolMessage(content='{\"symbol\": \"BTC/USDT\", \"latest_price\": 96213.33, \"high\": 96980.0, \"low\": 96083.33, \"volume\": 908089295.11, \"timestamp\": \"2025-02-23 11:16:49\"}', name='crypto_market', id='3d5ee130-16ac-4f23-8ab1-71aef5c9c61b', tool_call_id='call_2ixQG0TUl08yAQA7ypw8k5IS')]}}\n",
      "🛠️ Debug: {'agent': {'messages': [AIMessage(content='The current price of Bitcoin (BTC/USDT) is $96,213.33. \\n\\nHere are some additional details:\\n- 24h High: $96,980.00\\n- 24h Low: $96,083.33\\n- 24h Volume: $908,089,295.11', additional_kwargs={'refusal': None}, response_metadata={'token_usage': {'completion_tokens': 68, 'prompt_tokens': 554, 'total_tokens': 622, 'completion_tokens_details': {'accepted_prediction_tokens': 0, 'audio_tokens': 0, 'reasoning_tokens': 0, 'rejected_prediction_tokens': 0}, 'prompt_tokens_details': {'audio_tokens': 0, 'cached_tokens': 0}}, 'model_name': 'gpt-4o-mini-2024-07-18', 'system_fingerprint': 'fp_709714d124', 'finish_reason': 'stop', 'logprobs': None}, id='run-048130db-e996-4e99-9ae8-f8792b6b3872-0', usage_metadata={'input_tokens': 554, 'output_tokens': 68, 'total_tokens': 622, 'input_token_details': {'audio': 0, 'cache_read': 0}, 'output_token_details': {'audio': 0, 'reasoning': 0}})]}}\n"
     ]
    },
    {
     "data": {
      "text/plain": [
       "'\\nThe current price of Bitcoin (BTC/USDT) is $96,213.33. \\n\\nHere are some additional details:\\n- 24h High: $96,980.00\\n- 24h Low: $96,083.33\\n- 24h Volume: $908,089,295.11'"
      ]
     },
     "execution_count": 29,
     "metadata": {},
     "output_type": "execute_result"
    }
   ],
   "source": [
    "# crypto price retrieval\n",
    "query = \"Get Bitcoin price for today. The symbol is BTC/USDT\"\n",
    "agent.process_query(query)"
   ]
  },
  {
   "cell_type": "code",
   "execution_count": null,
   "id": "6a8a5d42-50e3-424f-848d-3b227cbb3adf",
   "metadata": {},
   "outputs": [],
   "source": [
    "# sentiment analysis fo financial news\n",
    "query = \"Analyze sentiment on Tesla stock based on recent news.\"\n",
    "agent.query(query)"
   ]
  },
  {
   "cell_type": "code",
   "execution_count": 32,
   "id": "c33f0322-20c2-4a7d-81ce-3b4aaa335e0a",
   "metadata": {},
   "outputs": [
    {
     "name": "stdout",
     "output_type": "stream",
     "text": [
      "🔍 Processing Query: Analyze trend of Apple stock using SMA, EMA, and RSI. Create a table for replresentation of output\n",
      "🛠️ Debug: {'agent': {'messages': [AIMessage(content='', additional_kwargs={'tool_calls': [{'id': 'call_Ebr1VmLa7RZhhDmC9o4bnPJu', 'function': {'arguments': '{\"ticker\":\"AAPL\",\"indicators\":[\"SMA\",\"EMA\",\"RSI\"]}', 'name': 'trend_analysis'}, 'type': 'function'}], 'refusal': None}, response_metadata={'token_usage': {'completion_tokens': 29, 'prompt_tokens': 473, 'total_tokens': 502, 'completion_tokens_details': {'accepted_prediction_tokens': 0, 'audio_tokens': 0, 'reasoning_tokens': 0, 'rejected_prediction_tokens': 0}, 'prompt_tokens_details': {'audio_tokens': 0, 'cached_tokens': 0}}, 'model_name': 'gpt-4o-mini-2024-07-18', 'system_fingerprint': 'fp_709714d124', 'finish_reason': 'tool_calls', 'logprobs': None}, id='run-855bc24b-c251-49fe-ae7a-bf5de95c5b01-0', tool_calls=[{'name': 'trend_analysis', 'args': {'ticker': 'AAPL', 'indicators': ['SMA', 'EMA', 'RSI']}, 'id': 'call_Ebr1VmLa7RZhhDmC9o4bnPJu', 'type': 'tool_call'}], usage_metadata={'input_tokens': 473, 'output_tokens': 29, 'total_tokens': 502, 'input_token_details': {'audio': 0, 'cache_read': 0}, 'output_token_details': {'audio': 0, 'reasoning': 0}})]}}\n",
      "🛠️ Debug: {'tools': {'messages': [ToolMessage(content='{\"ticker\": \"AAPL\", \"SMA_20\": [236.09850000000003, 235.00400000000002, 233.904, 232.79250000000002, 232.06800000000004, 231.25100000000003, 231.06800000000004, 230.88850000000002, 230.97750000000002, 231.4375, 232.19100000000003, 232.64050000000003, 233.26700000000002, 233.79500000000002, 234.58700000000002, 235.30800000000002, 236.0385, 236.85, 237.888, 239.305, 240.92950000000002, 242.47100000000003, 243.769, 245.03950000000003, 246.21450000000002, 247.35350000000003, 247.86650000000003, 248.6005, 249.205, 249.75100000000003, 249.95350000000002, 249.985, 249.887, 249.86950000000002, 249.8095, 249.26800000000003, 248.5245, 247.4915, 246.29350000000002, 245.02700000000002, 243.757, 242.45850000000002, 241.419, 240.4305, 239.15750000000003, 237.8555, 236.86, 235.71800000000002, 234.60500000000002, 233.428, 232.4385, 231.6705, 230.6545, 229.6765, 228.6445, 227.81050000000002, 227.23950000000002, 226.99800000000002, 226.92850000000004, 226.955, 227.03199999999998, 227.1345, 227.22250000000003, 227.6015, 228.0245, 228.5245, 228.721, 229.05400000000003, 229.53500000000003, 229.88850000000002, 229.918], \"EMA_20\": [245.55, 245.57666666666668, 245.5093650793651, 245.41037792894937, 245.33319907857324, 244.97098964251865, 244.19946681942164, 243.0966604556672, 241.62554993607986, 240.29264041835796, 239.6190556166096, 238.9381931769325, 238.35360335055796, 237.36849826955245, 237.23816510102364, 237.27167318664044, 237.47056145457944, 237.54574607795283, 236.81377026100495, 235.4772207123378, 234.35177112068658, 233.3496976806212, 232.32972647294298, 232.10594299932936, 231.73966271367894, 232.32350435999524, 232.41459918285284, 232.6036849749621, 233.00809592972763, 233.9311344126107, 234.71959780188587, 235.6986837255158, 236.42833289451428, 237.13515833313198, 238.40038134902417, 239.7146307443552, 241.2265706734642, 242.92118299027715, 244.37630841977455, 245.4138028559865, 246.27820258398776, 246.61265948075084, 246.74954905401268, 247.39054438220194, 247.738111583897, 247.77543429019252, 247.79301197684086, 247.66891559809412, 247.67854268398992, 247.59011004741944, 247.13771861433187, 246.7474596986812, 246.39151115594967, 246.03517676014494, 245.4213504020359, 244.650745601842, 243.72496030642847, 242.89972599153052, 241.94451399233714, 240.7945602787812, 239.6255545379449, 238.61359696290253, 237.62944487119753, 236.7142596453692, 235.59861586961975, 234.8958905487036, 233.96485335358895, 233.03772446277097, 232.19889356155468, 231.69995131759708, 231.29805119211164, 230.48109393572005, 229.81146594184196, 229.06846918547606, 228.48194831066883, 228.23700085250988, 228.41442934274704, 228.91495988153304, 229.34210655948226, 229.53904879191253, 229.6372346212542, 229.74416465732523, 230.3266251661514, 230.91266086461317, 231.30193125845955, 231.38269971003484, 231.42053783288867, 231.65191518213737, 231.61839945050525, 231.2309328361714], \"RSI_14\": [37.496726891856504, 39.569620253164565, 43.1654676258993, 42.42867593269935, 35.044642857142904, 32.40758115969227, 36.65926075540296, 40.325775918996285, 43.98559423769507, 52.399428221360004, 44.50110864745011, 55.003706449221646, 50.41222947440741, 55.857011915673695, 50.8671699653132, 54.79632063074899, 52.74091171379111, 56.277943368107316, 64.38618925831202, 76.12199355318621, 79.07431551499349, 79.7816502204493, 83.0624122014851, 81.62020905923349, 83.25188804975572, 72.69170579029742, 80.71242397914867, 70.19155077407508, 64.97326203208561, 64.57544618712822, 61.34086822501927, 54.0076824583867, 56.12027674294839, 53.42323651452284, 46.017433122933596, 41.61796370347586, 30.69936421435054, 23.187919463087198, 23.819372630127475, 26.13464447806348, 24.05988857938712, 26.293759512937555, 25.649591685226355, 7.43992606284651, 7.526881720430069, 7.49534450651764, 7.105030891438602, 9.64467005076132, 3.837044054950141, 3.9803439803438607, 4.162384378211584, 17.037366548042655, 14.990215264187839, 14.685582822085834, 16.637706342310977, 27.926777352064704, 32.76260990282272, 26.486280487804848, 30.99273607748178, 33.074935400516736, 37.68115942028981, 43.89086595492288, 53.16411682892906, 58.808855628313026, 64.32469304229198, 55.67817728729085, 60.54974835462639, 62.99243931555911, 69.23585841878933, 66.92745376955904, 62.929848693260006, 67.35369893264634, 65.5352480417755, 71.57434402332365, 64.42076314884847, 52.747989276139435]}', name='trend_analysis', id='d6ad3011-539c-4b1c-ad6b-b77208d864ab', tool_call_id='call_Ebr1VmLa7RZhhDmC9o4bnPJu')]}}\n",
      "🛠️ Debug: {'agent': {'messages': [AIMessage(content=\"Here's the trend analysis for Apple Inc. (AAPL) using SMA (Simple Moving Average), EMA (Exponential Moving Average), and RSI (Relative Strength Index):\\n\\n| Indicator      | Values                                                                                                                       |\\n|----------------|------------------------------------------------------------------------------------------------------------------------------|\\n| **SMA (20)**   | 236.10, 235.00, 233.90, 232.79, 232.07, 231.25, 231.07, 230.89, 230.98, 231.44, 232.19, 232.64, 233.27, 233.80, 234.59, 235.31, <br> 236.04, 236.85, 237.89, 239.31, 240.93, 242.47, 243.77, 245.04, 246.21, 247.35, 247.87, 248.60, 249.20, 249.75, 249.95, 249.99, 249.89, 249.87, 249.87, 249.27, 248.52, 247.49, 246.29, 245.03, 243.76, 242.46, 241.42, 240.43, 239.16, 237.86, 236.86, 235.72, 234.61, 233.43, 232.44, 231.67, 230.65, 229.68, 228.64, 227.81, 227.24, 227.00, 226.93, 226.96, 227.03, 227.13, 227.22, 227.60, 228.02, 228.52, 228.72, 229.05, 229.54, 229.89, 229.92      |\\n| **EMA (20)**   | 245.55, 245.58, 245.51, 245.41, 245.33, 244.97, 244.20, 243.10, 241.63, 240.29, 239.62, 238.94, 238.35, 237.37, 237.24, 237.27, <br> 237.47, 237.55, 236.81, 235.48, 234.35, 233.35, 232.33, 232.11, 231.74, 232.32, 232.41, 232.60, 233.01, 233.93, 234.72, 235.70, 236.43, 237.14, 238.40, 239.71, 241.23, 242.92, 244.38, 245.41, 246.28, 246.61, 246.75, 247.39, 247.74, 247.78, 247.79, 247.67, 247.68, 247.59, 247.14, 246.75, 246.39, 246.04, 245.42, 244.65, 243.72, 242.90, 241.94, 240.79, 239.63, 238.61, 237.63, 236.71, 235.60, 234.90, 233.96, 233.04, 232.20, 231.70, 231.30, 230.48, 229.81, 229.07, 228.48, 228.24, 228.41, 228.91, 229.34, 229.54, 229.64, 229.74, 230.33, 230.91, 231.30, 231.38, 231.42, 231.65, 231.62, 231.23          |\\n| **RSI (14)**   | 37.50, 39.57, 43.17, 42.43, 35.04, 32.41, 36.66, 40.33, 44.00, 52.40, 44.50, 55.00, 50.41, 55.86, 50.87, 54.80, <br> 52.74, 56.28, 64.39, 76.12, 79.07, 79.78, 83.06, 81.62, 83.25, 72.69, 80.71, 70.19, 64.97, 64.58, 61.34, 54.01, 56.12, 53.42, 46.02, 41.62, 30.70, 23.19, 23.82, 26.13, 24.06, 26.29, 25.65, 7.44, 7.53, 7.50, 7.11, 9.64, 3.84, 3.98, 4.16, 17.04, 14.99, 14.69, 16.64, 27.93, 32.76, 26.49, 30.99, 33.07, 37.68, 43.89, 53.16, 58.81, 64.32, 55.68, 60.55, 62.99, 69.24, 66.93, 62.93, 67.35, 65.54, 71.57, 64.42, 52.75      |\\n\\nThis table presents the latest calculated values for the SMA, EMA, and RSI indicators for Apple Inc. stock. If you need further analysis or details, feel free to ask!\", additional_kwargs={'refusal': None}, response_metadata={'token_usage': {'completion_tokens': 1307, 'prompt_tokens': 2550, 'total_tokens': 3857, 'completion_tokens_details': {'accepted_prediction_tokens': 0, 'audio_tokens': 0, 'reasoning_tokens': 0, 'rejected_prediction_tokens': 0}, 'prompt_tokens_details': {'audio_tokens': 0, 'cached_tokens': 2432}}, 'model_name': 'gpt-4o-mini-2024-07-18', 'system_fingerprint': 'fp_709714d124', 'finish_reason': 'stop', 'logprobs': None}, id='run-c05e07bc-9721-4d8a-a65f-e7cd6dbdaaff-0', usage_metadata={'input_tokens': 2550, 'output_tokens': 1307, 'total_tokens': 3857, 'input_token_details': {'audio': 0, 'cache_read': 2432}, 'output_token_details': {'audio': 0, 'reasoning': 0}})]}}\n",
      "\n",
      "Here's the trend analysis for Apple Inc. (AAPL) using SMA (Simple Moving Average), EMA (Exponential Moving Average), and RSI (Relative Strength Index):\n",
      "\n",
      "| Indicator      | Values                                                                                                                       |\n",
      "|----------------|------------------------------------------------------------------------------------------------------------------------------|\n",
      "| **SMA (20)**   | 236.10, 235.00, 233.90, 232.79, 232.07, 231.25, 231.07, 230.89, 230.98, 231.44, 232.19, 232.64, 233.27, 233.80, 234.59, 235.31, <br> 236.04, 236.85, 237.89, 239.31, 240.93, 242.47, 243.77, 245.04, 246.21, 247.35, 247.87, 248.60, 249.20, 249.75, 249.95, 249.99, 249.89, 249.87, 249.87, 249.27, 248.52, 247.49, 246.29, 245.03, 243.76, 242.46, 241.42, 240.43, 239.16, 237.86, 236.86, 235.72, 234.61, 233.43, 232.44, 231.67, 230.65, 229.68, 228.64, 227.81, 227.24, 227.00, 226.93, 226.96, 227.03, 227.13, 227.22, 227.60, 228.02, 228.52, 228.72, 229.05, 229.54, 229.89, 229.92      |\n",
      "| **EMA (20)**   | 245.55, 245.58, 245.51, 245.41, 245.33, 244.97, 244.20, 243.10, 241.63, 240.29, 239.62, 238.94, 238.35, 237.37, 237.24, 237.27, <br> 237.47, 237.55, 236.81, 235.48, 234.35, 233.35, 232.33, 232.11, 231.74, 232.32, 232.41, 232.60, 233.01, 233.93, 234.72, 235.70, 236.43, 237.14, 238.40, 239.71, 241.23, 242.92, 244.38, 245.41, 246.28, 246.61, 246.75, 247.39, 247.74, 247.78, 247.79, 247.67, 247.68, 247.59, 247.14, 246.75, 246.39, 246.04, 245.42, 244.65, 243.72, 242.90, 241.94, 240.79, 239.63, 238.61, 237.63, 236.71, 235.60, 234.90, 233.96, 233.04, 232.20, 231.70, 231.30, 230.48, 229.81, 229.07, 228.48, 228.24, 228.41, 228.91, 229.34, 229.54, 229.64, 229.74, 230.33, 230.91, 231.30, 231.38, 231.42, 231.65, 231.62, 231.23          |\n",
      "| **RSI (14)**   | 37.50, 39.57, 43.17, 42.43, 35.04, 32.41, 36.66, 40.33, 44.00, 52.40, 44.50, 55.00, 50.41, 55.86, 50.87, 54.80, <br> 52.74, 56.28, 64.39, 76.12, 79.07, 79.78, 83.06, 81.62, 83.25, 72.69, 80.71, 70.19, 64.97, 64.58, 61.34, 54.01, 56.12, 53.42, 46.02, 41.62, 30.70, 23.19, 23.82, 26.13, 24.06, 26.29, 25.65, 7.44, 7.53, 7.50, 7.11, 9.64, 3.84, 3.98, 4.16, 17.04, 14.99, 14.69, 16.64, 27.93, 32.76, 26.49, 30.99, 33.07, 37.68, 43.89, 53.16, 58.81, 64.32, 55.68, 60.55, 62.99, 69.24, 66.93, 62.93, 67.35, 65.54, 71.57, 64.42, 52.75      |\n",
      "\n",
      "This table presents the latest calculated values for the SMA, EMA, and RSI indicators for Apple Inc. stock. If you need further analysis or details, feel free to ask!\n"
     ]
    }
   ],
   "source": [
    "# trend analysis on stock\n",
    "query = \"Analyze trend of Apple stock using SMA, EMA, and RSI. Create a table for replresentation of output\"\n",
    "print(agent.process_query(query))"
   ]
  },
  {
   "cell_type": "code",
   "execution_count": 33,
   "id": "b7eb30aa-eb5a-4d26-a7ba-74206fddc6d6",
   "metadata": {},
   "outputs": [
    {
     "name": "stdout",
     "output_type": "stream",
     "text": [
      "🔍 Processing Query: My financial query is to write me a song on latest microdoft news.\n",
      "🛠️ Debug: {'agent': {'messages': [AIMessage(content='', additional_kwargs={'tool_calls': [{'id': 'call_yrK2UbsCrPlb2P19WxK0Xa9f', 'function': {'arguments': '{\"query\":\"Microsoft\",\"language\":\"en\",\"sort_by\":\"publishedAt\",\"max_results\":5}', 'name': 'news_api'}, 'type': 'function'}], 'refusal': None}, response_metadata={'token_usage': {'completion_tokens': 30, 'prompt_tokens': 468, 'total_tokens': 498, 'completion_tokens_details': {'accepted_prediction_tokens': 0, 'audio_tokens': 0, 'reasoning_tokens': 0, 'rejected_prediction_tokens': 0}, 'prompt_tokens_details': {'audio_tokens': 0, 'cached_tokens': 0}}, 'model_name': 'gpt-4o-mini-2024-07-18', 'system_fingerprint': 'fp_709714d124', 'finish_reason': 'tool_calls', 'logprobs': None}, id='run-23b734c3-23ab-41e8-a3c9-562bf1c8f3eb-0', tool_calls=[{'name': 'news_api', 'args': {'query': 'Microsoft', 'language': 'en', 'sort_by': 'publishedAt', 'max_results': 5}, 'id': 'call_yrK2UbsCrPlb2P19WxK0Xa9f', 'type': 'tool_call'}], usage_metadata={'input_tokens': 468, 'output_tokens': 30, 'total_tokens': 498, 'input_token_details': {'audio': 0, 'cache_read': 0}, 'output_token_details': {'audio': 0, 'reasoning': 0}})]}}\n",
      "🛠️ Debug: {'tools': {'messages': [ToolMessage(content='[{\"title\": \"How to set your preferred web browser on your desktop and mobile devices\", \"source\": \"Fox News\", \"published_at\": \"2025-02-22T11:00:12Z\", \"url\": \"https://www.foxnews.com/tech/how-set-your-preferred-web-browser-your-desktop-mobile-devices\"}, {\"title\": \"HONOR to demo AI deepfake detection at MWC Barcelona, rollout set for April 2025\", \"source\": \"Yugatech.com\", \"published_at\": \"2025-02-22T10:31:39Z\", \"url\": \"https://www.yugatech.com/news/honor-to-demo-ai-deepfake-detection-at-mwc-barcelona-rollout-set-for-april-2025/\"}, {\"title\": \"Microsoft’s New Quantum Computer, Summed Up In 3 Words\", \"source\": \"The National Interest \", \"published_at\": \"2025-02-22T10:00:00Z\", \"url\": \"https://nationalinterest.org/blog/techland/microsofts-new-quantum-computer-summed-up-in-3-words/\"}, {\"title\": \"Microsoft Edge get three security patches in the latest update\", \"source\": \"Neowin\", \"published_at\": \"2025-02-22T09:58:01Z\", \"url\": \"https://www.neowin.net/news/microsoft-edge-get-three-security-patches-in-the-latest-update/\"}, {\"title\": \"Pythonで作成した物体検出アプリをC++、C#でWindowsネイティブアプリに作り直した話 - Qiita\", \"source\": \"Qiita.com\", \"published_at\": \"2025-02-22T08:48:57Z\", \"url\": \"https://qiita.com/calcMCalcm/items/b75addda2974fa76b91a\"}]', name='news_api', id='fc307c7c-7edc-4069-afdf-489974ceeb93', tool_call_id='call_yrK2UbsCrPlb2P19WxK0Xa9f')]}}\n",
      "🛠️ Debug: {'agent': {'messages': [AIMessage(content=\"Here’s a creative song inspired by the latest Microsoft news:\\n\\n---\\n\\n**Verse 1**  \\nIn the tech world where innovation plays,  \\nMicrosoft’s shining brighter these days,  \\nWith a new quantum dream, they’re reaching for the skies,  \\nSummed up in three words, watch as it flies!\\n\\n**Chorus**  \\nOh, Microsoft, leading the way,  \\nWith Edge’s updates keeping hackers at bay,  \\nFrom browsers to clouds, you’re changing the game,  \\nIn this digital world, we’re calling your name!\\n\\n**Verse 2**  \\nEdge gets security, three patches in line,  \\nProtecting our data, making it shine,  \\nWhile over in Barcelona, they show what’s new,  \\nAI deepfake detection, just for you!\\n\\n**Chorus**  \\nOh, Microsoft, leading the way,  \\nWith Edge’s updates keeping hackers at bay,  \\nFrom browsers to clouds, you’re changing the game,  \\nIn this digital world, we’re calling your name!\\n\\n**Bridge**  \\nFrom Python to C#, they’re rewriting the code,  \\nA journey of learning, in this tech abode,  \\nWith each step forward, they break through the mold,  \\nIn the story of progress, their legacy’s gold.\\n\\n**Chorus**  \\nOh, Microsoft, leading the way,  \\nWith Edge’s updates keeping hackers at bay,  \\nFrom browsers to clouds, you’re changing the game,  \\nIn this digital world, we’re calling your name!\\n\\n**Outro**  \\nSo here’s to the future, bright and bold,  \\nWith Microsoft leading, our story unfolds,  \\nFrom quantum dreams to secure browsers' embrace,  \\nIn the tech melody, they’re setting the pace!\\n\\n---\\n\\nFeel free to tweak any lines to better fit your style!\", additional_kwargs={'refusal': None}, response_metadata={'token_usage': {'completion_tokens': 361, 'prompt_tokens': 910, 'total_tokens': 1271, 'completion_tokens_details': {'accepted_prediction_tokens': 0, 'audio_tokens': 0, 'reasoning_tokens': 0, 'rejected_prediction_tokens': 0}, 'prompt_tokens_details': {'audio_tokens': 0, 'cached_tokens': 0}}, 'model_name': 'gpt-4o-mini-2024-07-18', 'system_fingerprint': 'fp_709714d124', 'finish_reason': 'stop', 'logprobs': None}, id='run-839f089c-b4a6-4075-bf12-f3c8f2ef3847-0', usage_metadata={'input_tokens': 910, 'output_tokens': 361, 'total_tokens': 1271, 'input_token_details': {'audio': 0, 'cache_read': 0}, 'output_token_details': {'audio': 0, 'reasoning': 0}})]}}\n",
      "\n",
      "Here’s a creative song inspired by the latest Microsoft news:\n",
      "\n",
      "---\n",
      "\n",
      "**Verse 1**  \n",
      "In the tech world where innovation plays,  \n",
      "Microsoft’s shining brighter these days,  \n",
      "With a new quantum dream, they’re reaching for the skies,  \n",
      "Summed up in three words, watch as it flies!\n",
      "\n",
      "**Chorus**  \n",
      "Oh, Microsoft, leading the way,  \n",
      "With Edge’s updates keeping hackers at bay,  \n",
      "From browsers to clouds, you’re changing the game,  \n",
      "In this digital world, we’re calling your name!\n",
      "\n",
      "**Verse 2**  \n",
      "Edge gets security, three patches in line,  \n",
      "Protecting our data, making it shine,  \n",
      "While over in Barcelona, they show what’s new,  \n",
      "AI deepfake detection, just for you!\n",
      "\n",
      "**Chorus**  \n",
      "Oh, Microsoft, leading the way,  \n",
      "With Edge’s updates keeping hackers at bay,  \n",
      "From browsers to clouds, you’re changing the game,  \n",
      "In this digital world, we’re calling your name!\n",
      "\n",
      "**Bridge**  \n",
      "From Python to C#, they’re rewriting the code,  \n",
      "A journey of learning, in this tech abode,  \n",
      "With each step forward, they break through the mold,  \n",
      "In the story of progress, their legacy’s gold.\n",
      "\n",
      "**Chorus**  \n",
      "Oh, Microsoft, leading the way,  \n",
      "With Edge’s updates keeping hackers at bay,  \n",
      "From browsers to clouds, you’re changing the game,  \n",
      "In this digital world, we’re calling your name!\n",
      "\n",
      "**Outro**  \n",
      "So here’s to the future, bright and bold,  \n",
      "With Microsoft leading, our story unfolds,  \n",
      "From quantum dreams to secure browsers' embrace,  \n",
      "In the tech melody, they’re setting the pace!\n",
      "\n",
      "---\n",
      "\n",
      "Feel free to tweak any lines to better fit your style!\n"
     ]
    }
   ],
   "source": [
    "# multiple tool calls\n",
    "query = \"My financial query is to write me a song on latest microdoft news.\"\n",
    "response = agent.process_query(query)\n",
    "print(response)"
   ]
  },
  {
   "cell_type": "code",
   "execution_count": 7,
   "id": "62e6c429-79ab-486b-90e1-a04af5bc580f",
   "metadata": {},
   "outputs": [
    {
     "name": "stdout",
     "output_type": "stream",
     "text": [
      "{'response': \"\\nTesla's stock price today is $360.56. The day's high was $367.34, and the low was $353.74, with a trading volume of 66,494,369 shares.\"}\n"
     ]
    }
   ],
   "source": [
    "import requests\n",
    "\n",
    "url = \"http://localhost:8000/query\"\n",
    "data = {\"query\": \"What is Tesla's stock price today?\"}\n",
    "response = requests.post(url, json=data)\n",
    "\n",
    "print(response.json())  # Output: {'response': 'Tesla's stock price is $360.56'}"
   ]
  },
  {
   "cell_type": "code",
   "execution_count": null,
   "id": "ca74439a-ddf9-49bd-ac9d-b3fda1c1a7b4",
   "metadata": {},
   "outputs": [],
   "source": []
  },
  {
   "cell_type": "code",
   "execution_count": null,
   "id": "65967bb1-31c3-4fd4-98ba-732c4bfb61a4",
   "metadata": {},
   "outputs": [],
   "source": []
  },
  {
   "cell_type": "code",
   "execution_count": null,
   "id": "fd3d9697-86b0-4b86-b89c-c79139be81a3",
   "metadata": {},
   "outputs": [],
   "source": []
  },
  {
   "cell_type": "code",
   "execution_count": null,
   "id": "fd018706-85c0-4f4a-bab0-fdef7f689c4d",
   "metadata": {},
   "outputs": [],
   "source": [
    "import json\n",
    "from tools.stock_market_tool import StockMarketTool\n",
    "from tools.news_api_tool import NewsAPITool\n",
    "from tools.sentiment_analysis_tool import SentimentAnalysisTool\n",
    "from llm_wrapper import ChatModel  # OpenAI/Ollama Wrapper\n",
    "\n",
    "class FinancialReActAgent:\n",
    "    def __init__(self):\n",
    "        self.chat_model = ChatModel(system_prompt=\"You are a financial assistant using ReAct reasoning.\")\n",
    "        self.history = []  # Stores previous thoughts, actions, observations\n",
    "\n",
    "    def query(self, user_query):\n",
    "        thought_history = []\n",
    "        observations = []\n",
    "\n",
    "        # ReAct Loop: Thought → Action → Observation → Refinement\n",
    "        for _ in range(5):  # Limit to prevent infinite loops\n",
    "            # LLM generates reasoning + JSON tool calls\n",
    "            input_prompt = f\"Previous Observations: {observations}\\n\\nQuestion: {user_query}\\n\\nThought:\"\n",
    "            response = self.chat_model(input_prompt)  \n",
    "            response_json = json.loads(response)\n",
    "\n",
    "            # Extract Thought & Tool Calls\n",
    "            thought = response_json.get(\"thought\", \"\")\n",
    "            tool_calls = response_json.get(\"tool_calls\", [])\n",
    "\n",
    "            # Store Thought History\n",
    "            thought_history.append(thought)\n",
    "\n",
    "            # Execute Tool Calls\n",
    "            new_observations = []\n",
    "            for tool_call in tool_calls:\n",
    "                tool_name = tool_call[\"tool\"]\n",
    "                function_name = tool_call[\"function\"]\n",
    "                parameters = tool_call[\"parameters\"]\n",
    "\n",
    "                result = self.execute_tool(tool_name, function_name, parameters)\n",
    "                new_observations.append(result)\n",
    "\n",
    "            # Update Observations\n",
    "            observations.append({\"thought\": thought, \"results\": new_observations})\n",
    "\n",
    "            # Check for Final Answer\n",
    "            if response_json.get(\"final_answer\"):\n",
    "                return response_json[\"final_answer\"]\n",
    "\n",
    "        return {\"error\": \"Max reasoning steps reached without finding an answer.\"}\n",
    "\n",
    "    def execute_tool(self, tool_name, function_name, parameters):\n",
    "        \"\"\"Executes the correct tool function dynamically.\"\"\"\n",
    "        tools = {\n",
    "            \"StockMarketTool\": StockMarketTool,\n",
    "            \"NewsAPITool\": NewsAPITool,\n",
    "            \"SentimentAnalysisTool\": SentimentAnalysisTool,\n",
    "        }\n",
    "\n",
    "        if tool_name in tools:\n",
    "            tool_class = tools[tool_name]()\n",
    "            if hasattr(tool_class, function_name):\n",
    "                return getattr(tool_class, function_name)(**parameters)\n",
    "\n",
    "        return {\"error\": f\"Unknown tool: {tool_name}.{function_name}\"}\n"
   ]
  },
  {
   "cell_type": "code",
   "execution_count": null,
   "id": "fc637ec3-5a96-4afe-85cc-0cc060633e3d",
   "metadata": {},
   "outputs": [],
   "source": []
  },
  {
   "cell_type": "code",
   "execution_count": null,
   "id": "6cc8c84c-bb08-44ef-bf6a-90392c57ad26",
   "metadata": {},
   "outputs": [],
   "source": []
  },
  {
   "cell_type": "code",
   "execution_count": null,
   "id": "2b28591d-9259-4785-b7f0-fc96ce18ccb6",
   "metadata": {},
   "outputs": [],
   "source": []
  },
  {
   "cell_type": "code",
   "execution_count": null,
   "id": "17acae60-178f-48d7-98fe-8f7bc8fd05fa",
   "metadata": {},
   "outputs": [],
   "source": []
  },
  {
   "cell_type": "code",
   "execution_count": null,
   "id": "18256e35-d007-4a76-9e67-de6dab9639aa",
   "metadata": {},
   "outputs": [],
   "source": []
  },
  {
   "cell_type": "code",
   "execution_count": null,
   "id": "bca227d3-4d10-4155-bf09-7fd3a7e86e65",
   "metadata": {},
   "outputs": [],
   "source": []
  }
 ],
 "metadata": {
  "kernelspec": {
   "display_name": "Python 3 (ipykernel)",
   "language": "python",
   "name": "python3"
  },
  "language_info": {
   "codemirror_mode": {
    "name": "ipython",
    "version": 3
   },
   "file_extension": ".py",
   "mimetype": "text/x-python",
   "name": "python",
   "nbconvert_exporter": "python",
   "pygments_lexer": "ipython3",
   "version": "3.13.2"
  }
 },
 "nbformat": 4,
 "nbformat_minor": 5
}
